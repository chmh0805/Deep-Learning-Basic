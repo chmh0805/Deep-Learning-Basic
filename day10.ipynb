{
 "cells": [
  {
   "cell_type": "markdown",
   "metadata": {},
   "source": [
    "# 2. 크롤링(crawling) 이해 및 기본"
   ]
  },
  {
   "cell_type": "markdown",
   "metadata": {},
   "source": [
    "## 2.1. 크롤링(crawling) 이란?\n",
    "- Web상에 존재하는 Contents를 수집하는 작업 (프로그래밍으로 자동화 가능)\n",
    "    1. HTML 페이지를 가져와서, HTML/CSS등을 파싱하고, 필요한 데이터만 추출하는 기법\n",
    "    2. Open API(Rest API)를 제공하는 서비스에 Open API를 호출해서, 받은 데이터 중 필요한 데이터만 추출하는 기법\n",
    "    3. Selenium등 브라우저를 프로그래밍으로 조작해서, 필요한 데이터만 추출하는 기법"
   ]
  },
  {
   "cell_type": "markdown",
   "metadata": {},
   "source": [
    "## 2.2. BeautifulSoup 라이브러리를 활용한 초간단 예제\n",
    "- HTML의 태그를 파싱해서 필요한 데이터만 추출하는 함수를 제공하는 라이브러리\n",
    "- BeautifulSoup 라이브러리 페이지\n",
    "- 설치 방법\n",
    "    - pip install bs4"
   ]
  },
  {
   "cell_type": "code",
   "execution_count": 1,
   "metadata": {},
   "outputs": [
    {
     "name": "stdout",
     "output_type": "stream",
     "text": [
      "잔금대출에도 DTI 규제 적용 검토\n"
     ]
    }
   ],
   "source": [
    "import requests\n",
    "from bs4 import BeautifulSoup\n",
    "\n",
    "# 1) reqeusts 라이브러리를 활용한 HTML 페이지 요청\n",
    "# 1-1) res 객체에 HTML 데이터가 저장되고, res.content로 데이터를 추출할 수 있음\n",
    "res = requests.get('http://v.media.daum.net/v/20170615203441266')\n",
    "\n",
    "# print(res.content)\n",
    "\n",
    "# 2) HTML 페이지 파싱 BeautifulSoup(HTML데이터, 파싱방법)\n",
    "soup = BeautifulSoup(res.content, 'html.parser')\n",
    "\n",
    "# 3) 필요한 데이터 검색\n",
    "title = soup.find('title')\n",
    "\n",
    "# 4) 필요한 데이터 추출\n",
    "print(title.get_text())"
   ]
  },
  {
   "cell_type": "markdown",
   "metadata": {},
   "source": [
    "## 2.3. BeautifulSoup 라이브러리 활용 다양한 예제\n",
    "- find() 와 find_all() 메서드 사용법 이해하기\n",
    "- find() : 가장 먼저 검색되는 태그 반환\n",
    "- find_all() : 전체 태그 반환"
   ]
  },
  {
   "cell_type": "code",
   "execution_count": 2,
   "metadata": {},
   "outputs": [
    {
     "name": "stdout",
     "output_type": "stream",
     "text": [
      "<h1 id=\"title\">[1]크롤링이란?</h1>\n",
      "[1]크롤링이란?\n",
      "[1]크롤링이란?\n"
     ]
    }
   ],
   "source": [
    "from bs4 import BeautifulSoup\n",
    "\n",
    "html = \"\"\"\n",
    "<html>\n",
    "    <body>\n",
    "        <h1 id='title'>[1]크롤링이란?</h1>;\n",
    "        <p class='cssstyle'>웹페이지에서 필요한 데이터를 추출하는 것</p>\n",
    "        <p id='body' align='center'>파이썬을 중신으로 다양한 웹 크롤링 기술 발달</p>\n",
    "    </body>\n",
    "</html>\n",
    "\"\"\"\n",
    "\n",
    "soup = BeautifulSoup(html, \"html.parser\")\n",
    "\n",
    "# 태그로 검색 방법\n",
    "title_data = soup.find('h1')\n",
    "\n",
    "print(title_data)\n",
    "print(title_data.string)\n",
    "print(title_data.get_text())"
   ]
  },
  {
   "cell_type": "code",
   "execution_count": 3,
   "metadata": {},
   "outputs": [
    {
     "name": "stdout",
     "output_type": "stream",
     "text": [
      "<p class=\"cssstyle\">웹페이지에서 필요한 데이터를 추출하는 것</p>\n",
      "웹페이지에서 필요한 데이터를 추출하는 것\n",
      "웹페이지에서 필요한 데이터를 추출하는 것\n"
     ]
    }
   ],
   "source": [
    "# 가장 먼저 검색되는 태그를 반환\n",
    "paragraph_data = soup.find('p')\n",
    "\n",
    "print(paragraph_data)\n",
    "print(paragraph_data.string)\n",
    "print(paragraph_data.get_text())"
   ]
  },
  {
   "cell_type": "code",
   "execution_count": 4,
   "metadata": {},
   "outputs": [
    {
     "name": "stdout",
     "output_type": "stream",
     "text": [
      "<h1 id=\"title\">[1]크롤링이란?</h1>\n",
      "[1]크롤링이란?\n",
      "[1]크롤링이란?\n"
     ]
    }
   ],
   "source": [
    "# 태그에 있는 id로 검색 (javascript 예를 상기!)\n",
    "title_data = soup.find(id='title')\n",
    "\n",
    "print(title_data)\n",
    "print(title_data.string)\n",
    "print(title_data.get_text())"
   ]
  },
  {
   "cell_type": "code",
   "execution_count": 5,
   "metadata": {},
   "outputs": [
    {
     "name": "stdout",
     "output_type": "stream",
     "text": [
      "<p class=\"cssstyle\">웹페이지에서 필요한 데이터를 추출하는 것</p>\n",
      "웹페이지에서 필요한 데이터를 추출하는 것\n",
      "웹페이지에서 필요한 데이터를 추출하는 것\n"
     ]
    }
   ],
   "source": [
    "# HTML 태그와 CSS class를 활용해서 필요한 데이터를 추출하는 방법1\n",
    "paragraph_data = soup.find('p', class_='cssstyle')\n",
    "\n",
    "print(paragraph_data)\n",
    "print(paragraph_data.string)\n",
    "print(paragraph_data.get_text())"
   ]
  },
  {
   "cell_type": "code",
   "execution_count": 6,
   "metadata": {},
   "outputs": [
    {
     "name": "stdout",
     "output_type": "stream",
     "text": [
      "<p class=\"cssstyle\">웹페이지에서 필요한 데이터를 추출하는 것</p>\n",
      "웹페이지에서 필요한 데이터를 추출하는 것\n",
      "웹페이지에서 필요한 데이터를 추출하는 것\n"
     ]
    }
   ],
   "source": [
    "# HTML 태그와 CSS class를 활용해서 필요한 데이터를 추출하는 방법2\n",
    "paragraph_data = soup.find('p', 'cssstyle')\n",
    "\n",
    "print(paragraph_data)\n",
    "print(paragraph_data.string)\n",
    "print(paragraph_data.get_text())"
   ]
  },
  {
   "cell_type": "code",
   "execution_count": 7,
   "metadata": {},
   "outputs": [
    {
     "name": "stdout",
     "output_type": "stream",
     "text": [
      "<p align=\"center\" id=\"body\">파이썬을 중신으로 다양한 웹 크롤링 기술 발달</p>\n",
      "파이썬을 중신으로 다양한 웹 크롤링 기술 발달\n",
      "파이썬을 중신으로 다양한 웹 크롤링 기술 발달\n"
     ]
    }
   ],
   "source": [
    "# HTML 태그와 태그에 있는 속성:속성값을 활용해서 필요한 데이터를 추출하는 방법\n",
    "paragraph_data = soup.find('p', attrs = {'align': 'center'})\n",
    "\n",
    "print(paragraph_data)\n",
    "print(paragraph_data.string)\n",
    "print(paragraph_data.get_text())"
   ]
  },
  {
   "cell_type": "code",
   "execution_count": 8,
   "metadata": {},
   "outputs": [
    {
     "name": "stdout",
     "output_type": "stream",
     "text": [
      "[<p class=\"cssstyle\">웹페이지에서 필요한 데이터를 추출하는 것</p>, <p align=\"center\" id=\"body\">파이썬을 중신으로 다양한 웹 크롤링 기술 발달</p>]\n",
      "웹페이지에서 필요한 데이터를 추출하는 것\n",
      "파이썬을 중신으로 다양한 웹 크롤링 기술 발달\n",
      "웹페이지에서 필요한 데이터를 추출하는 것\n",
      "파이썬을 중신으로 다양한 웹 크롤링 기술 발달\n"
     ]
    }
   ],
   "source": [
    "# find_all() : 관련된 모든 데이터를 리스트 형태로 추출하는 함수\n",
    "paragraph_data = soup.find_all('p')\n",
    "\n",
    "print(paragraph_data)\n",
    "print(paragraph_data[0].get_text())\n",
    "print(paragraph_data[1].get_text())\n",
    "\n",
    "for data in paragraph_data:\n",
    "    print(data.get_text())"
   ]
  },
  {
   "cell_type": "markdown",
   "metadata": {},
   "source": [
    "## 2.4. BeautifulSoup 라이브러리 활용 string 검색 예제\n",
    "- 태그가 아닌 문자열 자체로 검색\n",
    "- 문자열, 정규표현식 등등으로 검색 가능\n",
    "    - 문자열 검색의 경우 한 태그내의 문자열과 exact matching인 것만 추출\n",
    "    - 이것이 의도한 경우가 아니라면 정규표현식 사용"
   ]
  },
  {
   "cell_type": "code",
   "execution_count": 9,
   "metadata": {},
   "outputs": [
    {
     "name": "stdout",
     "output_type": "stream",
     "text": [
      "['오대석']\n",
      "['[이주의해시태그-#네이버-클로바]쑥쑥 크는 네이버 AI', '[이주의해시태그-#네이버-클로바]쑥쑥 크는 네이버 AI', '오대석']\n",
      "[]\n",
      "[이주의해시태그-#네이버-클로바]쑥쑥 크는 네이버 AI\n"
     ]
    }
   ],
   "source": [
    "import re\n",
    "res = requests.get('http://v.media.daum.net/v/20170518153405933')\n",
    "soup = BeautifulSoup(res.content, 'html.parser')\n",
    "\n",
    "print(soup.find_all(string='오대석'))\n",
    "print(soup.find_all(string=['[이주의해시태그-#네이버-클로바]쑥쑥 크는 네이버 AI', '오대석']))\n",
    "print(soup.find_all(string='AI'))\n",
    "print(soup.find_all(string=re.compile('AI'))[0])"
   ]
  },
  {
   "cell_type": "markdown",
   "metadata": {},
   "source": [
    "## 연습문제"
   ]
  },
  {
   "cell_type": "code",
   "execution_count": 10,
   "metadata": {},
   "outputs": [
    {
     "name": "stdout",
     "output_type": "stream",
     "text": [
      "中게임 판치는데..5년 간 '판호' 고작 33건 발급\n",
      "5년 간 '판호' 고작 33건 발급..2017년 이후 '0'\n",
      "\"中게임 판치는데, 통계도 없는 韓정부\"\n",
      "\"'아이폰12' 첫 날 판매량, 아이폰11 2배 넘었다\"\n",
      "\"아이폰12 프로 판매량, 예상치 웃돌 것\"\n",
      "김봉진의 '승부수'..배달의민족, 내달 日 진출\n",
      "배달의민족, 다음달 일본 진출..서비스명은 '푸드네코'\n",
      "이충원 과기부 국제협력총괄담당관, OECD 디지털경제정책위 부의장 연임\n",
      "이충원 담당관, OECD 디지털경제정책위원회 부의장직 연임\n",
      "기름 속 작은 물방울도 박자를 맞춘다\n",
      "울산과기원, 미세 기름관 내 물방울 형성 동기화 현상 최초 발견\n",
      "아이폰12, 코로나 뚫고 첫날 사전주문량 200만대.. 아이폰11 넘었다\n",
      "\"스마트워치야? 손난로야?\"..'터진' 애플워치SE, 국내서 발열·폭발 논란\n",
      "\"공공 부문, CISO 등 보안 전담조직 마련돼야\"\n",
      "\"20만원에 아이 판매\" 논란..당근마켓 \"AI 모니터링 강화\"\n",
      "정부가 만든 中企 전용 오프라인 매장 72%가 폐점\n",
      "도미노피자, 경찰의 날 맞아 경찰공무원에 '반값 피자' 행사\n",
      "우리 몸속 고대 바이러스 흔적이 코로나19 퇴치법 알려줄까?\n",
      "부부는 닮지 않는다..닮은 사람끼리 만날 뿐\n",
      "뚜껑형이냐, 스탠드형이냐..냉장고 대신 김치냉장고?\n",
      "\"스마트워치야? 손난로야?\"..'터진' 애플워치SE, 국내서 발열·폭발 논란\n",
      "\"'아이폰12' 첫 날 판매량, 아이폰11 2배 넘었다\"\n",
      "18년전 미국에 팔려가려던 하이닉스, '메모리의 아버지' 인수하다\n",
      "땅 기름지게 하는 지렁이가 미세플라스틱 토양오염 가속화시킨다\n",
      "땅 기름지게 하는 지렁이가 미세플라스틱 토양오염 가속화시킨다\n",
      "\"아이폰12 선주문 첫날 판매량, 아이폰11 뛰어넘어\"\n",
      "비닐봉지의 역설..종이봉투와 생분해 플라스틱의 불편한 진실\n",
      "\"'아이폰12' 첫 날 판매량, 아이폰11 2배 넘었다\"\n",
      "\"그 알량한 돈때문에\"..300명 정리해고 여행박사 사장의 마지막 편지\n",
      "'1억 마세라티' 모는 운전자, 어떻게 공공임대주택에 입주했나\n",
      "\"이젠 미세먼지 때문에 KF 마스크\"..중국에 '부글부글'\n",
      "충북 공군부대 병사 휴가 후 귀대 않고 무단 해외출국\n",
      "코로나에 다 망했다는데..'빵집'만 살아남은 이유는?\n",
      "민주당 \"옵티머스 명단 공개한 유상범 의원 국회 윤리특위에 제소\"\n",
      "이번엔 37m 거대 고양이..페루서 '나스카 라인' 또 발견\n",
      "\"제가 한번 모시겠습니다\" 그들이 룸살롱 가는 이유\n",
      "주호영 \"공수처 발족하고 라임·옵티 특검도 하자\"..일괄타결 제안\n",
      "한진택배 \"숨진 택배기사 지병 있었다\"..동생 \"예의가 아니다\" 분노\n",
      "유럽, 한국식 '추적' 따라하기 두 손 들었다..결국 '봉쇄' 회귀\n",
      "'경항모+F-35B' 예산이면 정식 항모도 보유 가능..\"美도 韓항모 찬성..못할 이유 없어\"\n",
      "짙은 안개 속 '쾅, 쾅'..서해안고속도서 차량 15대 추돌\n",
      "마스크 안 쓰고 KTX 타려다..\"직원 제지에 드러누워 난동\"\n",
      "F-35A 40대 중 24대 도착..한국형 전투기 내년 5월 출고\n",
      "수험생 배에서 '삐리릭~' 벨소리..진화하는 기사시험 부정행위\n",
      "25년간 남편 사망신고 미뤄 군인연금 3억 5천만원 부정수령\n",
      "전국노래자랑 현장에서 포착한 대한민국 초상\n",
      "일본이 본 한국..\"적은 월급, 높은 집값 젊은층 주식에 몰두\"\n",
      "'잘못없다'는 의대생, '대리사과'만으로 의사국시 재시험?\n",
      "여긴 몰랐지?..코로나 시대 가기 좋은 '숨은 관광지' 7선\n",
      "전주혜 \"법치 무너진 날.. 윤석열, 옷 벗으란 소리\"\n",
      "1단계서도 같이 밥먹으니 집단감염..서울시민 12%만 \"1년 이내 회복\"\n",
      "시민단체, 추미애 고발..\"사기꾼 진술 엮어 尹명예훼손\"\n",
      "신동근 \"秋 수사지휘권 적절..폭로 사실이면 검찰이 정치하는 것\"\n",
      "맛있는 치킨의 유혹..  뜻밖의 건강효과 5가지\n",
      "서울 아파트서 느닷없는 600만원 '돈비'..성숙한 시민의식 눈길\n",
      "\"함께 여행 다녀온\" 강남·서초 지인모임서 총 10명 집단감염\n",
      "경기도 분도론에 인천·부천·김포·시흥 4개시 통합 주장도\n",
      "호사카 유지 \"日 스가 총리 측근, 박지원 만난 이유는?\"\n",
      "비 \"작은 소식?\" ♥김태희 임신 아니다..궁금증 증폭\n",
      "'불청' 김홍표 \"교통사고로 4번 대수술, 일용직 조경에 대리운전도\"\n",
      "전진 \"에릭, 아내 나혜미 걱정돼 손잡고 다녀\" 사랑꾼 인증\n",
      "정윤선 \"알뜰하게 살지 않으면 정동환과 못 살아\"\n",
      "\"이 방송 안하면 잘려\" 김하늘, 이혼 프로 출연 제안에 심란 '18 어게인'\n",
      "\"최수종, 션 같은 남편\" 전진♥류이서 결혼식 눈물 펑펑 '감동'\n",
      "황제성♥박초은 집정리에 시청자도 대리만족, 4개월 기다릴만 하네요'신박한'\n",
      "임정은 \"스캔들 났던 김지훈 결혼식 와, 남편 안심\"\n",
      "정동환♥정윤선 전원주택 공개 \"부실하게 지어졌어\"\n",
      "'밥심' 박해미 \"전남편 음주사건 심경 고백 후련, 子 황성재 고마워 눈물\"\n",
      "\"어쩌자고 또 송윤아를 하고 있지\" 25년 차 배우의 반성\n",
      "다수가 등 돌린 '브람스를 좋아하세요?' 반전 인기\n",
      "'쇼미더머니9' 측 \"대마초 적발 오왼 하차 확정, 방송 통편집\"\n",
      "'아침마당' 김창숙, 웨딩홀 광고 아르바이트→하루아침에 스타덤\n",
      "류효영, 활동명 '정우연'으로 변경..빅픽처엔터테인먼트와 새 출발\n",
      "'미스터 션샤인' 윤주만, '보쌈' 무사 역 캐스팅..불꽃 액션 연기\n",
      "'밥먹다' 박해미 \"사고 후 드라마→교수직 내려놔, 걷잡을 수 없는 구렁텅이 빠져\"\n",
      "'청춘기록' 변우석, 금수저는 실패에 면역이 없다\n",
      "'밥심' 박해미, 전 남편 음주사고로 작품+교수직 다 잃어 \"끔찍했던 시간\"\n",
      "전진 \"6년전 장인어른 돌아가셔..♥류이서, 혼자 신부 입장하겠다고\"\n",
      "'청춘기록' 박보검 \"이승준 마지막 통화자\" 보도에 충격→박소담과 관계 흔들\n",
      "'옥문아들' 김한길 \"의식 되찾고 최명길 병실 프러포즈에 울컥\"\n",
      "박해미의 오열 \"전 남편 음주 교통사고, 子 황재성과 고통의 고통..\"\n",
      "최정원 \"전소민과 격한 애정신, 엄청 떨렸다\"\n",
      "방탄소년단 '그래미어워드' 7개부문 지원, 노미네이트 꿈 이룰까\n",
      "'청춘기록' 이재원 \"방영 중 득녀 겹경사, 정말 행복했죠\"\n",
      "이효리가 칭찬한 블루, 대마초 흡연..'쇼미777' 루피-나플라 등 5명 무더기 적발\n",
      "'물어보살' 서장훈, 전소민에 \"남자 조심해라..김종국이 베스트\"\n",
      "'마이웨이' 정동환, 톱가수 아내와의 러브스토리 \"편지 전달해주다 첫만남\"\n",
      "'동상이몽' 임정은 \"송중기·송승헌 닮은 미남 남편, 화장실 갈 때도 함께\" 찐사랑 고백\n",
      "\"최지만의 '다리 찢기' 수비, 월드시리즈 흥행 요소\"\n",
      "\"손흥민 뛸 때, 더 실점 안 하려고\"..웨스트햄 주장이 밝힌 '충격 무승부'\n",
      "썩어도 준치? 美매체, \"SF, 베테랑 좌타 추신수 영입에 관심\"\n",
      "'손흥민은 퇴장 당했는데..' 팬들, 라울 히메네스 행동에 어리둥절\n",
      "\"토트넘, 손흥민 재계약 우선적으로 처리하려 할 것\"..英 언론\n",
      "손흥민 토트넘 잔류시 최고 주급 유력..EPL 톱5 진입 가능성도\n",
      "기업 오너가 보유한 '박항서 사인볼'.. 경매로 나와 기부 절차\n",
      "英언론 지적 \"SON의 프리킥 뺏은 베일..동료 배려 없어\"\n",
      "커쇼는 1차전, 뷸러는 3차전 확정인데..LAD 2차전 선발은 고민중\n",
      "이강인 '1분도' 못 뛰다니..현지도 납득불가 \"발렌시아 이상하다\"\n",
      "'러시아 미녀' 라자레바, 차원이 다른 대박 외인..한국 왜 왔니\n",
      "수술 앞둔 정호영 \"다음 시즌 건강하게\"..한송이 \"얼른 돌아와\"\n",
      "'재계약 추진 중' 손흥민, 주급 보다 더 중요한게 있다\n",
      "손흥민 \"비니시우스와 친해지려 노력 중..너무 웃긴 친구\"\n",
      "아구에로, 女심판 '터치' 사후 징계 피할 듯..前 PL 심판, \"당사자 대처 좋았어\"\n",
      "BBC 이주의 팀, '1골 1도움' 손흥민 없다..케인+맨유 3명\n",
      "EPL, 코로나19 7차 진단 검사서 8명 확진\n",
      "\"먼시가 '최지만+디아즈' 보다 약간 우세..다저스 우승\" MLB.com\n",
      "일본여자프로골프 우승 신지애, 세계 랭킹 30위로 8계단 상승\n",
      "\"손흥민은 왜 은퇴 전까지 결혼하지 않을까?\" 英언론 관심 집중\n",
      "\"공수 탁월 최지만, 다저스의 WS 최대 경계 인물\" 美매체\n",
      "LA 다저스는 왜 '다저스'라는 별명을 갖게 됐을까\n",
      "\"매일 보고 이야기하고 너무 신나\" 손흥민, 베일에 대한 기대감\n",
      "마르셀루 부진에..레알, 한 시즌 만에 레길론 복귀 추진\n",
      "\"돈이 얼마인데..\" 1할 타자, 6점대 ERA 써야 하는 현실\n",
      "英 언론 극찬, \"슈퍼 공격수 손흥민-케인, 英 축구 가장 핫한 공격 듀오\"\n",
      "'신입생'도 챙기는 '인싸' 손흥민, \"판타스틱한 선수들..적응하도록 돕겠다\"\n",
      "로스앤젤스와 탬파베이 시가 WS 우승에 촉각을 세우는 이유는\n",
      "'1조 5000억원' 리버풀, 전 세계 가장 비싼 축구팀..토트넘 10위\n",
      "쿠만이 기억하는 판 다이크, \"게으르고 오만한 선수였다\"\n",
      "최후의 1인을 가린다!카카오 배틀그라운드\n",
      "대체불가 핵앤슬래시!  패스 오브 엑자일\n",
      "뉴스홈\n",
      "사회\n",
      "정치\n",
      "경제\n",
      "국제\n",
      "문화\n",
      "IT\n",
      "포토\n",
      "TV\n",
      "언론사별 뉴스\n",
      "배열이력\n",
      "전체뉴스\n",
      "랭킹\n",
      "연재\n",
      "1boon\n"
     ]
    }
   ],
   "source": [
    "import requests\n",
    "from bs4 import BeautifulSoup\n",
    "\n",
    "res = requests.get('http://media.daum.net/digital/')\n",
    "soup = BeautifulSoup(res.content, 'html.parser')\n",
    "\n",
    "title_data = soup.find_all(class_='link_txt')\n",
    "\n",
    "for data in title_data:\n",
    "    print(data.get_text().strip())"
   ]
  },
  {
   "cell_type": "code",
   "execution_count": 11,
   "metadata": {},
   "outputs": [
    {
     "name": "stdout",
     "output_type": "stream",
     "text": [
      "KODEX 200선물인버스2X KEC 한솔홈데코 KODEX 코스닥150선물인버스 KODEX 레버리지 성창기업지주 KODEX 인버스 KODEX 코스닥150 레버리지 윌비스 한국전자홀딩스 삼성전자 태림포장 신성이엔지 CJ씨푸드 대창 KR모터스 신한 레버리지 WTI원유 선물 ETN(H) KODEX 코스닥 150 대한전선 SK하이닉스 삼부토건 우진 이아이디 현대차 KODEX 200 콤텍시스템 동양 동양물산 TIGER 200선물인버스2X 까뮤이앤씨 오리엔트바이오 엘브이엠씨홀딩스 KC코트렐 두산중공업 기아차 금호에이치티 한화솔루션 현대글로비스 대영포장 남성 대우건설 부산주공 한국전력 보락 진양산업 진원생명과학 한화생명 남선알미늄 SK증권 써니전자 HMM KODEX 단기채권PLUS 흥국화재우 신한지주 세화아이엠씨 수산중공업 삼성 레버리지 WTI원유 선물 ETN 유니온머티리얼 디피씨 삼성 인버스 2X WTI원유 선물 ETN 진흥기업우B 두산퓨얼셀 현대약품 세우글로벌 에이프로젠제약 KODEX WTI원유선물(H) SG세계물산 에이프로젠 KIC YG PLUS TIGER 코스닥150선물인버스 인지컨트롤스 두산인프라코어 TIGER 200 현대제철 쌍용차 비티원 한창 미래에셋 레버리지 원유선물혼합 ETN(H) 삼성전자우 쌍방울 신성통상 빅히트 마니커 서울식품 기업은행 삼성중공업 알루코 KB금융 TIGER 200선물레버리지 아시아나항공 KBSTAR 단기통안채 대우부품 TRUE 인버스 2X 나스닥 100 ETN AJ네트웍스 한솔로지스틱스 우리금융지주 미래아이앤지 GS건설 LG디스플레이 영진약품 "
     ]
    }
   ],
   "source": [
    "import requests\n",
    "from bs4 import BeautifulSoup\n",
    "\n",
    "res = requests.get('https://finance.naver.com/sise/sise_quant.nhn')\n",
    "soup = BeautifulSoup(res.content, 'html.parser')\n",
    "\n",
    "stock_name = soup.find_all('a', class_='tltle')\n",
    "\n",
    "for name in stock_name:\n",
    "    print(name.get_text(), end=' ')"
   ]
  },
  {
   "cell_type": "markdown",
   "metadata": {},
   "source": [
    "# 3. Open API(Rest API)를 활용한 크롤링"
   ]
  },
  {
   "cell_type": "markdown",
   "metadata": {},
   "source": [
    "## 3.1. Open API(Rest API)란?\n",
    "- API: Application Programming Interface의 약자로, 특정 프로그램을 만들기 위해 제공되는 모듈(함수 등)을 의미\n",
    "- Open API: 공개 API라고도 불리우며, 누구나 사용할 수 있도록 공개된 API (주로 Rest API 기술을 많이 사용함)\n",
    "- Rest API: Representational State Transfer API의 약자로, HTTP프로토콜을 통해 서버 제공 기능을 사용할 수 있는 함수를 의미\n",
    "    - 일반적으로 XML, JSON의 형태로 응답을 전달(원하는 데이터 추출이 수월)"
   ]
  },
  {
   "cell_type": "markdown",
   "metadata": {},
   "source": [
    "## 3.2. JSON 이란?\n",
    "- JavaScript Object Notation 줄임말\n",
    "- JSON은 서버와 클라이언트 또는 컴퓨터/프로그램 사이에 데이터를 주고 받을 때 사용하는 데이터 포멧\n",
    "- 키와 값을 괄호와 세미콜론과 같이 간단한 기호로 구성하여 표현할 수 있고, 언어나 운영체제에 구애받지 않기 때문에 많이 사용됨\n",
    "- 특히 웹/앱 환경에서 Rest API를 사용하여, 서버와 클라이언트 사이에 데이터를 주고 받을때 많이 사용\n",
    "- JSON 포멧 예\n",
    "    { \"id\":\"01\", \"language\": \"Java\", \"edition\": \"third\", \"author\": \"Herbert Schildt\" }"
   ]
  },
  {
   "cell_type": "markdown",
   "metadata": {},
   "source": [
    "## 3.3. 네이버 검색 Open API를 이용한 크롤링 초간단 실습\n",
    "- 네이버와 같은 주요 포털 사이트에서도 Open API를 제공함 (네이버 Developers 사이트 링크: https://developers.naver.com/main/)\n",
    "- 네이버 Developers 사이트 가입 후,\n",
    "- Application -> 애플리케이션 등록(API 이용신청) 에서 다음과 같이 입력하여, 검색 API 사용 신청"
   ]
  },
  {
   "cell_type": "markdown",
   "metadata": {},
   "source": [
    "## 3.4. urllib 라이브러리를 활용한 크롤링 코드\n",
    "- 인터넷에 다양한 예제들이 urllib 또는 urllib2를 사용한 예제들이 많으므로, 익혀둘 필요가 있음"
   ]
  },
  {
   "cell_type": "code",
   "execution_count": 12,
   "metadata": {},
   "outputs": [],
   "source": [
    "import urllib.request\n",
    "import json"
   ]
  },
  {
   "cell_type": "code",
   "execution_count": 13,
   "metadata": {},
   "outputs": [
    {
     "name": "stdout",
     "output_type": "stream",
     "text": [
      "스마트폰 --- (인코딩) ---> %EC%8A%A4%EB%A7%88%ED%8A%B8%ED%8F%B0\n",
      "\n",
      "[종합] SKT '점프 스튜디오' 글로벌화…&quot;AR·VR로 '밈'중심에 선다&quot;\n",
      "입체적인 비대면 회의를 원하는 이용자라면 누구나 버추얼 밋업 모임을 주관하고 지인을 초대할 수 있다. 이르면 이달 중 점프 VR 앱에서 무료로 이용할 수 있고 별도 VR 기기 없이 <b>스마트폰</b>, PC 만으로도 가능하다.\n"
     ]
    }
   ],
   "source": [
    "client_key = \"aZmPQWV4GqO1n5H738tR\"\n",
    "client_secret = \"TqnlftTGFP\"\n",
    "\n",
    "# 한글 등 non-ASCII text를 URL에 넣을 수 있도록 \"%\" followed by hexadecimal digits로 변경\n",
    "# URL은 ASCII 인코딩셋만 지원하기 때문임\n",
    "encText = urllib.parse.quote_plus(\"스마트폰\")\n",
    "print(\"스마트폰 --- (인코딩) ---> \" + encText + \"\\n\")\n",
    "\n",
    "naver_url = \"https://openapi.naver.com/v1/search/news.json?query=\" + encText\n",
    "\n",
    "# urllib.request.Request()는 HTTP Header 변경시에 사용함\n",
    "# 네이버에서도 다음 HTTP Header 키를 변경해야하기 때문에 사용함\n",
    "# HTTP Header 변경이 필요없다면, 바로 urllib.request.urlopen()함수만 사용해도 됨\n",
    "request = urllib.request.Request(naver_url)\n",
    "request.add_header(\"X-Naver-Client-Id\", client_key)\n",
    "request.add_header(\"X-Naver-Client-Secret\", client_secret)\n",
    "\n",
    "# urllib.request.urlopen 메서드로 크롤링할 웹페이지를 가져옴\n",
    "response = urllib.request.urlopen(request)\n",
    "\n",
    "# getcode() 메서드로 HTTP 응답 상태 코드를 가져올 수 있음\n",
    "rescode = response.getcode()\n",
    "\n",
    "# HTTP 요청 응답이 정상적일 경우, 해당 HTML 데이터를 수신하였기 때문에 필요한 데이터 추출이 가능함.\n",
    "# HTTP 요청에 대한 정상응답일 경우, HTTP 응답 상태 코드 값이 200이 된다.\n",
    "if (rescode == 200):\n",
    "    # response.read() 메서드로 수신된 HTML 데이터를 가져올 수 있음\n",
    "    response_body = response.read()\n",
    "    # 네이버 Open API를 통해서 수신된 데이터가 JSON 포멧이기 때문에,\n",
    "    # JSON 포멧 데이터를 파싱해서 사전데이터로 만들어주는 json 라이브러리를 사용\n",
    "    data = json.loads(response_body)\n",
    "    # json.loads() 메서드를 사용해서 data에 수신된 데이터를 사전 데이터로 분석해서 자동으로 만들어줌\n",
    "    print(data['items'][0]['title'])\n",
    "    print(data['items'][0]['description'])\n",
    "else:\n",
    "    print(\"Error code:\", rescode)"
   ]
  },
  {
   "cell_type": "markdown",
   "metadata": {},
   "source": [
    "## 3.5. requests 라이브러리를 활용한 크롤링 코드(간결함, 권장)\n",
    "- requests 라이브러리를 사용해서 Open API(Rest API)를 통해 데이터를 바로 가져올 수 있음"
   ]
  },
  {
   "cell_type": "code",
   "execution_count": 14,
   "metadata": {},
   "outputs": [
    {
     "name": "stdout",
     "output_type": "stream",
     "text": [
      "[종합] SKT '점프 스튜디오' 글로벌화…&quot;AR·VR로 '밈'중심에 선다&quot;\n",
      "입체적인 비대면 회의를 원하는 이용자라면 누구나 버추얼 밋업 모임을 주관하고 지인을 초대할 수 있다. 이르면 이달 중 점프 VR 앱에서 무료로 이용할 수 있고 별도 VR 기기 없이 <b>스마트폰</b>, PC 만으로도 가능하다.\n"
     ]
    }
   ],
   "source": [
    "import requests\n",
    "\n",
    "client_key = \"aZmPQWV4GqO1n5H738tR\"\n",
    "client_secret = \"TqnlftTGFP\"\n",
    "# 별도 quote_plus() 메서드 등 처리할 필요 없음. request 객체가 알아서 해줌\n",
    "\n",
    "naver_url = 'https://openapi.naver.com/v1/search/news.json?query=스마트폰'\n",
    "\n",
    "header_params = {\"X-Naver-Client-Id\":client_key, \"X-Naver-Client-Secret\":client_secret}\n",
    "# headers=headers_params 는 header 변경시에만 필요하고, 그렇지 않으면,\n",
    "# requests.get(원하는 URL)만 해도 됨\n",
    "response = requests.get(naver_url, headers = header_params)\n",
    "# 별도 json.loads() 라이브러리 메서드를 사용하지 않아도, requests 라이브러리에 있는\n",
    "# json() 메서드로 간단히 처리 가능함\n",
    "\n",
    "#print(response.json())\n",
    "#print(response.text)\n",
    "\n",
    "# HTTP 응답 코드는 status_code에 저장됨\n",
    "if (response.status_code == 200):\n",
    "    data = response.json()\n",
    "    print(data['items'][0]['title'])\n",
    "    print(data['items'][0]['description'])\n",
    "else:\n",
    "    print(\"Error Code:\", response.status_code)"
   ]
  },
  {
   "cell_type": "markdown",
   "metadata": {},
   "source": [
    "## 연습문제"
   ]
  },
  {
   "cell_type": "code",
   "execution_count": 18,
   "metadata": {},
   "outputs": [
    {
     "name": "stdout",
     "output_type": "stream",
     "text": [
      "한국감정원, 청년 창업 지원 앞장 선다\n",
      "오늘경제 한국감정원(원장 김학규)은 국토교통부(장관 김현미)와 함께 <b>부동산</b> 분야의 일자리 창출 및 청년창업 활성화를 위한 <b>부동산</b>서비스산업 창업교육을 지원한다고 20일 밝혔다. <b>부동산</b>서비스산업 창업교육은 <b>부동산</b>... \n"
     ]
    }
   ],
   "source": [
    "import requests\n",
    "\n",
    "client_key = \"aZmPQWV4GqO1n5H738tR\"\n",
    "client_secret = \"TqnlftTGFP\"\n",
    "\n",
    "naver_url = 'https://openapi.naver.com/v1/search/news.json?query=부동산'\n",
    "\n",
    "header_params = {\"X-Naver-Client-Id\":client_key, \"X-Naver-Client-Secret\":client_secret}\n",
    "\n",
    "response = requests.get(naver_url, headers = header_params)\n",
    "\n",
    "if (response.status_code == 200):\n",
    "    data = response.json()\n",
    "    print(data['items'][0]['title'])\n",
    "    print(data['items'][0]['description'])\n",
    "else:\n",
    "    print(\"Error Code:\", response.status_code)"
   ]
  },
  {
   "cell_type": "markdown",
   "metadata": {},
   "source": [
    "# 4. CSS Selector를 사용한 크롤링\n",
    "- CSS 선택 문법을 이용하여 태그 검색\n",
    "- select 함수 사용"
   ]
  },
  {
   "cell_type": "code",
   "execution_count": 20,
   "metadata": {},
   "outputs": [],
   "source": [
    "import requests\n",
    "from bs4 import BeautifulSoup\n",
    "\n",
    "res = requests.get('https://news.v.daum.net/v/20201020114157960')\n",
    "soup = BeautifulSoup(res.content, 'html.parser')"
   ]
  },
  {
   "cell_type": "code",
   "execution_count": 23,
   "metadata": {},
   "outputs": [
    {
     "name": "stdout",
     "output_type": "stream",
     "text": [
      "<title>SK하이닉스 10조 베팅으로 낸드도 2위로..최태원 또 '통 큰 승부수'</title>\n",
      "[<title>SK하이닉스 10조 베팅으로 낸드도 2위로..최태원 또 '통 큰 승부수'</title>]\n"
     ]
    }
   ],
   "source": [
    "# 태그 검색\n",
    "print(soup.find('title'))\n",
    "\n",
    "# select 함수는 리스트 형태로 전체 반환\n",
    "title = soup.select('title')\n",
    "print(title)"
   ]
  },
  {
   "cell_type": "code",
   "execution_count": 24,
   "metadata": {},
   "outputs": [
    {
     "name": "stdout",
     "output_type": "stream",
     "text": [
      "SK하이닉스 10조 베팅으로 낸드도 2위로..최태원 또 '통 큰 승부수'\n"
     ]
    }
   ],
   "source": [
    "print(title[0].get_text())"
   ]
  },
  {
   "cell_type": "code",
   "execution_count": 26,
   "metadata": {},
   "outputs": [
    {
     "name": "stdout",
     "output_type": "stream",
     "text": [
      "SK하이닉스 10조 베팅으로 낸드도 2위로..최태원 또 '통 큰 승부수'\n"
     ]
    }
   ],
   "source": [
    "# 띄어쓰기가 있다면 하위 태그를 검색\n",
    "title = soup.select('html head title')[0]\n",
    "print(title.get_text())"
   ]
  },
  {
   "cell_type": "code",
   "execution_count": 27,
   "metadata": {},
   "outputs": [
    {
     "name": "stdout",
     "output_type": "stream",
     "text": [
      "SK하이닉스 10조 베팅으로 낸드도 2위로..최태원 또 '통 큰 승부수'\n"
     ]
    }
   ],
   "source": [
    "# 띄어쓰기가 있다면 하위 태그를 검색\n",
    "# 이 때, 바로 직계의 자식이 아니어도 관계없음\n",
    "title = soup.select('html title')[0]\n",
    "print(title.get_text())"
   ]
  },
  {
   "cell_type": "code",
   "execution_count": 28,
   "metadata": {},
   "outputs": [
    {
     "ename": "IndexError",
     "evalue": "list index out of range",
     "output_type": "error",
     "traceback": [
      "\u001b[1;31m---------------------------------------------------------------------------\u001b[0m",
      "\u001b[1;31mIndexError\u001b[0m                                Traceback (most recent call last)",
      "\u001b[1;32m<ipython-input-28-216384f16bc5>\u001b[0m in \u001b[0;36m<module>\u001b[1;34m\u001b[0m\n\u001b[0;32m      1\u001b[0m \u001b[1;31m# > 를 사용하는 경우 바로 직계의 자식만 검색\u001b[0m\u001b[1;33m\u001b[0m\u001b[1;33m\u001b[0m\u001b[1;33m\u001b[0m\u001b[0m\n\u001b[0;32m      2\u001b[0m \u001b[1;31m# 바로 아래 자식이 아니기 때문에 에러 발생\u001b[0m\u001b[1;33m\u001b[0m\u001b[1;33m\u001b[0m\u001b[1;33m\u001b[0m\u001b[0m\n\u001b[1;32m----> 3\u001b[1;33m \u001b[0mtitle\u001b[0m \u001b[1;33m=\u001b[0m \u001b[0msoup\u001b[0m\u001b[1;33m.\u001b[0m\u001b[0mselect\u001b[0m\u001b[1;33m(\u001b[0m\u001b[1;34m'html > title'\u001b[0m\u001b[1;33m)\u001b[0m\u001b[1;33m[\u001b[0m\u001b[1;36m0\u001b[0m\u001b[1;33m]\u001b[0m\u001b[1;33m\u001b[0m\u001b[1;33m\u001b[0m\u001b[0m\n\u001b[0m\u001b[0;32m      4\u001b[0m \u001b[0mprint\u001b[0m\u001b[1;33m(\u001b[0m\u001b[0mtitle\u001b[0m\u001b[1;33m.\u001b[0m\u001b[0mget_text\u001b[0m\u001b[1;33m(\u001b[0m\u001b[1;33m)\u001b[0m\u001b[1;33m)\u001b[0m\u001b[1;33m\u001b[0m\u001b[1;33m\u001b[0m\u001b[0m\n",
      "\u001b[1;31mIndexError\u001b[0m: list index out of range"
     ]
    }
   ],
   "source": [
    "# > 를 사용하는 경우 바로 직계의 자식만 검색\n",
    "# 바로 아래 자식이 아니기 때문에 에러 발생\n",
    "title = soup.select('html > title')[0]\n",
    "print(title.get_text())"
   ]
  },
  {
   "cell_type": "code",
   "execution_count": 32,
   "metadata": {},
   "outputs": [
    {
     "name": "stdout",
     "output_type": "stream",
     "text": [
      "SK하이닉스 10조 베팅으로 낸드도 2위로..최태원 또 '통 큰 승부수'\n"
     ]
    }
   ],
   "source": [
    "# 바로 아래의 자식을 검색\n",
    "title = soup.select('head > title')[0]\n",
    "print(title.get_text())"
   ]
  },
  {
   "cell_type": "code",
   "execution_count": 35,
   "metadata": {
    "scrolled": true
   },
   "outputs": [
    {
     "name": "stdout",
     "output_type": "stream",
     "text": [
      "<class 'bs4.element.Tag'> 3\n",
      " \n",
      "\n",
      " [서울=뉴시스] 고은결 기자 = SK하이닉스의 인텔 낸드 사업 부문 인수는 D램 반도체와 함께 메모리 반도체 시장의 양대 축으로 꼽히는 낸드플래시의 경쟁력 강화를 위한 최태원 SK그룹 회장의 과감한 베팅으로 해석된다. SK하이닉스는 현재 D램 부문에서는 세계 2위지만, 낸드 부문에서는 4~5위에 그쳐왔다.\n",
      "SK하이닉스는 인텔의 낸드 사업 부문 전체를 10조3104억원에 인수하는 내용의 양도 양수 계약을 체결했다고 20일 밝혔다. 이는 지난 2016년 삼성전자가 하만을 인수했을 때 쓴 80억달러(약 9조원)를 뛰어넘는 국내 M&A(인수합병) 사상 최대 규모다. \n",
      "인수 대상은 인텔의 SSD 사업 부문과 낸드 단품 및 웨이퍼 비즈니스, 중국 다롄 생산시설을 포함한 낸드 사업 부문 전체다. 다만 옵테인 사업부는 포함되지 않는다. \n",
      "SK하이닉스는 인텔의 솔루션 기술 및 생산 능력을 접목해 기업용 SSD 등 고부가가치 중심의 3D 낸드 솔루션 포트폴리오를 구축한다는 방침이다. SK하이닉스는 지난 2018년 CTF(Charge Trap Flash) 기반 96단 4D 낸드, 지난해 128단 4D 낸드플래시를 세계 최초로 개발한 기술력을 보유하고 있다.\n",
      "재계에선 이번 M&A를 두고 최태원 SK그룹 회장이 2012년 SK하이닉스 인수, 2018년 도시바 메모리 지분 인수에 이어 또 한 번 통 큰 '승부수'를 던졌다는 평이 나온다.\n",
      "SK그룹은 그동안 SK하이닉스를 비롯해 SK머티리얼즈, SK실트론 등을 인수해 반도체 수직 계열화를 완성하는 효과를 봤다. 여기에 2018년에는 도시바 메모리를 인수했고, 이번에 인텔 낸드 사업까지 인수하며 경쟁력 강화에 속도를 내게 됐다.\n",
      "낸드 시장에 후발주자로 뛰어든 SK하이닉스는 세계 시장에서 줄곧 4~5위권에 머물렀다. 시장조사업체 옴디아에 따르면 2020년 2분기에 낸드 시장 점유율 인텔은 11.5%로 4위, SK하이닉스는 11.4%로 5위로 조사됐다. 같은 기간 SSD 시장에서 인텔의 점유율은 19.1%로 2위, SK하이닉스는 8.0%로 5위였다.\n",
      "SK하이닉스는 이번 인수로 낸드플래시 분야에서 글로벌 선두권 기업으로 도약하며 D램 편중을 벗어날 것으로 기대하고 있다. 올해 2분기 기준 SK하이닉스 전체 매출 중 D램 사업 비중은 73%에 달한다. 낸드 시장에서 선두 업체와의 점유율 격차를 좁히고 수익성을 개선하는 것이 SK하이닉스의 주요 과제로 꼽혀왔다. \n",
      "이석희 SK하이닉스 사장은 이날 전직원에 CEO 메시지를 통해 \"우리를 둘러싼 경쟁환경이 녹록하지 않지만, 낸드 사업에서도 D램 사업만큼 확고한 지위를 확보하기 위한 도약의 발판을 마련하고자 과감한 결정을 내리게 됐다\"고 설명했다.\n",
      "이어 \"안정적인 성과를 내고 있는 D램 사업만큼 낸드 사업이 성장한다면, 기업가치 100조원이라는 목표 달성은 반드시 앞당겨질 것\"이라며 \"D램과 낸드라는 든든한 두 날개를 활짝 펴고 4차 산업혁명의 중심으로 함께 비상해 나가자\"고 전했다.\n",
      "한편 시장조사기관 옴디아에 따르면 낸드플래시 시장은 2019년부터 2024년까지 연평균 13.2% 성장할 것으로 전망된다. \n",
      "낸드 기반의 저장장치인 SSD 시장도 꾸준한 성장세가 예상된다. 시장조사업체 IDC에 따르면 SSD 시장은 2019년부터 2024년까지 연평균 18% 성장할 것으로 예상되며, 이 중 기업용 SSD가 연평균 23.9% 성장해 전체 SSD 시장의 확대를 견인할 것으로 기대된다.\n",
      "☞공감언론 뉴시스 keg@newsis.com \n"
     ]
    }
   ],
   "source": [
    "# .은 태그의 클래스를 검색\n",
    "# class가 article_view인 태그 탐색\n",
    "body = soup.select('.article_view')[0]\n",
    "print(type(body), len(body))\n",
    "for p in body.find_all('p'):\n",
    "    print(p.get_text())"
   ]
  },
  {
   "cell_type": "code",
   "execution_count": 36,
   "metadata": {},
   "outputs": [
    {
     "name": "stdout",
     "output_type": "stream",
     "text": [
      "<class 'bs4.element.Tag'> 3\n",
      " \n",
      "\n",
      " [서울=뉴시스] 고은결 기자 = SK하이닉스의 인텔 낸드 사업 부문 인수는 D램 반도체와 함께 메모리 반도체 시장의 양대 축으로 꼽히는 낸드플래시의 경쟁력 강화를 위한 최태원 SK그룹 회장의 과감한 베팅으로 해석된다. SK하이닉스는 현재 D램 부문에서는 세계 2위지만, 낸드 부문에서는 4~5위에 그쳐왔다.\n",
      "SK하이닉스는 인텔의 낸드 사업 부문 전체를 10조3104억원에 인수하는 내용의 양도 양수 계약을 체결했다고 20일 밝혔다. 이는 지난 2016년 삼성전자가 하만을 인수했을 때 쓴 80억달러(약 9조원)를 뛰어넘는 국내 M&A(인수합병) 사상 최대 규모다. \n",
      "인수 대상은 인텔의 SSD 사업 부문과 낸드 단품 및 웨이퍼 비즈니스, 중국 다롄 생산시설을 포함한 낸드 사업 부문 전체다. 다만 옵테인 사업부는 포함되지 않는다. \n",
      "SK하이닉스는 인텔의 솔루션 기술 및 생산 능력을 접목해 기업용 SSD 등 고부가가치 중심의 3D 낸드 솔루션 포트폴리오를 구축한다는 방침이다. SK하이닉스는 지난 2018년 CTF(Charge Trap Flash) 기반 96단 4D 낸드, 지난해 128단 4D 낸드플래시를 세계 최초로 개발한 기술력을 보유하고 있다.\n",
      "재계에선 이번 M&A를 두고 최태원 SK그룹 회장이 2012년 SK하이닉스 인수, 2018년 도시바 메모리 지분 인수에 이어 또 한 번 통 큰 '승부수'를 던졌다는 평이 나온다.\n",
      "SK그룹은 그동안 SK하이닉스를 비롯해 SK머티리얼즈, SK실트론 등을 인수해 반도체 수직 계열화를 완성하는 효과를 봤다. 여기에 2018년에는 도시바 메모리를 인수했고, 이번에 인텔 낸드 사업까지 인수하며 경쟁력 강화에 속도를 내게 됐다.\n",
      "낸드 시장에 후발주자로 뛰어든 SK하이닉스는 세계 시장에서 줄곧 4~5위권에 머물렀다. 시장조사업체 옴디아에 따르면 2020년 2분기에 낸드 시장 점유율 인텔은 11.5%로 4위, SK하이닉스는 11.4%로 5위로 조사됐다. 같은 기간 SSD 시장에서 인텔의 점유율은 19.1%로 2위, SK하이닉스는 8.0%로 5위였다.\n",
      "SK하이닉스는 이번 인수로 낸드플래시 분야에서 글로벌 선두권 기업으로 도약하며 D램 편중을 벗어날 것으로 기대하고 있다. 올해 2분기 기준 SK하이닉스 전체 매출 중 D램 사업 비중은 73%에 달한다. 낸드 시장에서 선두 업체와의 점유율 격차를 좁히고 수익성을 개선하는 것이 SK하이닉스의 주요 과제로 꼽혀왔다. \n",
      "이석희 SK하이닉스 사장은 이날 전직원에 CEO 메시지를 통해 \"우리를 둘러싼 경쟁환경이 녹록하지 않지만, 낸드 사업에서도 D램 사업만큼 확고한 지위를 확보하기 위한 도약의 발판을 마련하고자 과감한 결정을 내리게 됐다\"고 설명했다.\n",
      "이어 \"안정적인 성과를 내고 있는 D램 사업만큼 낸드 사업이 성장한다면, 기업가치 100조원이라는 목표 달성은 반드시 앞당겨질 것\"이라며 \"D램과 낸드라는 든든한 두 날개를 활짝 펴고 4차 산업혁명의 중심으로 함께 비상해 나가자\"고 전했다.\n",
      "한편 시장조사기관 옴디아에 따르면 낸드플래시 시장은 2019년부터 2024년까지 연평균 13.2% 성장할 것으로 전망된다. \n",
      "낸드 기반의 저장장치인 SSD 시장도 꾸준한 성장세가 예상된다. 시장조사업체 IDC에 따르면 SSD 시장은 2019년부터 2024년까지 연평균 18% 성장할 것으로 예상되며, 이 중 기업용 SSD가 연평균 23.9% 성장해 전체 SSD 시장의 확대를 견인할 것으로 기대된다.\n",
      "☞공감언론 뉴시스 keg@newsis.com \n"
     ]
    }
   ],
   "source": [
    "# div 태그 중 class가 article_view인 태그 탐색\n",
    "body = soup.select('div .article_view')[0]\n",
    "print(type(body), len(body))\n",
    "for p in body.find_all('p'):\n",
    "    print(p.get_text())"
   ]
  },
  {
   "cell_type": "code",
   "execution_count": 37,
   "metadata": {},
   "outputs": [
    {
     "name": "stdout",
     "output_type": "stream",
     "text": [
      "[<div class=\"article_view\" data-translation-body=\"true\" id=\"harmonyContainer\">\n",
      "<section dmcf-sid=\"ANIrQYUk2C\">\n",
      "<p dmcf-pid=\"A9evUb1LOJ\" dmcf-ptype=\"general\"><br/> </p>\n",
      "<figure class=\"figure_frm origin_fig\" dmcf-pid=\"A4zh7bO18F\" dmcf-ptype=\"figure\">\n",
      "<p class=\"link_figure\"><img alt=\"[서울=뉴시스] 최태원 SK 회장\" class=\"thumb_g_article\" data-org-src=\"https://t1.daumcdn.net/news/202010/20/newsis/20201020114157469ztoc.jpg\" data-org-width=\"640\" dmcf-mid=\"AiRdExxHlm\" dmcf-mtype=\"image\" height=\"auto\" src=\"https://img2.daumcdn.net/thumb/R658x0.q70/?fname=https://t1.daumcdn.net/news/202010/20/newsis/20201020114157469ztoc.jpg\" width=\"658\"/></p>\n",
      "<figcaption class=\"txt_caption default_figure\">\n",
      "            [서울=뉴시스] 최태원 SK 회장\n",
      "           </figcaption>\n",
      "</figure>\n",
      "<p dmcf-pid=\"AmxcixFI3k\" dmcf-ptype=\"general\"><br/> [서울=뉴시스] 고은결 기자 = SK하이닉스의 인텔 낸드 사업 부문 인수는 D램 반도체와 함께 메모리 반도체 시장의 양대 축으로 꼽히는 낸드플래시의 경쟁력 강화를 위한 최태원 SK그룹 회장의 과감한 베팅으로 해석된다. SK하이닉스는 현재 D램 부문에서는 세계 2위지만, 낸드 부문에서는 4~5위에 그쳐왔다.</p>\n",
      "<p dmcf-pid=\"ApXAfVUrgp\" dmcf-ptype=\"general\">SK하이닉스는 인텔의 낸드 사업 부문 전체를 10조3104억원에 인수하는 내용의 양도 양수 계약을 체결했다고 20일 밝혔다. 이는 지난 2016년 삼성전자가 하만을 인수했을 때 쓴 80억달러(약 9조원)를 뛰어넘는 국내 M&amp;A(인수합병) 사상 최대 규모다. </p>\n",
      "<p dmcf-pid=\"A7KmBBDOqc\" dmcf-ptype=\"general\">인수 대상은 인텔의 SSD 사업 부문과 낸드 단품 및 웨이퍼 비즈니스, 중국 다롄 생산시설을 포함한 낸드 사업 부문 전체다. 다만 옵테인 사업부는 포함되지 않는다. </p>\n",
      "<p dmcf-pid=\"ASCudXA8fv\" dmcf-ptype=\"general\">SK하이닉스는 인텔의 솔루션 기술 및 생산 능력을 접목해 기업용 SSD 등 고부가가치 중심의 3D 낸드 솔루션 포트폴리오를 구축한다는 방침이다. SK하이닉스는 지난 2018년 CTF(Charge Trap Flash) 기반 96단 4D 낸드, 지난해 128단 4D 낸드플래시를 세계 최초로 개발한 기술력을 보유하고 있다.</p>\n",
      "<p dmcf-pid=\"ArGOW3o3ol\" dmcf-ptype=\"general\">재계에선 이번 M&amp;A를 두고 최태원 SK그룹 회장이 2012년 SK하이닉스 인수, 2018년 도시바 메모리 지분 인수에 이어 또 한 번 통 큰 '승부수'를 던졌다는 평이 나온다.</p>\n",
      "<p dmcf-pid=\"AIAl4kNgmP\" dmcf-ptype=\"general\">SK그룹은 그동안 SK하이닉스를 비롯해 SK머티리얼즈, SK실트론 등을 인수해 반도체 수직 계열화를 완성하는 효과를 봤다. 여기에 2018년에는 도시바 메모리를 인수했고, 이번에 인텔 낸드 사업까지 인수하며 경쟁력 강화에 속도를 내게 됐다.</p>\n",
      "<p dmcf-pid=\"AgcdS1H6gz\" dmcf-ptype=\"general\">낸드 시장에 후발주자로 뛰어든 SK하이닉스는 세계 시장에서 줄곧 4~5위권에 머물렀다. 시장조사업체 옴디아에 따르면 2020년 2분기에 낸드 시장 점유율 인텔은 11.5%로 4위, SK하이닉스는 11.4%로 5위로 조사됐다. 같은 기간 SSD 시장에서 인텔의 점유율은 19.1%로 2위, SK하이닉스는 8.0%로 5위였다.</p>\n",
      "<p dmcf-pid=\"AqaTKfhAHY\" dmcf-ptype=\"general\">SK하이닉스는 이번 인수로 낸드플래시 분야에서 글로벌 선두권 기업으로 도약하며 D램 편중을 벗어날 것으로 기대하고 있다. 올해 2분기 기준 SK하이닉스 전체 매출 중 D램 사업 비중은 73%에 달한다. 낸드 시장에서 선두 업체와의 점유율 격차를 좁히고 수익성을 개선하는 것이 SK하이닉스의 주요 과제로 꼽혀왔다. </p>\n",
      "<p dmcf-pid=\"A9g2sp70ii\" dmcf-ptype=\"general\">이석희 SK하이닉스 사장은 이날 전직원에 CEO 메시지를 통해 \"우리를 둘러싼 경쟁환경이 녹록하지 않지만, 낸드 사업에서도 D램 사업만큼 확고한 지위를 확보하기 위한 도약의 발판을 마련하고자 과감한 결정을 내리게 됐다\"고 설명했다.</p>\n",
      "<p dmcf-pid=\"AJ1XVlkRv7\" dmcf-ptype=\"general\">이어 \"안정적인 성과를 내고 있는 D램 사업만큼 낸드 사업이 성장한다면, 기업가치 100조원이라는 목표 달성은 반드시 앞당겨질 것\"이라며 \"D램과 낸드라는 든든한 두 날개를 활짝 펴고 4차 산업혁명의 중심으로 함께 비상해 나가자\"고 전했다.</p>\n",
      "<p dmcf-pid=\"AWt8fuXA8P\" dmcf-ptype=\"general\">한편 시장조사기관 옴디아에 따르면 낸드플래시 시장은 2019년부터 2024년까지 연평균 13.2% 성장할 것으로 전망된다. </p>\n",
      "<p dmcf-pid=\"AUvpwEfYr6\" dmcf-ptype=\"general\">낸드 기반의 저장장치인 SSD 시장도 꾸준한 성장세가 예상된다. 시장조사업체 IDC에 따르면 SSD 시장은 2019년부터 2024년까지 연평균 18% 성장할 것으로 예상되며, 이 중 기업용 SSD가 연평균 23.9% 성장해 전체 SSD 시장의 확대를 견인할 것으로 기대된다.</p>\n",
      "<p dmcf-pid=\"Ajyn32yWJ3\" dmcf-ptype=\"general\"><span>☞공감언론 뉴시스</span> keg@newsis.com </p>\n",
      "</section>\n",
      "</div>]\n"
     ]
    }
   ],
   "source": [
    "# div 태그 중 id가 harmonyContainer인 태그 탐색\n",
    "container = soup.select('#harmonyContainer')\n",
    "print(container)"
   ]
  },
  {
   "cell_type": "code",
   "execution_count": 46,
   "metadata": {},
   "outputs": [
    {
     "name": "stdout",
     "output_type": "stream",
     "text": [
      "[<div class=\"article_view\" data-translation-body=\"true\" id=\"harmonyContainer\">\n",
      "<section dmcf-sid=\"ANIrQYUk2C\">\n",
      "<p dmcf-pid=\"A9evUb1LOJ\" dmcf-ptype=\"general\"><br/> </p>\n",
      "<figure class=\"figure_frm origin_fig\" dmcf-pid=\"A4zh7bO18F\" dmcf-ptype=\"figure\">\n",
      "<p class=\"link_figure\"><img alt=\"[서울=뉴시스] 최태원 SK 회장\" class=\"thumb_g_article\" data-org-src=\"https://t1.daumcdn.net/news/202010/20/newsis/20201020114157469ztoc.jpg\" data-org-width=\"640\" dmcf-mid=\"AiRdExxHlm\" dmcf-mtype=\"image\" height=\"auto\" src=\"https://img2.daumcdn.net/thumb/R658x0.q70/?fname=https://t1.daumcdn.net/news/202010/20/newsis/20201020114157469ztoc.jpg\" width=\"658\"/></p>\n",
      "<figcaption class=\"txt_caption default_figure\">\n",
      "            [서울=뉴시스] 최태원 SK 회장\n",
      "           </figcaption>\n",
      "</figure>\n",
      "<p dmcf-pid=\"AmxcixFI3k\" dmcf-ptype=\"general\"><br/> [서울=뉴시스] 고은결 기자 = SK하이닉스의 인텔 낸드 사업 부문 인수는 D램 반도체와 함께 메모리 반도체 시장의 양대 축으로 꼽히는 낸드플래시의 경쟁력 강화를 위한 최태원 SK그룹 회장의 과감한 베팅으로 해석된다. SK하이닉스는 현재 D램 부문에서는 세계 2위지만, 낸드 부문에서는 4~5위에 그쳐왔다.</p>\n",
      "<p dmcf-pid=\"ApXAfVUrgp\" dmcf-ptype=\"general\">SK하이닉스는 인텔의 낸드 사업 부문 전체를 10조3104억원에 인수하는 내용의 양도 양수 계약을 체결했다고 20일 밝혔다. 이는 지난 2016년 삼성전자가 하만을 인수했을 때 쓴 80억달러(약 9조원)를 뛰어넘는 국내 M&amp;A(인수합병) 사상 최대 규모다. </p>\n",
      "<p dmcf-pid=\"A7KmBBDOqc\" dmcf-ptype=\"general\">인수 대상은 인텔의 SSD 사업 부문과 낸드 단품 및 웨이퍼 비즈니스, 중국 다롄 생산시설을 포함한 낸드 사업 부문 전체다. 다만 옵테인 사업부는 포함되지 않는다. </p>\n",
      "<p dmcf-pid=\"ASCudXA8fv\" dmcf-ptype=\"general\">SK하이닉스는 인텔의 솔루션 기술 및 생산 능력을 접목해 기업용 SSD 등 고부가가치 중심의 3D 낸드 솔루션 포트폴리오를 구축한다는 방침이다. SK하이닉스는 지난 2018년 CTF(Charge Trap Flash) 기반 96단 4D 낸드, 지난해 128단 4D 낸드플래시를 세계 최초로 개발한 기술력을 보유하고 있다.</p>\n",
      "<p dmcf-pid=\"ArGOW3o3ol\" dmcf-ptype=\"general\">재계에선 이번 M&amp;A를 두고 최태원 SK그룹 회장이 2012년 SK하이닉스 인수, 2018년 도시바 메모리 지분 인수에 이어 또 한 번 통 큰 '승부수'를 던졌다는 평이 나온다.</p>\n",
      "<p dmcf-pid=\"AIAl4kNgmP\" dmcf-ptype=\"general\">SK그룹은 그동안 SK하이닉스를 비롯해 SK머티리얼즈, SK실트론 등을 인수해 반도체 수직 계열화를 완성하는 효과를 봤다. 여기에 2018년에는 도시바 메모리를 인수했고, 이번에 인텔 낸드 사업까지 인수하며 경쟁력 강화에 속도를 내게 됐다.</p>\n",
      "<p dmcf-pid=\"AgcdS1H6gz\" dmcf-ptype=\"general\">낸드 시장에 후발주자로 뛰어든 SK하이닉스는 세계 시장에서 줄곧 4~5위권에 머물렀다. 시장조사업체 옴디아에 따르면 2020년 2분기에 낸드 시장 점유율 인텔은 11.5%로 4위, SK하이닉스는 11.4%로 5위로 조사됐다. 같은 기간 SSD 시장에서 인텔의 점유율은 19.1%로 2위, SK하이닉스는 8.0%로 5위였다.</p>\n",
      "<p dmcf-pid=\"AqaTKfhAHY\" dmcf-ptype=\"general\">SK하이닉스는 이번 인수로 낸드플래시 분야에서 글로벌 선두권 기업으로 도약하며 D램 편중을 벗어날 것으로 기대하고 있다. 올해 2분기 기준 SK하이닉스 전체 매출 중 D램 사업 비중은 73%에 달한다. 낸드 시장에서 선두 업체와의 점유율 격차를 좁히고 수익성을 개선하는 것이 SK하이닉스의 주요 과제로 꼽혀왔다. </p>\n",
      "<p dmcf-pid=\"A9g2sp70ii\" dmcf-ptype=\"general\">이석희 SK하이닉스 사장은 이날 전직원에 CEO 메시지를 통해 \"우리를 둘러싼 경쟁환경이 녹록하지 않지만, 낸드 사업에서도 D램 사업만큼 확고한 지위를 확보하기 위한 도약의 발판을 마련하고자 과감한 결정을 내리게 됐다\"고 설명했다.</p>\n",
      "<p dmcf-pid=\"AJ1XVlkRv7\" dmcf-ptype=\"general\">이어 \"안정적인 성과를 내고 있는 D램 사업만큼 낸드 사업이 성장한다면, 기업가치 100조원이라는 목표 달성은 반드시 앞당겨질 것\"이라며 \"D램과 낸드라는 든든한 두 날개를 활짝 펴고 4차 산업혁명의 중심으로 함께 비상해 나가자\"고 전했다.</p>\n",
      "<p dmcf-pid=\"AWt8fuXA8P\" dmcf-ptype=\"general\">한편 시장조사기관 옴디아에 따르면 낸드플래시 시장은 2019년부터 2024년까지 연평균 13.2% 성장할 것으로 전망된다. </p>\n",
      "<p dmcf-pid=\"AUvpwEfYr6\" dmcf-ptype=\"general\">낸드 기반의 저장장치인 SSD 시장도 꾸준한 성장세가 예상된다. 시장조사업체 IDC에 따르면 SSD 시장은 2019년부터 2024년까지 연평균 18% 성장할 것으로 예상되며, 이 중 기업용 SSD가 연평균 23.9% 성장해 전체 SSD 시장의 확대를 견인할 것으로 기대된다.</p>\n",
      "<p dmcf-pid=\"Ajyn32yWJ3\" dmcf-ptype=\"general\"><span>☞공감언론 뉴시스</span> keg@newsis.com </p>\n",
      "</section>\n",
      "</div>]\n"
     ]
    }
   ],
   "source": [
    "# div 태그 중 id가 mArticle인 태그의 하위 태그 중 id가 harmonyContainer인 태그 검색\n",
    "title = soup.select('div#mArticle #harmonyContainer')\n",
    "print(title)"
   ]
  },
  {
   "cell_type": "code",
   "execution_count": 47,
   "metadata": {},
   "outputs": [
    {
     "name": "stdout",
     "output_type": "stream",
     "text": [
      "http://search.daum.net/search?w=tot&DA=23W&rtmaxcoll=Z8T&q=서울특별시날씨\n",
      "http://search.daum.net/search?w=tot&DA=23W&rtmaxcoll=Z8T&q=수원시 권선구날씨\n",
      "http://search.daum.net/search?w=tot&DA=23W&rtmaxcoll=Z8T&q=인천광역시날씨\n",
      "http://search.daum.net/search?w=tot&DA=23W&rtmaxcoll=Z8T&q=대구광역시날씨\n",
      "http://search.daum.net/search?w=tot&DA=23W&rtmaxcoll=Z8T&q=대전광역시날씨\n",
      "http://search.daum.net/search?w=tot&DA=23W&rtmaxcoll=Z8T&q=광주광역시날씨\n",
      "http://search.daum.net/search?w=tot&DA=23W&rtmaxcoll=Z8T&q=부산광역시날씨\n",
      "http://search.daum.net/search?w=tot&DA=23W&rtmaxcoll=Z8T&q=울산광역시날씨\n",
      "http://search.daum.net/search?w=tot&DA=23W&rtmaxcoll=Z8T&q=울릉군날씨\n",
      "http://search.daum.net/search?w=tot&DA=23W&rtmaxcoll=Z8T&q=춘천시날씨\n",
      "http://search.daum.net/search?w=tot&DA=23W&rtmaxcoll=Z8T&q=강릉시날씨\n",
      "http://search.daum.net/search?w=tot&DA=23W&rtmaxcoll=Z8T&q=백령면날씨\n",
      "http://search.daum.net/search?w=tot&DA=23W&rtmaxcoll=Z8T&q=청주시 상당구날씨\n",
      "http://search.daum.net/search?w=tot&DA=23W&rtmaxcoll=Z8T&q=전주시 완산구날씨\n",
      "http://search.daum.net/search?w=tot&DA=23W&rtmaxcoll=Z8T&q=목포시날씨\n",
      "http://search.daum.net/search?w=tot&DA=23W&rtmaxcoll=Z8T&q=여수시날씨\n",
      "http://search.daum.net/search?w=tot&DA=23W&rtmaxcoll=Z8T&q=제주특별자치도날씨\n",
      "http://search.daum.net/search?w=tot&DA=23W&rtmaxcoll=Z8T&q=안동시날씨\n",
      "http://search.daum.net/search?w=tot&DA=23W&rtmaxcoll=Z8T&q=창원시 의창구날씨\n",
      "http://policy.daum.net/info/info\n",
      "http://cs.daum.net/faq/63.html\n",
      "http://www.kakaocorp.com/\n"
     ]
    }
   ],
   "source": [
    "import re\n",
    "\n",
    "res = requests.get('http://media.daum.net/economic/')\n",
    "\n",
    "soup = BeautifulSoup(res.content, 'html.parser')\n",
    "\n",
    "# a 태그이면서 href 속성을 갖는 경우 탐색, 리스트 타입으로 links 변수에 저장됨\n",
    "links = soup.select('a[href]')\n",
    "\n",
    "for link in links:\n",
    "    # print(link)\n",
    "    # print(link['href'])\n",
    "    if re.search('http://\\w+', link['href']):\n",
    "        print(link['href'])"
   ]
  },
  {
   "cell_type": "markdown",
   "metadata": {},
   "source": [
    "## CSS Selector 활용 팁\n",
    "1. 네이버 부동산 매매 아파트 이름과 가격만 찾아보기\n",
    "    - CSS Selector 를 활용하는 팁: Chrome F12(WINDOW) or Alt + Command + i(MAC) --> Copy Selector 참고\n",
    "    - Copy Selector 시 일부 태그에 붙는 :nth-child(#) 은 동일한 태그로 리스트가 있을 경우, 리스트 중 특정한 값만 가리킴 . 전체 리스트를 가져오는 경우에는 :nth-child(#) 은 삭제할 필요가 있음"
   ]
  },
  {
   "cell_type": "code",
   "execution_count": 48,
   "metadata": {},
   "outputs": [],
   "source": [
    "import re\n",
    "import requests\n",
    "from bs4 import BeautifulSoup\n",
    "\n",
    "res = requests.get('http://land.naver.com/article/divisionInfo.nhn?rletTypeCd=A01&tradeTypeCd=A1&hscpTypeCd=A01%3AA03%3AA04&cortarNo=1168000000&articleOrderCode=&cpId=&minPrc=&maxPrc=&minWrrnt=&maxWrrnt=&minLease=&maxLease=&minSpc=&maxSpc=&subDist=&mviDate=&hsehCnt=&rltrId=&mnex=&siteOrderCode=&cmplYn=')\n",
    "\n",
    "soup = BeautifulSoup(res.content, 'html.parser')\n",
    "\n",
    "# a 태그이면서 href 속성 값이 특정한 값을 갖는 경우 탐색\n",
    "link_title = soup.select(\"#depth4Tab0Content > div > table > tbody > tr > td.align_l.name > div > a.sale_title\")\n",
    "link_price = soup.select(\"#depth4Tab0Content > div > table > tbody > tr > td.num.align_r > div > strong\")\n",
    "\n",
    "for num in range(len(link_price)):\n",
    "    print(link_title[num].get_text(), link_price[num].get_text())"
   ]
  },
  {
   "cell_type": "code",
   "execution_count": 66,
   "metadata": {},
   "outputs": [
    {
     "name": "stdout",
     "output_type": "stream",
     "text": [
      "경기도 : 19도\n",
      "인천시 : 19도\n",
      "대구시 : 20도\n",
      "대전시 : 20도\n",
      "광주시 : 21도\n",
      "부산시 : 22도\n",
      "울산시 : 20도\n",
      "경상북도 : 18도\n",
      "강원도 : 22도\n",
      "충청북도 : 19도\n",
      "전라북도 : 21도\n",
      "전라남도 : 19도\n",
      "제주자치도 : 21도\n",
      "경상남도 : 22도\n"
     ]
    }
   ],
   "source": [
    "import requests\n",
    "from bs4 import BeautifulSoup\n",
    "\n",
    "res = requests.get('http://daum.net/')\n",
    "soup = BeautifulSoup(res.content, 'html.parser')\n",
    "\n",
    "areas = soup.select('li.hide span.txt_part')\n",
    "area_list = []\n",
    "for area in areas:\n",
    "    area_list.append(area.get_text())\n",
    "\n",
    "temps = soup.select('li.hide span.txt_temper')\n",
    "dic = {}\n",
    "for num in range(len(area_list)):\n",
    "    dic[area_list[num]] = temps[num].get_text() + '도'\n",
    "\n",
    "for area, temp in dic.items():\n",
    "    print(\"{0} : {1}\".format(area, temp))"
   ]
  },
  {
   "cell_type": "code",
   "execution_count": null,
   "metadata": {},
   "outputs": [],
   "source": []
  }
 ],
 "metadata": {
  "kernelspec": {
   "display_name": "Python 3",
   "language": "python",
   "name": "python3"
  },
  "language_info": {
   "codemirror_mode": {
    "name": "ipython",
    "version": 3
   },
   "file_extension": ".py",
   "mimetype": "text/x-python",
   "name": "python",
   "nbconvert_exporter": "python",
   "pygments_lexer": "ipython3",
   "version": "3.7.9"
  }
 },
 "nbformat": 4,
 "nbformat_minor": 4
}
