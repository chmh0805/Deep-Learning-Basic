{
 "cells": [
  {
   "cell_type": "markdown",
   "metadata": {},
   "source": [
    "## 5.4 단순한 계층 구현하기"
   ]
  },
  {
   "cell_type": "markdown",
   "metadata": {},
   "source": [
    "### 5.4.1 곱셈 계층"
   ]
  },
  {
   "cell_type": "code",
   "execution_count": 1,
   "metadata": {},
   "outputs": [],
   "source": [
    "class MulLayer:\n",
    "    def __init__(self): # 인스턴스 변수를 초기화한다.\n",
    "        self.x = None\n",
    "        self.y = None\n",
    "    \n",
    "    def forward(self, x, y):\n",
    "        self.x = x\n",
    "        self.y = y\n",
    "        out = x * y\n",
    "        \n",
    "        return out\n",
    "    \n",
    "    def backward(self, dout):\n",
    "        dx = dout * self.y # x와 y를 바꾼다.\n",
    "        dy = dout * self.x\n",
    "        \n",
    "        return dx, dy"
   ]
  },
  {
   "cell_type": "code",
   "execution_count": 2,
   "metadata": {},
   "outputs": [
    {
     "name": "stdout",
     "output_type": "stream",
     "text": [
      "220.00000000000003\n"
     ]
    }
   ],
   "source": [
    "apple = 100\n",
    "apple_num = 2\n",
    "tax = 1.1\n",
    "\n",
    "# 계층들\n",
    "mul_apple_layer = MulLayer()\n",
    "mul_tax_layer = MulLayer()\n",
    "\n",
    "# 순전파\n",
    "apple_price = mul_apple_layer.forward(apple, apple_num)\n",
    "price = mul_tax_layer.forward(apple_price, tax)\n",
    "\n",
    "print(price)"
   ]
  },
  {
   "cell_type": "code",
   "execution_count": 3,
   "metadata": {},
   "outputs": [
    {
     "name": "stdout",
     "output_type": "stream",
     "text": [
      "2.2 110.00000000000001 200\n"
     ]
    }
   ],
   "source": [
    "# 역전파\n",
    "dprice = 1\n",
    "dapple_price, dtax = mul_tax_layer.backward(dprice)\n",
    "dapple, dapple_num = mul_apple_layer.backward(dapple_price)\n",
    "\n",
    "print(dapple, dapple_num, dtax)"
   ]
  },
  {
   "cell_type": "markdown",
   "metadata": {},
   "source": [
    "### 5.4.2 덧셈 계층"
   ]
  },
  {
   "cell_type": "code",
   "execution_count": 4,
   "metadata": {},
   "outputs": [],
   "source": [
    "class AddLayer:\n",
    "    def __init__(self):\n",
    "        pass\n",
    "    \n",
    "    def forward(self, x, y):\n",
    "        out = x + y\n",
    "        return out\n",
    "    \n",
    "    def backward(self, dout):\n",
    "        dx = dout * 1\n",
    "        dy = dout * 1\n",
    "        return dx, dy"
   ]
  },
  {
   "cell_type": "code",
   "execution_count": 5,
   "metadata": {},
   "outputs": [
    {
     "name": "stdout",
     "output_type": "stream",
     "text": [
      "715.0000000000001\n",
      "110.00000000000001 2.2 3.3000000000000003 165.0 650\n"
     ]
    }
   ],
   "source": [
    "apple = 100\n",
    "apple_num = 2\n",
    "orange = 150\n",
    "orange_num = 3\n",
    "tax = 1.1\n",
    "\n",
    "# 계층들\n",
    "mul_apple_layer = MulLayer()\n",
    "mul_orange_layer = MulLayer()\n",
    "sum_apple_orange_layer = AddLayer()\n",
    "mul_tax_layer = MulLayer()\n",
    "\n",
    "# 순전파\n",
    "apple_price = mul_apple_layer.forward(apple, apple_num) #(1)\n",
    "orange_price = mul_orange_layer.forward(orange, orange_num) #(2)\n",
    "all_price = sum_apple_orange_layer.forward(apple_price, orange_price) #(3)\n",
    "price = mul_tax_layer.forward(all_price, tax) #(4)\n",
    "\n",
    "# 역전파\n",
    "dprice = 1\n",
    "dall_price, dtax = mul_tax_layer.backward(dprice) #(4)\n",
    "dapple_price, dorange_price = sum_apple_orange_layer.backward(dall_price) #(3)\n",
    "dorange, dorange_num = mul_orange_layer.backward(dorange_price) #(2)\n",
    "dapple, dapple_num = mul_apple_layer.backward(dapple_price) #(1)\n",
    "\n",
    "print(price)\n",
    "print(dapple_num, dapple, dorange, dorange_num, dtax)"
   ]
  },
  {
   "cell_type": "markdown",
   "metadata": {},
   "source": [
    "## 5.7 오차역전파법 구현하기"
   ]
  },
  {
   "cell_type": "code",
   "execution_count": 6,
   "metadata": {},
   "outputs": [],
   "source": [
    "# coding: utf-8\n",
    "import sys, os\n",
    "sys.path.append(\"../week3/\")\n",
    "sys.path.append(\"../week3/ch05/\")# 부모 디렉터리의 파일을 가져올 수 있도록 설정\n",
    "import numpy as np\n",
    "from dataset.mnist import load_mnist\n",
    "from two_layer_net import TwoLayerNet"
   ]
  },
  {
   "cell_type": "code",
   "execution_count": 7,
   "metadata": {},
   "outputs": [
    {
     "name": "stdout",
     "output_type": "stream",
     "text": [
      "Help on class TwoLayerNet in module two_layer_net:\n",
      "\n",
      "class TwoLayerNet(builtins.object)\n",
      " |  TwoLayerNet(input_size, hidden_size, output_size, weight_init_std=0.01)\n",
      " |  \n",
      " |  Methods defined here:\n",
      " |  \n",
      " |  __init__(self, input_size, hidden_size, output_size, weight_init_std=0.01)\n",
      " |      Initialize self.  See help(type(self)) for accurate signature.\n",
      " |  \n",
      " |  accuracy(self, x, t)\n",
      " |  \n",
      " |  gradient(self, x, t)\n",
      " |  \n",
      " |  loss(self, x, t)\n",
      " |      # x : 입력 데이터, t : 정답 레이블\n",
      " |  \n",
      " |  numerical_gradient(self, x, t)\n",
      " |      # x : 입력 데이터, t : 정답 레이블\n",
      " |  \n",
      " |  predict(self, x)\n",
      " |  \n",
      " |  ----------------------------------------------------------------------\n",
      " |  Data descriptors defined here:\n",
      " |  \n",
      " |  __dict__\n",
      " |      dictionary for instance variables (if defined)\n",
      " |  \n",
      " |  __weakref__\n",
      " |      list of weak references to the object (if defined)\n",
      "\n"
     ]
    }
   ],
   "source": [
    "help(TwoLayerNet)"
   ]
  },
  {
   "cell_type": "code",
   "execution_count": 8,
   "metadata": {},
   "outputs": [
    {
     "data": {
      "text/plain": [
       "\"class TwoLayerNet:\\n\\n    def __init__(self, input_size, hidden_size, output_size, weight_init_std = 0.01):\\n        # 가중치 초기화\\n        self.params = {}\\n        self.params['W1'] = weight_init_std * np.random.randn(input_size, hidden_size)\\n        self.params['b1'] = np.zeros(hidden_size)\\n        self.params['W2'] = weight_init_std * np.random.randn(hidden_size, output_size) \\n        self.params['b2'] = np.zeros(output_size)\\n\\n        # 계층 생성\\n        self.layers = OrderedDict()\\n        self.layers['Affine1'] = Affine(self.params['W1'], self.params['b1'])\\n        self.layers['Relu1'] = Relu()\\n        self.layers['Affine2'] = Affine(self.params['W2'], self.params['b2'])\\n\\n        self.lastLayer = SoftmaxWithLoss()\\n        \\n    def predict(self, x):\\n        for layer in self.layers.values():\\n            x = layer.forward(x)\\n        \\n        return x\\n        \\n    # x : 입력 데이터, t : 정답 레이블\\n    def loss(self, x, t):\\n        y = self.predict(x)\\n        return self.lastLayer.forward(y, t)\\n    \\n    def accuracy(self, x, t):\\n        y = self.predict(x)\\n        y = np.argmax(y, axis=1)\\n        if t.ndim != 1 : t = np.argmax(t, axis=1)\\n        \\n        accuracy = np.sum(y == t) / float(x.shape[0])\\n        return accuracy\\n        \\n    # x : 입력 데이터, t : 정답 레이블\\n    def numerical_gradient(self, x, t):\\n        loss_W = lambda W: self.loss(x, t)\\n        \\n        grads = {}\\n        grads['W1'] = numerical_gradient(loss_W, self.params['W1'])\\n        grads['b1'] = numerical_gradient(loss_W, self.params['b1'])\\n        grads['W2'] = numerical_gradient(loss_W, self.params['W2'])\\n        grads['b2'] = numerical_gradient(loss_W, self.params['b2'])\\n        \\n        return grads\\n        \\n    def gradient(self, x, t):\\n        # forward\\n        self.loss(x, t)\\n\\n        # backward\\n        dout = 1\\n        dout = self.lastLayer.backward(dout)\\n        \\n        layers = list(self.layers.values())\\n        layers.reverse()\\n        for layer in layers:\\n            dout = layer.backward(dout)\\n\\n        # 결과 저장\\n        grads = {}\\n        grads['W1'], grads['b1'] = self.layers['Affine1'].dW, self.layers['Affine1'].db\\n        grads['W2'], grads['b2'] = self.layers['Affine2'].dW, self.layers['Affine2'].db\\n\\n        return grads\\n\""
      ]
     },
     "execution_count": 8,
     "metadata": {},
     "output_type": "execute_result"
    }
   ],
   "source": [
    "import inspect\n",
    "\n",
    "inspect.getsource(TwoLayerNet)"
   ]
  },
  {
   "cell_type": "markdown",
   "metadata": {},
   "source": [
    "### 5.7.2 오차역전파법을 적용한 신경망 구현하기"
   ]
  },
  {
   "cell_type": "markdown",
   "metadata": {},
   "source": [
    "#### 오차역전파법으로 구한 기울기 검증하기"
   ]
  },
  {
   "cell_type": "code",
   "execution_count": 9,
   "metadata": {},
   "outputs": [
    {
     "name": "stdout",
     "output_type": "stream",
     "text": [
      "W1:9.54137763141503e-07\n",
      "b1:1.2985355471212502e-05\n",
      "W2:4.924179290177508e-09\n",
      "b2:1.39495206730178e-07\n"
     ]
    }
   ],
   "source": [
    "# 데이터 읽기\n",
    "(x_train, t_train), (x_test, t_test) = load_mnist(normalize=True, one_hot_label=True)\n",
    "\n",
    "network = TwoLayerNet(input_size=784, hidden_size=50, output_size=10)\n",
    "\n",
    "x_batch = x_train[:3]\n",
    "t_batch = t_train[:3]\n",
    "\n",
    "grad_numerical = network.numerical_gradient(x_batch, t_batch) # 수치미분\n",
    "grad_backprop = network.gradient(x_batch, t_batch) # 역전파\n",
    "\n",
    "# 각 가중치의 절대 오차의 평균을 구한다.\n",
    "for key in grad_numerical.keys():\n",
    "    diff = np.average(np.abs(grad_backprop[key] - grad_numerical[key]))\n",
    "    print(key + \":\" + str(diff))"
   ]
  },
  {
   "cell_type": "code",
   "execution_count": 12,
   "metadata": {},
   "outputs": [
    {
     "name": "stdout",
     "output_type": "stream",
     "text": [
      "i: 0  train_acc: 0.08665  test_acc: 0.0833  \n",
      "i: 600  train_acc: 0.9036  test_acc: 0.9047  \n",
      "i: 1200  train_acc: 0.92255  test_acc: 0.9259  \n",
      "i: 1800  train_acc: 0.93595  test_acc: 0.9356  \n",
      "i: 2400  train_acc: 0.9434666666666667  test_acc: 0.9414  \n",
      "i: 3000  train_acc: 0.9512333333333334  test_acc: 0.9496  \n",
      "i: 3600  train_acc: 0.9561333333333333  test_acc: 0.952  \n",
      "i: 4200  train_acc: 0.9598166666666667  test_acc: 0.9563  \n",
      "i: 4800  train_acc: 0.9633666666666667  test_acc: 0.9584  \n",
      "i: 5400  train_acc: 0.9668833333333333  test_acc: 0.9632  \n",
      "i: 6000  train_acc: 0.9696166666666667  test_acc: 0.9645  \n",
      "i: 6600  train_acc: 0.9706666666666667  test_acc: 0.9653  \n",
      "i: 7200  train_acc: 0.9729166666666667  test_acc: 0.9665  \n",
      "i: 7800  train_acc: 0.9735333333333334  test_acc: 0.9661  \n",
      "i: 8400  train_acc: 0.9752833333333333  test_acc: 0.9677  \n",
      "i: 9000  train_acc: 0.9751333333333333  test_acc: 0.9684  \n",
      "i: 9600  train_acc: 0.9769166666666667  test_acc: 0.9698  \n",
      "i: 10200  train_acc: 0.9794166666666667  test_acc: 0.9712  \n",
      "i: 10800  train_acc: 0.9804833333333334  test_acc: 0.971  \n",
      "i: 11400  train_acc: 0.9802166666666666  test_acc: 0.9717  \n",
      "i: 12000  train_acc: 0.9820166666666666  test_acc: 0.9726  \n",
      "i: 12600  train_acc: 0.9823166666666666  test_acc: 0.9723  \n",
      "i: 13200  train_acc: 0.9841333333333333  test_acc: 0.9733  \n",
      "i: 13800  train_acc: 0.9842666666666666  test_acc: 0.973  \n",
      "i: 14400  train_acc: 0.98365  test_acc: 0.9729  \n",
      "i: 15000  train_acc: 0.9848166666666667  test_acc: 0.9736  \n"
     ]
    }
   ],
   "source": [
    "# 데이터 읽기\n",
    "(x_train, t_train), (x_test, t_test) = load_mnist(normalize=True, one_hot_label=True)\n",
    "\n",
    "network = TwoLayerNet(input_size=784, hidden_size=50, output_size=10)\n",
    "\n",
    "iters_num = 15001\n",
    "train_size = x_train.shape[0]\n",
    "batch_size = 100\n",
    "learning_rate = 0.1\n",
    "\n",
    "train_loss_list = []\n",
    "train_acc_list = []\n",
    "test_acc_list = []\n",
    "\n",
    "iter_per_epoch = max(train_size / batch_size, 1)\n",
    "\n",
    "for i in range(iters_num):\n",
    "    batch_mask = np.random.choice(train_size, batch_size)\n",
    "    x_batch = x_train[batch_mask]\n",
    "    t_batch = t_train[batch_mask]\n",
    "    \n",
    "    # 기울기 계산\n",
    "    # grad = network.numerical_gradient(x_batch, t_batch) # 수치미분 방식\n",
    "    grad = network.gradient(x_batch, t_batch) # 오차 역전파법 방식(훨씬 빠름)\n",
    "    \n",
    "    # 갱신\n",
    "    for key in ('W1', 'b1', 'W2', 'b2'):\n",
    "        network.params[key] -= learning_rate * grad[key]\n",
    "        \n",
    "    loss = network.loss(x_batch, t_batch)\n",
    "    train_loss_list.append(loss)\n",
    "    \n",
    "    if i % iter_per_epoch == 0:\n",
    "        train_acc = network.accuracy(x_train, t_train)\n",
    "        test_acc = network.accuracy(x_test, t_test)\n",
    "        train_acc_list.append(train_acc)\n",
    "        test_acc_list.append(test_acc)\n",
    "        print(\"i: {}  train_acc: {}  test_acc: {}  \".format(i, train_acc, test_acc))"
   ]
  },
  {
   "cell_type": "code",
   "execution_count": 11,
   "metadata": {},
   "outputs": [
    {
     "data": {
      "text/plain": [
       "60000"
      ]
     },
     "execution_count": 11,
     "metadata": {},
     "output_type": "execute_result"
    }
   ],
   "source": [
    "train_size"
   ]
  }
 ],
 "metadata": {
  "kernelspec": {
   "display_name": "Python 3",
   "language": "python",
   "name": "python3"
  },
  "language_info": {
   "codemirror_mode": {
    "name": "ipython",
    "version": 3
   },
   "file_extension": ".py",
   "mimetype": "text/x-python",
   "name": "python",
   "nbconvert_exporter": "python",
   "pygments_lexer": "ipython3",
   "version": "3.7.9"
  }
 },
 "nbformat": 4,
 "nbformat_minor": 4
}
