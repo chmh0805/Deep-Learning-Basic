{
 "cells": [
  {
   "cell_type": "markdown",
   "metadata": {},
   "source": [
    "# Recommendation 기본 알고리즘"
   ]
  },
  {
   "cell_type": "markdown",
   "metadata": {},
   "source": [
    "## 2.1. Popularity, High Rated Based(가장 단순함)\n",
    "- 가장 쉽게 인기도, 즉 높은 평점을 갖는 item을 추천 가능\n",
    "- 모두에게 동일한 item이 추천됨"
   ]
  },
  {
   "cell_type": "code",
   "execution_count": 1,
   "metadata": {},
   "outputs": [],
   "source": [
    "ratings = {\n",
    "    'Dave': {'달콤한인생': 5, '범죄도시': 3, '샤인': 3},\n",
    "    'David': {'달콤한인생': 5, '범죄도시': 1, '샤인': 4},\n",
    "    'Alex': {'달콤한인생': 0, '범죄도시': 4, '샤인': 5},\n",
    "    'Andy': {'달콤한인생': 2, '범죄도시': 1, '샤인': 5}\n",
    "}"
   ]
  },
  {
   "cell_type": "markdown",
   "metadata": {},
   "source": [
    "- 영화 중 가장 평점이 높은 순으로 추천해주면 됨"
   ]
  },
  {
   "cell_type": "code",
   "execution_count": 14,
   "metadata": {},
   "outputs": [
    {
     "name": "stdout",
     "output_type": "stream",
     "text": [
      "['달콤한인생', '범죄도시', '샤인']\n",
      "[('샤인', 4.25), ('달콤한인생', 3.0), ('범죄도시', 2.25)]\n"
     ]
    }
   ],
   "source": [
    "# 평점이 가장 높은 두 영화 출력하기\n",
    "movie_dict = dict()\n",
    "for rating in ratings:\n",
    "    for movie in ratings[rating].keys():\n",
    "        if movie not in movie_dict:\n",
    "            movie_dict[movie] = ratings[rating][movie]\n",
    "        else:\n",
    "            movie_dict[movie] += ratings[rating][movie]\n",
    "\n",
    "for movie in ratings[rating].keys():\n",
    "    movie_dict[movie] = movie_dict[movie] / len(ratings)\n",
    "\n",
    "print(sorted(movie_dict))\n",
    "\n",
    "import operator\n",
    "sorted_x = sorted(movie_dict.items(), key=operator.itemgetter(1), reverse=True)\n",
    "\n",
    "print(sorted_x)"
   ]
  },
  {
   "cell_type": "markdown",
   "metadata": {},
   "source": [
    "## 2.2. Collaborative Filtering"
   ]
  },
  {
   "cell_type": "markdown",
   "metadata": {},
   "source": [
    "- 데이터 구성 : 사용자가 입력한 선호도(평점)를 사용하여 사용자-항목 선호도(평점) **행렬**을 만든다.\n",
    "- 유사도 계산 : 1 단계에서 만들어진 행렬을 사용하여 사용자들 간의 유사도를 계산한다.\n",
    "- 예측 값 계산 및 추천 목록 생성 : 사용자들 간의 유사도를 바탕으로 모든 항목에 대해 예측 값을 계산하고 높은 예측 값을 갖는 상위 N개의 추천 목록을 생성한다."
   ]
  },
  {
   "cell_type": "markdown",
   "metadata": {},
   "source": [
    "### 1. 데이터 구성"
   ]
  },
  {
   "cell_type": "code",
   "execution_count": 15,
   "metadata": {},
   "outputs": [],
   "source": [
    "ratings = {\n",
    "    'Dave':{'달콤한인생':5,'범죄도시':3,'샤인':3},\n",
    "    'David':{'달콤한인생':2,'범죄도시':1,'샤인':4},\n",
    "    'Alex':{'범죄도시':4,'샤인':5},\n",
    "    'Andy':{'달콤한인생':2,'범죄도시':1,'샤인':5}\n",
    "}"
   ]
  },
  {
   "cell_type": "code",
   "execution_count": 16,
   "metadata": {},
   "outputs": [
    {
     "data": {
      "text/plain": [
       "{'달콤한인생': 5, '범죄도시': 3, '샤인': 3}"
      ]
     },
     "execution_count": 16,
     "metadata": {},
     "output_type": "execute_result"
    }
   ],
   "source": [
    "ratings.get('Dave')"
   ]
  },
  {
   "cell_type": "code",
   "execution_count": 17,
   "metadata": {},
   "outputs": [
    {
     "data": {
      "text/plain": [
       "3"
      ]
     },
     "execution_count": 17,
     "metadata": {},
     "output_type": "execute_result"
    }
   ],
   "source": [
    "ratings.get('Dave').get('샤인')"
   ]
  },
  {
   "cell_type": "markdown",
   "metadata": {},
   "source": [
    "### 2. 유사도 계산"
   ]
  },
  {
   "cell_type": "code",
   "execution_count": 18,
   "metadata": {},
   "outputs": [],
   "source": [
    "import math\n",
    "def sim(i, j):\n",
    "    return math.sqrt(pow(i, 2) + pow(j, 2))"
   ]
  },
  {
   "cell_type": "code",
   "execution_count": 20,
   "metadata": {},
   "outputs": [],
   "source": [
    "var1 = ratings['Alex']['범죄도시']\\\n",
    "    - ratings['Andy']['범죄도시'] # 4 - 1"
   ]
  },
  {
   "cell_type": "code",
   "execution_count": 21,
   "metadata": {},
   "outputs": [
    {
     "data": {
      "text/plain": [
       "3"
      ]
     },
     "execution_count": 21,
     "metadata": {},
     "output_type": "execute_result"
    }
   ],
   "source": [
    "var1"
   ]
  },
  {
   "cell_type": "code",
   "execution_count": 22,
   "metadata": {},
   "outputs": [],
   "source": [
    "var2 = ratings['Alex']['샤인'] - ratings['Andy']['샤인'] # 5 - 5"
   ]
  },
  {
   "cell_type": "code",
   "execution_count": 23,
   "metadata": {},
   "outputs": [
    {
     "data": {
      "text/plain": [
       "0"
      ]
     },
     "execution_count": 23,
     "metadata": {},
     "output_type": "execute_result"
    }
   ],
   "source": [
    "var2"
   ]
  },
  {
   "cell_type": "code",
   "execution_count": 24,
   "metadata": {},
   "outputs": [
    {
     "data": {
      "text/plain": [
       "3.0"
      ]
     },
     "execution_count": 24,
     "metadata": {},
     "output_type": "execute_result"
    }
   ],
   "source": [
    "sim(var1, var2)"
   ]
  },
  {
   "cell_type": "markdown",
   "metadata": {},
   "source": [
    "#### Alex가 평가한 범죄도시, 샤인을 모두 평가한 사용자와 모두 거리 구하기(유사도)"
   ]
  },
  {
   "cell_type": "code",
   "execution_count": 26,
   "metadata": {},
   "outputs": [
    {
     "name": "stdout",
     "output_type": "stream",
     "text": [
      "Dave  :  2.23606797749979\n",
      "David  :  3.1622776601683795\n",
      "Andy  :  3.0\n"
     ]
    }
   ],
   "source": [
    "for rating in ratings:\n",
    "    if rating != 'Alex':\n",
    "        rat1 = ratings.get('Alex').get('범죄도시') - ratings.get(rating).get('범죄도시')\n",
    "        rat2 = ratings.get('Alex').get('샤인') - ratings.get(rating).get('샤인')\n",
    "        print(rating, \" : \", sim(rat1, rat2))"
   ]
  },
  {
   "cell_type": "markdown",
   "metadata": {},
   "source": [
    "#### 정규화를 통해 유사도 범위를 0과 1사이로 가두고, 1에 가까울 수록 유사도가 높게 변경하기"
   ]
  },
  {
   "cell_type": "code",
   "execution_count": 27,
   "metadata": {},
   "outputs": [
    {
     "name": "stdout",
     "output_type": "stream",
     "text": [
      "Dave  :  0.3090169943749474\n",
      "David  :  0.2402530733520421\n",
      "Andy  :  0.25\n"
     ]
    }
   ],
   "source": [
    "for rating in ratings:\n",
    "    if rating != 'Alex':\n",
    "        rat1 = ratings.get('Alex').get('범죄도시') - ratings.get(rating).get('범죄도시')\n",
    "        rat2 = ratings.get('Alex').get('샤인') - ratings.get(rating).get('샤인')\n",
    "        print(rating, \" : \", 1 / (1 + sim(rat1, rat2)))"
   ]
  },
  {
   "cell_type": "markdown",
   "metadata": {},
   "source": [
    "#### Dave가 평가한 범죄도시와 샤인 모두 평가한 사용자와의 거리를 구해서, 가장 Dave와 유사한 사용자 구하기"
   ]
  },
  {
   "cell_type": "code",
   "execution_count": 30,
   "metadata": {},
   "outputs": [
    {
     "name": "stdout",
     "output_type": "stream",
     "text": [
      "David  :  0.3090169943749474\n",
      "Alex  :  0.3090169943749474\n",
      "Andy  :  0.2612038749637414\n"
     ]
    }
   ],
   "source": [
    "for rating in ratings:\n",
    "    if rating != 'Dave':\n",
    "        rat1 = ratings.get('Dave').get('범죄도시') - ratings.get(rating).get('범죄도시')\n",
    "        rat2 = ratings['Dave']['샤인'] - ratings[rating]['샤인']\n",
    "        print(rating, \" : \", 1 / (1 + sim(rat1, rat2)))"
   ]
  },
  {
   "cell_type": "markdown",
   "metadata": {},
   "source": [
    "## 3. 유사도(Similarity) 계산 방식\n",
    "- 3.1. 평균제곱차이 유사도(Mean Squared Difference Similarity)\n",
    "- 3.2. 코사인 유사도(Cosine Similarity)\n",
    "- 3.3. 피어슨 유사도(Pearson Similarity)"
   ]
  },
  {
   "cell_type": "markdown",
   "metadata": {},
   "source": [
    "### 3.1. 평균제곱차이 유사도(Mean Squared Difference Similarity)"
   ]
  },
  {
   "cell_type": "code",
   "execution_count": 31,
   "metadata": {},
   "outputs": [],
   "source": [
    "def sim_msd(data, name1, name2):\n",
    "    sum = 0\n",
    "    count = 0\n",
    "    for movies in data[name1]:\n",
    "        if movies in data[name2]:\n",
    "            sum += pow(data[name1][movies] - data[name2][movies], 2)\n",
    "            count += 1\n",
    "    return 1 / (1 + (sum / count))"
   ]
  },
  {
   "cell_type": "code",
   "execution_count": 32,
   "metadata": {},
   "outputs": [
    {
     "data": {
      "text/plain": [
       "0.2857142857142857"
      ]
     },
     "execution_count": 32,
     "metadata": {},
     "output_type": "execute_result"
    }
   ],
   "source": [
    "sim_msd(ratings, 'Dave', 'Alex')"
   ]
  },
  {
   "cell_type": "code",
   "execution_count": 33,
   "metadata": {},
   "outputs": [
    {
     "data": {
      "text/plain": [
       "0.15"
      ]
     },
     "execution_count": 33,
     "metadata": {},
     "output_type": "execute_result"
    }
   ],
   "source": [
    "sim_msd(ratings, 'Dave', 'Andy')"
   ]
  },
  {
   "cell_type": "code",
   "execution_count": 43,
   "metadata": {},
   "outputs": [
    {
     "name": "stdout",
     "output_type": "stream",
     "text": [
      "Dave와 David의 MSD Similarity : 0.1764705882352941\n",
      "Dave와 Alex의 MSD Similarity : 0.2857142857142857\n",
      "Dave와 Andy의 MSD Similarity : 0.15\n"
     ]
    }
   ],
   "source": [
    "for user in ratings:\n",
    "    if user != 'Dave':\n",
    "        print(\"Dave와 {0}의 MSD Similarity : {1}\"\\\n",
    "              .format(user, sim_msd(ratings, 'Dave', user)))"
   ]
  },
  {
   "cell_type": "markdown",
   "metadata": {},
   "source": [
    "### 3.2. 코사인 유사도 (Cosine Similarity)"
   ]
  },
  {
   "cell_type": "code",
   "execution_count": 34,
   "metadata": {},
   "outputs": [],
   "source": [
    "import math\n",
    "def sim_cosine(data, name1, name2):\n",
    "    sum_name1 = 0\n",
    "    sum_name2 = 0\n",
    "    sum_all = 0\n",
    "    count = 0\n",
    "    \n",
    "    for movies in data[name1]:\n",
    "        if movies in data[name2]:\n",
    "            sum_name1 += pow(data[name1][movies], 2)\n",
    "            sum_name2 += pow(data[name2][movies], 2)\n",
    "            sum_all += data[name1][movies] * data[name2][movies]\n",
    "        \n",
    "    return sum_all / (math.sqrt(sum_name1) * math.sqrt(sum_name2))"
   ]
  },
  {
   "cell_type": "code",
   "execution_count": 38,
   "metadata": {},
   "outputs": [
    {
     "name": "stdout",
     "output_type": "stream",
     "text": [
      "Dave와 David의 Cosine Similarity : 0.8319479070496523\n",
      "Dave와 Alex의 Cosine Similarity : 0.9938837346736189\n",
      "Dave와 Andy의 Cosine Similarity : 0.7795844649455863\n"
     ]
    }
   ],
   "source": [
    "for user in ratings:\n",
    "    if user != 'Dave':\n",
    "        print(\"Dave와 {0}의 Cosine Similarity : {1}\"\\\n",
    "              .format(user, sim_cosine(ratings, 'Dave', user)))"
   ]
  },
  {
   "cell_type": "markdown",
   "metadata": {},
   "source": [
    "### 3.3. 피어슨 유사도 (Pearson Similarity)"
   ]
  },
  {
   "cell_type": "code",
   "execution_count": 41,
   "metadata": {},
   "outputs": [],
   "source": [
    "def sim_pearson(data, name1, name2):\n",
    "    avg_name1 = 0\n",
    "    avg_name2 = 0\n",
    "    count = 0\n",
    "    for movies in data[name1]:\n",
    "        if movies in data[name2]: #같은 영화를 봤다면\n",
    "            avg_name1 = data[name1][movies]\n",
    "            avg_name2 = data[name2][movies]\n",
    "            count += 1\n",
    "    \n",
    "    avg_name1 = avg_name1 / count\n",
    "    avg_name2 = avg_name2 / count\n",
    "    \n",
    "    sum_name1 = 0\n",
    "    sum_name2 = 0\n",
    "    sum_name1_name2 = 0\n",
    "    count = 0\n",
    "    for movies in data[name1]:\n",
    "        if movies in data[name2]: #같은 영화를 봤다면\n",
    "            sum_name1 += pow(data[name1][movies] - avg_name1, 2)\n",
    "            sum_name2 += pow(data[name2][movies] - avg_name2, 2)\n",
    "            sum_name1_name2 += (data[name1][movies] - avg_name1) * (data[name2][movies] - avg_name2)\n",
    "    \n",
    "    return sum_name1_name2 / (math.sqrt(sum_name1)*math.sqrt(sum_name2))"
   ]
  },
  {
   "cell_type": "code",
   "execution_count": 42,
   "metadata": {},
   "outputs": [
    {
     "name": "stdout",
     "output_type": "stream",
     "text": [
      "Dave와 David의 Pearson Similarity : 0.5406205059012895\n",
      "Dave와 Alex의 Pearson Similarity : 0.970142500145332\n",
      "Dave와 Andy의 Pearson Similarity : 0.39840953644479793\n"
     ]
    }
   ],
   "source": [
    "for user in ratings:\n",
    "    if user != 'Dave':\n",
    "        print(\"Dave와 {0}의 Pearson Similarity : {1}\"\\\n",
    "              .format(user, sim_pearson(ratings, 'Dave', user)))"
   ]
  },
  {
   "cell_type": "code",
   "execution_count": 44,
   "metadata": {},
   "outputs": [],
   "source": [
    "def top_match(data, name, index=3, sim_function=sim_pearson):\n",
    "    list1 = []\n",
    "    for user in data:\n",
    "        if name != user:\n",
    "            list1.append((sim_function(data, name, user), user))\n",
    "    list1.sort()\n",
    "    list1.reverse()\n",
    "    return list1[:index]"
   ]
  },
  {
   "cell_type": "code",
   "execution_count": 45,
   "metadata": {},
   "outputs": [
    {
     "data": {
      "text/plain": [
       "[(0.970142500145332, 'Alex'),\n",
       " (0.5406205059012895, 'David'),\n",
       " (0.39840953644479793, 'Andy')]"
      ]
     },
     "execution_count": 45,
     "metadata": {},
     "output_type": "execute_result"
    }
   ],
   "source": [
    "top_match(ratings, 'Dave')"
   ]
  },
  {
   "cell_type": "code",
   "execution_count": 47,
   "metadata": {},
   "outputs": [
    {
     "data": {
      "text/plain": [
       "[(0.2857142857142857, 'Dave'),\n",
       " (0.18181818181818182, 'Andy'),\n",
       " (0.16666666666666666, 'David')]"
      ]
     },
     "execution_count": 47,
     "metadata": {},
     "output_type": "execute_result"
    }
   ],
   "source": [
    "top_match(ratings, 'Alex', sim_function=sim_msd)"
   ]
  },
  {
   "cell_type": "code",
   "execution_count": null,
   "metadata": {},
   "outputs": [],
   "source": []
  }
 ],
 "metadata": {
  "kernelspec": {
   "display_name": "Python 3",
   "language": "python",
   "name": "python3"
  },
  "language_info": {
   "codemirror_mode": {
    "name": "ipython",
    "version": 3
   },
   "file_extension": ".py",
   "mimetype": "text/x-python",
   "name": "python",
   "nbconvert_exporter": "python",
   "pygments_lexer": "ipython3",
   "version": "3.7.9"
  }
 },
 "nbformat": 4,
 "nbformat_minor": 4
}
