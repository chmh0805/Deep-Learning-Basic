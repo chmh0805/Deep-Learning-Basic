{
 "cells": [
  {
   "cell_type": "markdown",
   "metadata": {},
   "source": [
    "# Mnist CNN 구현"
   ]
  },
  {
   "cell_type": "code",
   "execution_count": 1,
   "metadata": {},
   "outputs": [],
   "source": [
    "import tensorflow as tf\n",
    "from tensorflow import keras\n",
    "import numpy as np\n",
    "import matplotlib.pyplot as plt\n",
    "from tensorflow.keras.datasets import mnist"
   ]
  },
  {
   "cell_type": "code",
   "execution_count": 2,
   "metadata": {},
   "outputs": [],
   "source": [
    "from tensorflow.compat.v1 import ConfigProto, InteractiveSession\n",
    "config = ConfigProto()\n",
    "config.gpu_options.per_process_gpu_memory_fraction = 0.4\n",
    "session = InteractiveSession(config = config)"
   ]
  },
  {
   "cell_type": "code",
   "execution_count": 3,
   "metadata": {},
   "outputs": [],
   "source": [
    "(x_train, y_train), (x_test, y_test) = mnist.load_data()"
   ]
  },
  {
   "cell_type": "code",
   "execution_count": 4,
   "metadata": {},
   "outputs": [],
   "source": [
    "x_train = x_train[:, :, :, tf.newaxis] # x_train = np.expand_dims(x_train, -1)\n",
    "x_test = x_test[:, :, :, tf.newaxis]\n",
    "x_train = x_train / 255\n",
    "x_test = x_test / 255\n",
    "x_train = x_train.astype('float32')\n",
    "x_test = x_test.astype('float32')"
   ]
  },
  {
   "cell_type": "code",
   "execution_count": 5,
   "metadata": {},
   "outputs": [
    {
     "data": {
      "text/plain": [
       "(60000, 28, 28, 1)"
      ]
     },
     "execution_count": 5,
     "metadata": {},
     "output_type": "execute_result"
    }
   ],
   "source": [
    "x_train.shape"
   ]
  },
  {
   "cell_type": "code",
   "execution_count": 6,
   "metadata": {},
   "outputs": [],
   "source": [
    "conv_mnist = keras.Sequential()"
   ]
  },
  {
   "cell_type": "code",
   "execution_count": 7,
   "metadata": {},
   "outputs": [],
   "source": [
    "conv_mnist.add(keras.layers.Conv2D(32, padding='same', kernel_size=(3,3), activation='relu', input_shape=(28,28,1)))\n",
    "conv_mnist.add(keras.layers.MaxPooling2D(pool_size=(2,2)))\n",
    "conv_mnist.add(keras.layers.Conv2D(64, padding='same', kernel_size=(3,3), activation='relu'))\n",
    "conv_mnist.add(keras.layers.MaxPooling2D(pool_size=(2,2)))\n",
    "conv_mnist.add(keras.layers.Conv2D(128, padding='same', kernel_size=(5,5), activation='relu'))\n",
    "conv_mnist.add(keras.layers.Flatten())\n",
    "conv_mnist.add(keras.layers.Dense(100, activation='relu'))\n",
    "conv_mnist.add(keras.layers.Dense(10, activation='softmax'))"
   ]
  },
  {
   "cell_type": "code",
   "execution_count": 8,
   "metadata": {
    "scrolled": false
   },
   "outputs": [
    {
     "name": "stdout",
     "output_type": "stream",
     "text": [
      "Model: \"sequential\"\n",
      "_________________________________________________________________\n",
      "Layer (type)                 Output Shape              Param #   \n",
      "=================================================================\n",
      "conv2d (Conv2D)              (None, 28, 28, 32)        320       \n",
      "_________________________________________________________________\n",
      "max_pooling2d (MaxPooling2D) (None, 14, 14, 32)        0         \n",
      "_________________________________________________________________\n",
      "conv2d_1 (Conv2D)            (None, 14, 14, 64)        18496     \n",
      "_________________________________________________________________\n",
      "max_pooling2d_1 (MaxPooling2 (None, 7, 7, 64)          0         \n",
      "_________________________________________________________________\n",
      "conv2d_2 (Conv2D)            (None, 7, 7, 128)         204928    \n",
      "_________________________________________________________________\n",
      "flatten (Flatten)            (None, 6272)              0         \n",
      "_________________________________________________________________\n",
      "dense (Dense)                (None, 100)               627300    \n",
      "_________________________________________________________________\n",
      "dense_1 (Dense)              (None, 10)                1010      \n",
      "=================================================================\n",
      "Total params: 852,054\n",
      "Trainable params: 852,054\n",
      "Non-trainable params: 0\n",
      "_________________________________________________________________\n"
     ]
    }
   ],
   "source": [
    "conv_mnist.summary()"
   ]
  },
  {
   "cell_type": "code",
   "execution_count": 9,
   "metadata": {},
   "outputs": [],
   "source": [
    "conv_mnist.compile(optimizer='adam', loss='sparse_categorical_crossentropy', metrics=['accuracy'])"
   ]
  },
  {
   "cell_type": "code",
   "execution_count": 10,
   "metadata": {
    "scrolled": false
   },
   "outputs": [
    {
     "name": "stdout",
     "output_type": "stream",
     "text": [
      "Train on 60000 samples\n",
      "Epoch 1/10\n",
      "60000/60000 [==============================] - 3s 53us/sample - loss: 0.3154 - accuracy: 0.9034\n",
      "Epoch 2/10\n",
      "60000/60000 [==============================] - 1s 21us/sample - loss: 0.0599 - accuracy: 0.9814\n",
      "Epoch 3/10\n",
      "60000/60000 [==============================] - 1s 21us/sample - loss: 0.0405 - accuracy: 0.9877\n",
      "Epoch 4/10\n",
      "60000/60000 [==============================] - 1s 21us/sample - loss: 0.0298 - accuracy: 0.9910\n",
      "Epoch 5/10\n",
      "60000/60000 [==============================] - 1s 21us/sample - loss: 0.0230 - accuracy: 0.9928\n",
      "Epoch 6/10\n",
      "60000/60000 [==============================] - 1s 21us/sample - loss: 0.0173 - accuracy: 0.9947\n",
      "Epoch 7/10\n",
      "60000/60000 [==============================] - 1s 21us/sample - loss: 0.0138 - accuracy: 0.9954\n",
      "Epoch 8/10\n",
      "60000/60000 [==============================] - 1s 21us/sample - loss: 0.0130 - accuracy: 0.9960\n",
      "Epoch 9/10\n",
      "60000/60000 [==============================] - 1s 21us/sample - loss: 0.0100 - accuracy: 0.9969\n",
      "Epoch 10/10\n",
      "60000/60000 [==============================] - 1s 21us/sample - loss: 0.0085 - accuracy: 0.9972\n"
     ]
    },
    {
     "data": {
      "text/plain": [
       "<tensorflow.python.keras.callbacks.History at 0x20acba8da48>"
      ]
     },
     "execution_count": 10,
     "metadata": {},
     "output_type": "execute_result"
    }
   ],
   "source": [
    "conv_mnist.fit(x_train, y_train, batch_size=500, epochs=10)"
   ]
  },
  {
   "cell_type": "code",
   "execution_count": 11,
   "metadata": {},
   "outputs": [],
   "source": [
    "y_predict = np.round(conv_mnist.predict(x_test))"
   ]
  },
  {
   "cell_type": "code",
   "execution_count": 12,
   "metadata": {
    "scrolled": true
   },
   "outputs": [
    {
     "name": "stdout",
     "output_type": "stream",
     "text": [
      "(10000, 10)\n",
      "(10000,)\n"
     ]
    }
   ],
   "source": [
    "print(y_predict.shape)\n",
    "print(y_test.shape)"
   ]
  },
  {
   "cell_type": "code",
   "execution_count": 13,
   "metadata": {},
   "outputs": [],
   "source": [
    "y_predict = y_predict.argmax(axis=1)"
   ]
  },
  {
   "cell_type": "code",
   "execution_count": 14,
   "metadata": {},
   "outputs": [
    {
     "data": {
      "text/plain": [
       "(10000,)"
      ]
     },
     "execution_count": 14,
     "metadata": {},
     "output_type": "execute_result"
    }
   ],
   "source": [
    "y_predict.shape"
   ]
  },
  {
   "cell_type": "code",
   "execution_count": 15,
   "metadata": {
    "scrolled": true
   },
   "outputs": [
    {
     "data": {
      "text/plain": [
       "array([  18,   62,   92,  247,  321,  359,  445,  448,  449,  582,  619,\n",
       "        659,  674, 1014, 1039, 1112, 1182, 1226, 1232, 1242, 1319, 1414,\n",
       "       1709, 1717, 1790, 1901, 2035, 2070, 2118, 2130, 2293, 2369, 2380,\n",
       "       2414, 2597, 2654, 2742, 2896, 2939, 2953, 2959, 2995, 3225, 3422,\n",
       "       3520, 3558, 3762, 3808, 3850, 3941, 3985, 4078, 4176, 4256, 4369,\n",
       "       4443, 4497, 4504, 4536, 4571, 4740, 4761, 4823, 5937, 5997, 6173,\n",
       "       6571, 6572, 6576, 6597, 6625, 6783, 8094, 8408, 9530, 9664, 9692,\n",
       "       9729], dtype=int64)"
      ]
     },
     "execution_count": 15,
     "metadata": {},
     "output_type": "execute_result"
    }
   ],
   "source": [
    "miss = np.where(y_predict != y_test)[0]\n",
    "miss"
   ]
  },
  {
   "cell_type": "code",
   "execution_count": 16,
   "metadata": {},
   "outputs": [
    {
     "data": {
      "text/plain": [
       "78"
      ]
     },
     "execution_count": 16,
     "metadata": {},
     "output_type": "execute_result"
    }
   ],
   "source": [
    "np.size(miss)"
   ]
  },
  {
   "cell_type": "code",
   "execution_count": 17,
   "metadata": {},
   "outputs": [
    {
     "data": {
      "text/plain": [
       "(10000, 28, 28)"
      ]
     },
     "execution_count": 17,
     "metadata": {},
     "output_type": "execute_result"
    }
   ],
   "source": [
    "x_test = x_test.reshape(10000, 28, 28)\n",
    "x_test.shape"
   ]
  },
  {
   "cell_type": "code",
   "execution_count": 18,
   "metadata": {
    "scrolled": true
   },
   "outputs": [
    {
     "data": {
      "image/png": "[encoded data removed]",
      "text/plain": [
       "<Figure size 432x288 with 1 Axes>"
      ]
     },
     "metadata": {
      "needs_background": "light"
     },
     "output_type": "display_data"
    }
   ],
   "source": [
    "num = np.random.choice(miss)\n",
    "plt.imshow(x_test[num])\n",
    "plt.title(\"True : {}, Predict : {}\".format(y_test[num], y_predict[num]))\n",
    "plt.show()"
   ]
  },
  {
   "cell_type": "markdown",
   "metadata": {},
   "source": [
    "# Fashion Mnist CNN 구현"
   ]
  },
  {
   "cell_type": "code",
   "execution_count": 19,
   "metadata": {},
   "outputs": [],
   "source": [
    "import tensorflow as tf\n",
    "import numpy as np\n",
    "import matplotlib.pyplot as plt\n",
    "from tensorflow import keras\n",
    "from tensorflow.keras.datasets import fashion_mnist"
   ]
  },
  {
   "cell_type": "code",
   "execution_count": 20,
   "metadata": {},
   "outputs": [],
   "source": [
    "(x_train, y_train), (x_test, y_test) = fashion_mnist.load_data()"
   ]
  },
  {
   "cell_type": "code",
   "execution_count": 21,
   "metadata": {},
   "outputs": [],
   "source": [
    "x_train, x_test = x_train / 255, x_test / 255\n",
    "x_train, x_test = x_train.astype('float32'), x_test.astype('float32')"
   ]
  },
  {
   "cell_type": "code",
   "execution_count": 22,
   "metadata": {},
   "outputs": [],
   "source": [
    "y_dict = {\n",
    "    0 : 'T-shirt/top',\n",
    "    1 : 'Trouser',\n",
    "    2 : 'Pullover',\n",
    "    3 : 'Dress',\n",
    "    4 : 'Coat',\n",
    "    5 : 'Sandel',\n",
    "    6 : 'Shirt',\n",
    "    7 : 'Sneaker',\n",
    "    8 : 'Bag',\n",
    "    9 : 'Ankle boot'\n",
    "}"
   ]
  },
  {
   "cell_type": "code",
   "execution_count": 23,
   "metadata": {},
   "outputs": [],
   "source": [
    "x_train, x_test = np.expand_dims(x_train, -1), np.expand_dims(x_test, -1)"
   ]
  },
  {
   "cell_type": "code",
   "execution_count": 24,
   "metadata": {},
   "outputs": [
    {
     "data": {
      "text/plain": [
       "(60000, 28, 28, 1)"
      ]
     },
     "execution_count": 24,
     "metadata": {},
     "output_type": "execute_result"
    }
   ],
   "source": [
    "x_train.shape"
   ]
  },
  {
   "cell_type": "code",
   "execution_count": 25,
   "metadata": {},
   "outputs": [],
   "source": [
    "fashion_model = keras.Sequential()"
   ]
  },
  {
   "cell_type": "code",
   "execution_count": 26,
   "metadata": {},
   "outputs": [],
   "source": [
    "fashion_model.add(keras.layers.Conv2D(32, kernel_size=(3,3), padding='same', activation='relu', input_shape=(28,28,1)))\n",
    "fashion_model.add(keras.layers.MaxPooling2D(pool_size=(2,2)))\n",
    "fashion_model.add(keras.layers.Conv2D(64, kernel_size=(3,3), padding='same', activation='relu'))\n",
    "fashion_model.add(keras.layers.MaxPooling2D(pool_size=(2,2)))\n",
    "fashion_model.add(keras.layers.Conv2D(128, kernel_size=(3,3), activation='relu'))\n",
    "fashion_model.add(keras.layers.Flatten())\n",
    "fashion_model.add(keras.layers.Dense(100, activation='relu'))\n",
    "fashion_model.add(keras.layers.Dense(10, activation='softmax'))"
   ]
  },
  {
   "cell_type": "code",
   "execution_count": 27,
   "metadata": {},
   "outputs": [
    {
     "name": "stdout",
     "output_type": "stream",
     "text": [
      "Model: \"sequential_1\"\n",
      "_________________________________________________________________\n",
      "Layer (type)                 Output Shape              Param #   \n",
      "=================================================================\n",
      "conv2d_3 (Conv2D)            (None, 28, 28, 32)        320       \n",
      "_________________________________________________________________\n",
      "max_pooling2d_2 (MaxPooling2 (None, 14, 14, 32)        0         \n",
      "_________________________________________________________________\n",
      "conv2d_4 (Conv2D)            (None, 14, 14, 64)        18496     \n",
      "_________________________________________________________________\n",
      "max_pooling2d_3 (MaxPooling2 (None, 7, 7, 64)          0         \n",
      "_________________________________________________________________\n",
      "conv2d_5 (Conv2D)            (None, 5, 5, 128)         73856     \n",
      "_________________________________________________________________\n",
      "flatten_1 (Flatten)          (None, 3200)              0         \n",
      "_________________________________________________________________\n",
      "dense_2 (Dense)              (None, 100)               320100    \n",
      "_________________________________________________________________\n",
      "dense_3 (Dense)              (None, 10)                1010      \n",
      "=================================================================\n",
      "Total params: 413,782\n",
      "Trainable params: 413,782\n",
      "Non-trainable params: 0\n",
      "_________________________________________________________________\n"
     ]
    }
   ],
   "source": [
    "fashion_model.summary()"
   ]
  },
  {
   "cell_type": "code",
   "execution_count": 28,
   "metadata": {},
   "outputs": [],
   "source": [
    "fashion_model.compile(optimizer='adam', loss='sparse_categorical_crossentropy', metrics=['accuracy'])"
   ]
  },
  {
   "cell_type": "code",
   "execution_count": 29,
   "metadata": {
    "scrolled": true
   },
   "outputs": [
    {
     "name": "stdout",
     "output_type": "stream",
     "text": [
      "Train on 60000 samples\n",
      "Epoch 1/50\n",
      "60000/60000 [==============================] - 1s 21us/sample - loss: 0.6984 - accuracy: 0.7536\n",
      "Epoch 2/50\n",
      "60000/60000 [==============================] - 1s 16us/sample - loss: 0.3894 - accuracy: 0.8609\n",
      "Epoch 3/50\n",
      "60000/60000 [==============================] - 1s 16us/sample - loss: 0.3313 - accuracy: 0.8809\n",
      "Epoch 4/50\n",
      "60000/60000 [==============================] - 1s 16us/sample - loss: 0.2989 - accuracy: 0.8936\n",
      "Epoch 5/50\n",
      "60000/60000 [==============================] - 1s 16us/sample - loss: 0.2676 - accuracy: 0.9039\n",
      "Epoch 6/50\n",
      "60000/60000 [==============================] - 1s 16us/sample - loss: 0.2548 - accuracy: 0.9077\n",
      "Epoch 7/50\n",
      "60000/60000 [==============================] - 1s 16us/sample - loss: 0.2365 - accuracy: 0.9136\n",
      "Epoch 8/50\n",
      "60000/60000 [==============================] - 1s 16us/sample - loss: 0.2249 - accuracy: 0.9183\n",
      "Epoch 9/50\n",
      "60000/60000 [==============================] - 1s 16us/sample - loss: 0.2120 - accuracy: 0.9224\n",
      "Epoch 10/50\n",
      "60000/60000 [==============================] - 1s 16us/sample - loss: 0.1996 - accuracy: 0.9280\n",
      "Epoch 11/50\n",
      "60000/60000 [==============================] - 1s 16us/sample - loss: 0.1857 - accuracy: 0.9322\n",
      "Epoch 12/50\n",
      "60000/60000 [==============================] - 1s 16us/sample - loss: 0.1750 - accuracy: 0.9364\n",
      "Epoch 13/50\n",
      "60000/60000 [==============================] - 1s 16us/sample - loss: 0.1689 - accuracy: 0.9373\n",
      "Epoch 14/50\n",
      "60000/60000 [==============================] - 1s 16us/sample - loss: 0.1593 - accuracy: 0.9417\n",
      "Epoch 15/50\n",
      "60000/60000 [==============================] - 1s 16us/sample - loss: 0.1471 - accuracy: 0.9463\n",
      "Epoch 16/50\n",
      "60000/60000 [==============================] - 1s 16us/sample - loss: 0.1413 - accuracy: 0.9482\n",
      "Epoch 17/50\n",
      "60000/60000 [==============================] - 1s 16us/sample - loss: 0.1320 - accuracy: 0.9513\n",
      "Epoch 18/50\n",
      "60000/60000 [==============================] - 1s 16us/sample - loss: 0.1237 - accuracy: 0.9549\n",
      "Epoch 19/50\n",
      "60000/60000 [==============================] - 1s 16us/sample - loss: 0.1158 - accuracy: 0.9584\n",
      "Epoch 20/50\n",
      "60000/60000 [==============================] - 1s 16us/sample - loss: 0.1062 - accuracy: 0.9623\n",
      "Epoch 21/50\n",
      "60000/60000 [==============================] - 1s 16us/sample - loss: 0.1008 - accuracy: 0.9626\n",
      "Epoch 22/50\n",
      "60000/60000 [==============================] - 1s 16us/sample - loss: 0.0982 - accuracy: 0.9632\n",
      "Epoch 23/50\n",
      "60000/60000 [==============================] - 1s 16us/sample - loss: 0.0864 - accuracy: 0.9688\n",
      "Epoch 24/50\n",
      "60000/60000 [==============================] - 1s 16us/sample - loss: 0.0783 - accuracy: 0.9715\n",
      "Epoch 25/50\n",
      "60000/60000 [==============================] - 1s 16us/sample - loss: 0.0726 - accuracy: 0.9739\n",
      "Epoch 26/50\n",
      "60000/60000 [==============================] - 1s 16us/sample - loss: 0.0678 - accuracy: 0.9758\n",
      "Epoch 27/50\n",
      "60000/60000 [==============================] - 1s 16us/sample - loss: 0.0650 - accuracy: 0.9769\n",
      "Epoch 28/50\n",
      "60000/60000 [==============================] - 1s 16us/sample - loss: 0.0537 - accuracy: 0.9814\n",
      "Epoch 29/50\n",
      "60000/60000 [==============================] - 1s 16us/sample - loss: 0.0497 - accuracy: 0.9829\n",
      "Epoch 30/50\n",
      "60000/60000 [==============================] - 1s 16us/sample - loss: 0.0471 - accuracy: 0.9833\n",
      "Epoch 31/50\n",
      "60000/60000 [==============================] - 1s 16us/sample - loss: 0.0415 - accuracy: 0.9857\n",
      "Epoch 32/50\n",
      "60000/60000 [==============================] - 1s 16us/sample - loss: 0.0398 - accuracy: 0.9861\n",
      "Epoch 33/50\n",
      "60000/60000 [==============================] - 1s 16us/sample - loss: 0.0318 - accuracy: 0.9890\n",
      "Epoch 34/50\n",
      "60000/60000 [==============================] - 1s 16us/sample - loss: 0.0387 - accuracy: 0.9858\n",
      "Epoch 35/50\n",
      "60000/60000 [==============================] - 1s 16us/sample - loss: 0.0268 - accuracy: 0.9910\n",
      "Epoch 36/50\n",
      "60000/60000 [==============================] - 1s 16us/sample - loss: 0.0300 - accuracy: 0.9891\n",
      "Epoch 37/50\n",
      "60000/60000 [==============================] - 1s 16us/sample - loss: 0.0225 - accuracy: 0.9924\n",
      "Epoch 38/50\n",
      "60000/60000 [==============================] - 1s 16us/sample - loss: 0.0228 - accuracy: 0.9918\n",
      "Epoch 39/50\n",
      "60000/60000 [==============================] - 1s 16us/sample - loss: 0.0255 - accuracy: 0.9909\n",
      "Epoch 40/50\n",
      "60000/60000 [==============================] - 1s 16us/sample - loss: 0.0210 - accuracy: 0.9930\n",
      "Epoch 41/50\n",
      "60000/60000 [==============================] - 1s 16us/sample - loss: 0.0196 - accuracy: 0.9934\n",
      "Epoch 42/50\n",
      "60000/60000 [==============================] - 1s 16us/sample - loss: 0.0130 - accuracy: 0.9960\n",
      "Epoch 43/50\n",
      "60000/60000 [==============================] - 1s 16us/sample - loss: 0.0116 - accuracy: 0.9965\n",
      "Epoch 44/50\n",
      "60000/60000 [==============================] - 1s 16us/sample - loss: 0.0219 - accuracy: 0.9919\n",
      "Epoch 45/50\n",
      "60000/60000 [==============================] - 1s 16us/sample - loss: 0.0227 - accuracy: 0.9916\n",
      "Epoch 46/50\n",
      "60000/60000 [==============================] - 1s 16us/sample - loss: 0.0176 - accuracy: 0.9939\n",
      "Epoch 47/50\n",
      "60000/60000 [==============================] - 1s 16us/sample - loss: 0.0182 - accuracy: 0.9933\n",
      "Epoch 48/50\n",
      "60000/60000 [==============================] - 1s 16us/sample - loss: 0.0179 - accuracy: 0.9938\n",
      "Epoch 49/50\n",
      "60000/60000 [==============================] - 1s 16us/sample - loss: 0.0139 - accuracy: 0.9955\n",
      "Epoch 50/50\n",
      "60000/60000 [==============================] - 1s 16us/sample - loss: 0.0170 - accuracy: 0.9941\n"
     ]
    },
    {
     "data": {
      "text/plain": [
       "<tensorflow.python.keras.callbacks.History at 0x20ad659db08>"
      ]
     },
     "execution_count": 29,
     "metadata": {},
     "output_type": "execute_result"
    }
   ],
   "source": [
    "fashion_model.fit(x_train, y_train, batch_size=500, epochs=50)"
   ]
  },
  {
   "cell_type": "code",
   "execution_count": 30,
   "metadata": {},
   "outputs": [],
   "source": [
    "y_predict = fashion_model.predict(x_test)"
   ]
  },
  {
   "cell_type": "code",
   "execution_count": 31,
   "metadata": {},
   "outputs": [],
   "source": [
    "y_predict = y_predict.argmax(axis=1)"
   ]
  },
  {
   "cell_type": "code",
   "execution_count": 32,
   "metadata": {
    "scrolled": true
   },
   "outputs": [
    {
     "data": {
      "text/plain": [
       "array([  12,   23,   25,   42,   49,   66,   68,   89,   98,  103,  117,\n",
       "        135,  141,  147,  150,  193,  239,  244,  247,  266,  271,  283,\n",
       "        316,  325,  352,  368,  374,  378,  381,  382,  389,  395,  413,\n",
       "        441,  452,  455,  457,  460,  474,  476,  478,  491,  495,  510,\n",
       "        529,  541,  548,  600,  602,  607,  623,  634,  635,  639,  669,\n",
       "        670,  688,  711,  713,  732,  753,  760,  787,  793,  830,  851,\n",
       "        881,  887,  905,  909,  921,  930,  937,  939,  960,  965,  972,\n",
       "        976,  977,  979,  984,  994,  997, 1000, 1005, 1025, 1055, 1056,\n",
       "       1104, 1111, 1129, 1130, 1131, 1139, 1142, 1152, 1165, 1197, 1231,\n",
       "       1254, 1261, 1280, 1287, 1300, 1305, 1329, 1336, 1376, 1387, 1388,\n",
       "       1399, 1408, 1425, 1449, 1462, 1469, 1482, 1501, 1509, 1515, 1522,\n",
       "       1527, 1533, 1557, 1572, 1602, 1620, 1626, 1629, 1632, 1640, 1642,\n",
       "       1645, 1650, 1665, 1679, 1712, 1736, 1739, 1743, 1754, 1771, 1778,\n",
       "       1810, 1822, 1833, 1846, 1917, 1922, 1942, 1943, 1953, 1954, 1968,\n",
       "       1980, 2001, 2006, 2037, 2067, 2111, 2162, 2190, 2191, 2195, 2196,\n",
       "       2236, 2245, 2272, 2278, 2280, 2311, 2312, 2318, 2337, 2352, 2357,\n",
       "       2359, 2381, 2382, 2396, 2425, 2431, 2435, 2451, 2455, 2457, 2469,\n",
       "       2478, 2479, 2485, 2487, 2506, 2507, 2527, 2540, 2548, 2551, 2571,\n",
       "       2580, 2588, 2589, 2593, 2599, 2615, 2628, 2629, 2653, 2670, 2681,\n",
       "       2684, 2695, 2698, 2717, 2721, 2776, 2779, 2806, 2817, 2832, 2839,\n",
       "       2840, 2842, 2843, 2856, 2860, 2865, 2869, 2884, 2898, 2900, 2903,\n",
       "       2909, 2914, 2918, 2919, 2920, 2942, 2951, 2953, 2960, 2965, 2979,\n",
       "       2985, 2997, 3004, 3008, 3019, 3038, 3058, 3084, 3116, 3123, 3132,\n",
       "       3167, 3181, 3188, 3209, 3229, 3232, 3240, 3241, 3252, 3258, 3262,\n",
       "       3282, 3284, 3297, 3310, 3322, 3323, 3327, 3334, 3342, 3349, 3356,\n",
       "       3370, 3393, 3416, 3436, 3441, 3457, 3466, 3468, 3476, 3488, 3489,\n",
       "       3496, 3499, 3531, 3532, 3535, 3540, 3553, 3554, 3568, 3585, 3606,\n",
       "       3609, 3613, 3625, 3643, 3657, 3658, 3669, 3671, 3673, 3674, 3706,\n",
       "       3730, 3731, 3733, 3741, 3753, 3787, 3799, 3800, 3804, 3809, 3811,\n",
       "       3816, 3829, 3830, 3842, 3861, 3864, 3871, 3876, 3880, 3884, 3896,\n",
       "       3918, 3938, 3939, 3940, 3953, 3955, 3974, 3984, 3987, 3999, 4005,\n",
       "       4019, 4041, 4049, 4056, 4067, 4079, 4082, 4092, 4093, 4101, 4106,\n",
       "       4109, 4111, 4132, 4138, 4142, 4143, 4148, 4153, 4166, 4192, 4193,\n",
       "       4194, 4213, 4231, 4233, 4250, 4251, 4272, 4280, 4299, 4307, 4404,\n",
       "       4411, 4416, 4433, 4446, 4460, 4500, 4501, 4505, 4526, 4542, 4559,\n",
       "       4568, 4569, 4599, 4618, 4668, 4672, 4685, 4686, 4693, 4694, 4724,\n",
       "       4727, 4738, 4744, 4746, 4758, 4764, 4784, 4803, 4810, 4817, 4828,\n",
       "       4846, 4850, 4880, 4882, 4886, 4920, 4922, 4934, 4956, 4995, 5006,\n",
       "       5009, 5032, 5037, 5052, 5077, 5101, 5172, 5178, 5186, 5197, 5204,\n",
       "       5210, 5248, 5249, 5255, 5259, 5260, 5266, 5272, 5297, 5316, 5334,\n",
       "       5336, 5338, 5345, 5375, 5381, 5397, 5410, 5424, 5438, 5441, 5468,\n",
       "       5470, 5471, 5474, 5476, 5497, 5510, 5511, 5512, 5520, 5522, 5533,\n",
       "       5562, 5566, 5568, 5569, 5575, 5576, 5592, 5594, 5597, 5601, 5623,\n",
       "       5648, 5655, 5695, 5701, 5713, 5721, 5734, 5760, 5795, 5806, 5885,\n",
       "       5907, 5918, 5938, 5939, 5946, 5966, 5971, 5974, 5981, 5987, 5990,\n",
       "       6002, 6006, 6008, 6023, 6024, 6061, 6065, 6096, 6103, 6127, 6132,\n",
       "       6159, 6160, 6162, 6169, 6175, 6201, 6207, 6223, 6248, 6254, 6258,\n",
       "       6293, 6296, 6300, 6314, 6331, 6335, 6344, 6356, 6365, 6377, 6395,\n",
       "       6402, 6404, 6405, 6433, 6437, 6441, 6444, 6452, 6464, 6472, 6485,\n",
       "       6500, 6513, 6514, 6517, 6531, 6542, 6558, 6565, 6566, 6575, 6584,\n",
       "       6593, 6625, 6640, 6654, 6676, 6679, 6689, 6701, 6710, 6716, 6730,\n",
       "       6733, 6751, 6801, 6809, 6826, 6832, 6844, 6846, 6855, 6859, 6861,\n",
       "       6866, 6869, 6874, 6899, 6908, 6926, 6928, 6957, 6958, 6961, 6984,\n",
       "       6990, 6996, 6997, 7004, 7026, 7033, 7049, 7068, 7078, 7103, 7105,\n",
       "       7111, 7125, 7130, 7138, 7167, 7177, 7188, 7189, 7190, 7195, 7221,\n",
       "       7222, 7228, 7243, 7249, 7258, 7262, 7265, 7369, 7393, 7416, 7424,\n",
       "       7442, 7464, 7497, 7526, 7555, 7571, 7596, 7646, 7654, 7714, 7755,\n",
       "       7761, 7778, 7800, 7801, 7803, 7809, 7812, 7818, 7847, 7864, 7868,\n",
       "       7890, 7899, 7905, 7906, 7924, 7948, 7976, 7977, 7986, 7992, 7998,\n",
       "       8005, 8007, 8014, 8031, 8061, 8069, 8070, 8079, 8121, 8156, 8202,\n",
       "       8205, 8227, 8237, 8259, 8292, 8296, 8324, 8348, 8353, 8377, 8382,\n",
       "       8399, 8429, 8454, 8463, 8465, 8470, 8525, 8532, 8538, 8557, 8569,\n",
       "       8580, 8591, 8598, 8607, 8610, 8617, 8618, 8621, 8633, 8634, 8640,\n",
       "       8645, 8658, 8664, 8669, 8688, 8693, 8695, 8705, 8706, 8714, 8717,\n",
       "       8725, 8728, 8745, 8757, 8763, 8764, 8768, 8772, 8804, 8818, 8832,\n",
       "       8834, 8879, 8884, 8914, 8919, 8933, 8939, 8946, 8952, 8958, 8972,\n",
       "       9017, 9032, 9059, 9061, 9062, 9094, 9095, 9112, 9133, 9140, 9146,\n",
       "       9149, 9165, 9179, 9197, 9204, 9210, 9227, 9235, 9237, 9238, 9251,\n",
       "       9260, 9272, 9291, 9307, 9308, 9334, 9349, 9398, 9402, 9405, 9445,\n",
       "       9531, 9571, 9573, 9574, 9590, 9601, 9632, 9662, 9666, 9679, 9687,\n",
       "       9690, 9692, 9729, 9748, 9835, 9856, 9880, 9884, 9891, 9904, 9928,\n",
       "       9945, 9946, 9947, 9955, 9961, 9972, 9977, 9991], dtype=int64)"
      ]
     },
     "execution_count": 32,
     "metadata": {},
     "output_type": "execute_result"
    }
   ],
   "source": [
    "miss = np.where(y_predict != y_test)[0]\n",
    "miss"
   ]
  },
  {
   "cell_type": "code",
   "execution_count": 33,
   "metadata": {},
   "outputs": [
    {
     "data": {
      "text/plain": [
       "789"
      ]
     },
     "execution_count": 33,
     "metadata": {},
     "output_type": "execute_result"
    }
   ],
   "source": [
    "np.size(miss)"
   ]
  },
  {
   "cell_type": "code",
   "execution_count": 34,
   "metadata": {},
   "outputs": [
    {
     "data": {
      "text/plain": [
       "(10000, 28, 28)"
      ]
     },
     "execution_count": 34,
     "metadata": {},
     "output_type": "execute_result"
    }
   ],
   "source": [
    "x_test = x_test.reshape(10000, 28, 28)\n",
    "x_test.shape"
   ]
  },
  {
   "cell_type": "code",
   "execution_count": 35,
   "metadata": {
    "scrolled": true
   },
   "outputs": [
    {
     "data": {
      "image/png": "[encoded data removed]",
      "text/plain": [
       "<Figure size 432x288 with 1 Axes>"
      ]
     },
     "metadata": {
      "needs_background": "light"
     },
     "output_type": "display_data"
    }
   ],
   "source": [
    "miss_num = np.random.choice(miss)\n",
    "plt.imshow(x_test[miss_num])\n",
    "plt.title(\"True : {}, Predict : {}\".format(y_dict[y_test[miss_num]], y_dict[y_predict[miss_num]]))\n",
    "plt.show()"
   ]
  }
 ],
 "metadata": {
  "kernelspec": {
   "display_name": "Python 3",
   "language": "python",
   "name": "python3"
  },
  "language_info": {
   "codemirror_mode": {
    "name": "ipython",
    "version": 3
   },
   "file_extension": ".py",
   "mimetype": "text/x-python",
   "name": "python",
   "nbconvert_exporter": "python",
   "pygments_lexer": "ipython3",
   "version": "3.7.9"
  }
 },
 "nbformat": 4,
 "nbformat_minor": 4
}
