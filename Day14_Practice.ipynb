{
 "cells": [
  {
   "cell_type": "markdown",
   "metadata": {},
   "source": [
    "# 논리게이트 함수구현"
   ]
  },
  {
   "cell_type": "code",
   "execution_count": 1,
   "metadata": {},
   "outputs": [],
   "source": [
    "def andgate(x1, x2):\n",
    "    w = -1\n",
    "    b = 1\n",
    "    if w * x1 + b >= x2:\n",
    "        return 0\n",
    "    else:\n",
    "        return 1"
   ]
  },
  {
   "cell_type": "code",
   "execution_count": 2,
   "metadata": {},
   "outputs": [],
   "source": [
    "print(andgate(0, 0))\n",
    "print(andgate(1, 0))\n",
    "print(andgate(0, 1))\n",
    "print(andgate(1, 1))"
   ]
  },
  {
   "cell_type": "code",
   "execution_count": 3,
   "metadata": {},
   "outputs": [],
   "source": [
    "def nandgate(x1, x2):\n",
    "    w = -1\n",
    "    b = 1\n",
    "    if w * x1 + b < x2:\n",
    "        return 0\n",
    "    else:\n",
    "        return 1"
   ]
  },
  {
   "cell_type": "code",
   "execution_count": 4,
   "metadata": {},
   "outputs": [],
   "source": [
    "print(nandgate(0, 0))\n",
    "print(nandgate(1, 0))\n",
    "print(nandgate(0, 1))\n",
    "print(nandgate(1, 1))"
   ]
  },
  {
   "cell_type": "code",
   "execution_count": 5,
   "metadata": {},
   "outputs": [],
   "source": [
    "def orgate(x1, x2):\n",
    "    w = -1\n",
    "    b = 1\n",
    "    if w * x1 + b > x2: #(0,0 - 1 0) (0,1 - 1 1) (1,0 - 0 0) (1,1 - 0 1)\n",
    "        return 0\n",
    "    else:\n",
    "        return 1"
   ]
  },
  {
   "cell_type": "code",
   "execution_count": 6,
   "metadata": {},
   "outputs": [],
   "source": [
    "print(orgate(0, 0))\n",
    "print(orgate(0, 1))\n",
    "print(orgate(1, 0))\n",
    "print(orgate(1, 1))"
   ]
  },
  {
   "cell_type": "code",
   "execution_count": 7,
   "metadata": {},
   "outputs": [],
   "source": [
    "def xorgate(x1, x2):\n",
    "    return nandgate(nandgate(x1, nandgate(x1, x2)), nandgate(x2, nandgate(x1, x2)))"
   ]
  },
  {
   "cell_type": "code",
   "execution_count": 15,
   "metadata": {},
   "outputs": [
    {
     "name": "stdout",
     "output_type": "stream",
     "text": [
      "0\n",
      "1\n",
      "1\n",
      "0\n"
     ]
    }
   ],
   "source": [
    "print(xorgate(0, 0)) # 0\n",
    "print(xorgate(0, 1)) # 1\n",
    "print(xorgate(1, 0)) # 1\n",
    "print(xorgate(1, 1)) # 0"
   ]
  }
 ],
 "metadata": {
  "kernelspec": {
   "display_name": "Python 3",
   "language": "python",
   "name": "python3"
  },
  "language_info": {
   "codemirror_mode": {
    "name": "ipython",
    "version": 3
   },
   "file_extension": ".py",
   "mimetype": "text/x-python",
   "name": "python",
   "nbconvert_exporter": "python",
   "pygments_lexer": "ipython3",
   "version": "3.7.9"
  }
 },
 "nbformat": 4,
 "nbformat_minor": 4
}
