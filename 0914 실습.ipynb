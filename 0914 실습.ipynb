{
 "cells": [
  {
   "cell_type": "markdown",
   "metadata": {},
   "source": [
    "## 예외처리 실습"
   ]
  },
  {
   "cell_type": "code",
   "execution_count": null,
   "metadata": {},
   "outputs": [],
   "source": [
    "class NumberError(Exception):\n",
    "    def __str__(self):\n",
    "        return \"숫자를 쓰지 마시오.\""
   ]
  },
  {
   "cell_type": "code",
   "execution_count": null,
   "metadata": {},
   "outputs": [],
   "source": [
    "try:\n",
    "    while True:\n",
    "        string = input('문자열을 작성하시오: ')\n",
    "        try:\n",
    "            number = int(string)\n",
    "            break\n",
    "        except:\n",
    "            print(string)\n",
    "            continue\n",
    "    if type(number) == type(1):\n",
    "        raise NumberError\n",
    "\n",
    "except NumberError as e:\n",
    "    print(e)"
   ]
  },
  {
   "cell_type": "markdown",
   "metadata": {},
   "source": [
    "#### 1. 모든 오류에 대해서 \"AllError\" 을 출력하도록 하시오."
   ]
  },
  {
   "cell_type": "code",
   "execution_count": null,
   "metadata": {},
   "outputs": [],
   "source": [
    "try:\n",
    "    error\n",
    "except:\n",
    "    print(\"AllError\")"
   ]
  },
  {
   "cell_type": "markdown",
   "metadata": {},
   "source": [
    "#### 2. 존재하지 않는 파일을 열 경우에 발생하는 오류에 대해서만 \"no data\" 를 출력하도록 하시오."
   ]
  },
  {
   "cell_type": "code",
   "execution_count": null,
   "metadata": {},
   "outputs": [],
   "source": [
    "try:\n",
    "    f = open('나없는파일.txt', 'r')\n",
    "except FileNotFoundError:\n",
    "    print(\"no data\")"
   ]
  },
  {
   "cell_type": "markdown",
   "metadata": {},
   "source": [
    "#### 3. a={1:2,3:4} 딕셔너리에서 존재하지 않는 키값을 호출할 경우 발생하는 오류에 대해서 오류 메세지를 발생하도록 하시오.\n"
   ]
  },
  {
   "cell_type": "code",
   "execution_count": null,
   "metadata": {},
   "outputs": [],
   "source": [
    "try:\n",
    "    a = {1: 2, 2: 3}\n",
    "    a = a[4]\n",
    "except KeyError as e:\n",
    "    print(e)"
   ]
  },
  {
   "cell_type": "markdown",
   "metadata": {},
   "source": [
    "#### 4. \"abc\" 문자열을 정수로 변환할때 발생하는 오류와 3번에서 발생하는 오류에 대해서 모두 오류메세지를 발생하도록 하시오."
   ]
  },
  {
   "cell_type": "code",
   "execution_count": null,
   "metadata": {},
   "outputs": [],
   "source": [
    "try:\n",
    "    int(\"abc\")\n",
    "except (ValueError, KeyError) as e:\n",
    "    print(e)"
   ]
  },
  {
   "cell_type": "markdown",
   "metadata": {},
   "source": [
    "#### 5. NameError 발생 시켰을 때 \"123\"을 정수로 변환시켜서 출력되도록 하시오."
   ]
  },
  {
   "cell_type": "code",
   "execution_count": null,
   "metadata": {},
   "outputs": [],
   "source": [
    "try:\n",
    "    error\n",
    "\n",
    "finally:    \n",
    "    number = \"123\"\n",
    "    print(int(123))"
   ]
  },
  {
   "cell_type": "markdown",
   "metadata": {},
   "source": [
    "#### 6. in 뒤에 문자열이나 리스크 형태가 아닌 것을 넣었을 때 아무런 오류도 발생하지 않도록 하시오."
   ]
  },
  {
   "cell_type": "code",
   "execution_count": null,
   "metadata": {},
   "outputs": [],
   "source": [
    "try:\n",
    "    for i in 24524:\n",
    "        print(i)\n",
    "except TypeError:\n",
    "    pass"
   ]
  },
  {
   "cell_type": "markdown",
   "metadata": {},
   "source": [
    "#### 7. 자식 클래스에서 부모 클래스의 메서드를 실행시킬 경우 오류가 발생되서 자식 클래스에 강제로 메서드 오버라이딩을 하도록 하시오."
   ]
  },
  {
   "cell_type": "code",
   "execution_count": null,
   "metadata": {},
   "outputs": [],
   "source": [
    "class MotherClass:\n",
    "    def test(self):\n",
    "        raise NotImplementedError\n",
    "        \n",
    "class ChildClass(MotherClass):\n",
    "    pass\n",
    "\n",
    "child1 = ChildClass()\n",
    "child1.test()"
   ]
  },
  {
   "cell_type": "markdown",
   "metadata": {},
   "source": [
    "#### 8. Exception 클래스를 이용해서 입력을 통해서 두숫자 AA와 BB를 입력받고 나누었을 때 나머지가 0가 되면 \"AA 와 BB의 나머지는 0 입니다.\"가 출력되도록 하시오."
   ]
  },
  {
   "cell_type": "code",
   "execution_count": null,
   "metadata": {},
   "outputs": [],
   "source": [
    "class Remainder(Exception):\n",
    "    def __str__(self):\n",
    "        return \"AA와 BB의 나머지는 0 입니다.\"\n",
    "    \n",
    "num1 = int(input(\"AA : \"))\n",
    "num2 = int(input(\"BB : \"))\n",
    "\n",
    "try:\n",
    "    if num1 % num2 == 0:\n",
    "        raise Remainder\n",
    "    else:\n",
    "        print(num1 % num2)\n",
    "except Remainder as e:\n",
    "    print(e)"
   ]
  },
  {
   "cell_type": "markdown",
   "metadata": {},
   "source": [
    "#### 9. input() 통해서 숫자를 입력받을 경우 try:...except: 를 통해 숫자를 입력 받아야 통과하도록 해보시오."
   ]
  },
  {
   "cell_type": "code",
   "execution_count": null,
   "metadata": {},
   "outputs": [],
   "source": [
    "while True:\n",
    "    try:\n",
    "        num = input(\"숫자를 입력하세요. \")\n",
    "        float(num)\n",
    "        break\n",
    "    except:\n",
    "        print(\"숫자만 입력가능합니다.\")\n",
    "        continue\n",
    "\n",
    "print(\"입력한 숫자는 {}입니다.\".format(num))"
   ]
  },
  {
   "cell_type": "markdown",
   "metadata": {},
   "source": [
    "## 내장함수"
   ]
  },
  {
   "cell_type": "markdown",
   "metadata": {},
   "source": [
    "##### abs : 절대값을 return"
   ]
  },
  {
   "cell_type": "code",
   "execution_count": null,
   "metadata": {
    "scrolled": true
   },
   "outputs": [],
   "source": [
    "abs (-345)"
   ]
  },
  {
   "cell_type": "markdown",
   "metadata": {},
   "source": [
    "##### all : 모두가 참이면 True, 하나라도 거짓이면 False를 return"
   ]
  },
  {
   "cell_type": "code",
   "execution_count": null,
   "metadata": {},
   "outputs": [],
   "source": [
    "all([1, 2, 3, 0])"
   ]
  },
  {
   "cell_type": "code",
   "execution_count": null,
   "metadata": {},
   "outputs": [],
   "source": [
    "all([1, 5, 3])"
   ]
  },
  {
   "cell_type": "code",
   "execution_count": null,
   "metadata": {},
   "outputs": [],
   "source": [
    "all([1, 2, 3, {}])"
   ]
  },
  {
   "cell_type": "markdown",
   "metadata": {},
   "source": [
    "##### any : 하나 이상이 참이면 True, 모두 거짓이면 False를 return"
   ]
  },
  {
   "cell_type": "code",
   "execution_count": null,
   "metadata": {},
   "outputs": [],
   "source": [
    "any([1, 2, 3, {}])"
   ]
  },
  {
   "cell_type": "code",
   "execution_count": null,
   "metadata": {},
   "outputs": [],
   "source": [
    "any([0, 0, 0])"
   ]
  },
  {
   "cell_type": "code",
   "execution_count": null,
   "metadata": {},
   "outputs": [],
   "source": [
    "chr(81)"
   ]
  },
  {
   "cell_type": "code",
   "execution_count": null,
   "metadata": {},
   "outputs": [],
   "source": [
    "chr(65)"
   ]
  },
  {
   "cell_type": "code",
   "execution_count": null,
   "metadata": {},
   "outputs": [],
   "source": [
    "ord('A')"
   ]
  },
  {
   "cell_type": "code",
   "execution_count": null,
   "metadata": {},
   "outputs": [],
   "source": [
    "ord('}')"
   ]
  },
  {
   "cell_type": "code",
   "execution_count": null,
   "metadata": {},
   "outputs": [],
   "source": [
    "dir(int)"
   ]
  },
  {
   "cell_type": "code",
   "execution_count": null,
   "metadata": {},
   "outputs": [],
   "source": [
    "dir(1)"
   ]
  },
  {
   "cell_type": "code",
   "execution_count": null,
   "metadata": {},
   "outputs": [],
   "source": [
    "a = {'a': 1, 'b': 2}\n",
    "b = a.copy()\n",
    "id(a) == id(b)"
   ]
  },
  {
   "cell_type": "code",
   "execution_count": null,
   "metadata": {},
   "outputs": [],
   "source": [
    "dir(Remainder)"
   ]
  },
  {
   "cell_type": "code",
   "execution_count": null,
   "metadata": {},
   "outputs": [],
   "source": [
    "dir(Exception)"
   ]
  },
  {
   "cell_type": "code",
   "execution_count": null,
   "metadata": {},
   "outputs": [],
   "source": [
    "divmod (5, 3)"
   ]
  },
  {
   "cell_type": "code",
   "execution_count": null,
   "metadata": {},
   "outputs": [],
   "source": [
    "enumerate([1, 2, 3])"
   ]
  },
  {
   "cell_type": "code",
   "execution_count": null,
   "metadata": {},
   "outputs": [],
   "source": [
    "list(enumerate([1, 2, 3]))"
   ]
  },
  {
   "cell_type": "code",
   "execution_count": null,
   "metadata": {},
   "outputs": [],
   "source": [
    "for i, j in enumerate([1, 2, 3]):\n",
    "    print(i, j)"
   ]
  },
  {
   "cell_type": "code",
   "execution_count": null,
   "metadata": {},
   "outputs": [],
   "source": [
    "eval(\"'1'+'2'\")"
   ]
  },
  {
   "cell_type": "code",
   "execution_count": null,
   "metadata": {},
   "outputs": [],
   "source": [
    "eval(\"1+2\")"
   ]
  },
  {
   "cell_type": "code",
   "execution_count": null,
   "metadata": {},
   "outputs": [],
   "source": [
    "eval(\"[1, 2, 3, 4]\")"
   ]
  },
  {
   "cell_type": "code",
   "execution_count": null,
   "metadata": {},
   "outputs": [],
   "source": [
    "a = [[1, 2, 3], [4, 5, 6], [7, 8, 9]]\n",
    "with open('new.txt', 'w') as f:\n",
    "    for i in a:\n",
    "        f.write(str(i)+\"\\n\")\n",
    "f.close()"
   ]
  },
  {
   "cell_type": "code",
   "execution_count": null,
   "metadata": {},
   "outputs": [],
   "source": [
    "list1 = []\n",
    "f = open('new.txt', 'r')\n",
    "for i in f.readlines():\n",
    "    list1.append(eval(i))\n",
    "print(list1)"
   ]
  },
  {
   "cell_type": "code",
   "execution_count": null,
   "metadata": {},
   "outputs": [],
   "source": [
    "a = [1, 2, 3, 4]\n",
    "\n",
    "def test(list1):\n",
    "    list2 = []\n",
    "    for i in list1:\n",
    "        if i%2 == 1:\n",
    "            list2.append(i)\n",
    "    return list2\n",
    "        \n",
    "test(a)"
   ]
  },
  {
   "cell_type": "code",
   "execution_count": null,
   "metadata": {},
   "outputs": [],
   "source": [
    "a = [1, 2, 3, 4]"
   ]
  },
  {
   "cell_type": "code",
   "execution_count": null,
   "metadata": {},
   "outputs": [],
   "source": [
    "def test(a):\n",
    "    return a%2 == 1"
   ]
  },
  {
   "cell_type": "code",
   "execution_count": null,
   "metadata": {},
   "outputs": [],
   "source": [
    "for i in a:\n",
    "    print(test(i))"
   ]
  },
  {
   "cell_type": "markdown",
   "metadata": {},
   "source": [
    "##### filter(func, list): list에 func을 적용시켜 True인 값만 return한다."
   ]
  },
  {
   "cell_type": "code",
   "execution_count": null,
   "metadata": {},
   "outputs": [],
   "source": [
    "list(filter(test, [1, 2, 3, 4]))"
   ]
  },
  {
   "cell_type": "code",
   "execution_count": null,
   "metadata": {},
   "outputs": [],
   "source": [
    "def test1(a):\n",
    "    return a%2"
   ]
  },
  {
   "cell_type": "code",
   "execution_count": null,
   "metadata": {},
   "outputs": [],
   "source": [
    "list(filter(test1, a))"
   ]
  },
  {
   "cell_type": "code",
   "execution_count": null,
   "metadata": {},
   "outputs": [],
   "source": [
    "[x for x in a if x%2 == 1]"
   ]
  },
  {
   "cell_type": "code",
   "execution_count": null,
   "metadata": {},
   "outputs": [],
   "source": [
    "list(filter(lambda x: x%2 == 1, a))"
   ]
  },
  {
   "cell_type": "code",
   "execution_count": null,
   "metadata": {},
   "outputs": [],
   "source": [
    "[x for x in list(filter(test, a))]"
   ]
  },
  {
   "cell_type": "code",
   "execution_count": null,
   "metadata": {},
   "outputs": [],
   "source": [
    "a = [1, 2, 3, 4]\n",
    "\n",
    "def test(list1):\n",
    "    list2 = []\n",
    "    for i in list1:\n",
    "        list2.append(i*3)\n",
    "    return list2\n",
    "\n",
    "test(a)"
   ]
  },
  {
   "cell_type": "code",
   "execution_count": null,
   "metadata": {},
   "outputs": [],
   "source": [
    "def test(a):\n",
    "    return a * 3"
   ]
  },
  {
   "cell_type": "code",
   "execution_count": null,
   "metadata": {},
   "outputs": [],
   "source": [
    "list(map(test, [1, 2, 3, 4]))"
   ]
  },
  {
   "cell_type": "code",
   "execution_count": null,
   "metadata": {},
   "outputs": [],
   "source": [
    "list(map(lambda x: x*3, [1, 2, 3 ,4]))"
   ]
  },
  {
   "cell_type": "code",
   "execution_count": null,
   "metadata": {},
   "outputs": [],
   "source": [
    "[x*3 for x in [1, 2, 3, 4]]"
   ]
  },
  {
   "cell_type": "code",
   "execution_count": null,
   "metadata": {},
   "outputs": [],
   "source": [
    "list(map(lambda x: str(x*3), [1, 2, 3 ,4]))"
   ]
  },
  {
   "cell_type": "code",
   "execution_count": null,
   "metadata": {},
   "outputs": [],
   "source": [
    "[str(x*3) for x in [1, 2, 3, 4]]"
   ]
  },
  {
   "cell_type": "code",
   "execution_count": null,
   "metadata": {},
   "outputs": [],
   "source": [
    "int('0o01', 8)"
   ]
  },
  {
   "cell_type": "code",
   "execution_count": null,
   "metadata": {},
   "outputs": [],
   "source": [
    "int('A', 16)"
   ]
  },
  {
   "cell_type": "code",
   "execution_count": null,
   "metadata": {},
   "outputs": [],
   "source": [
    "class Test1:\n",
    "    pass\n",
    "\n",
    "class Test2(Test1):\n",
    "    pass\n",
    "\n",
    "class Test3(Test2):\n",
    "    pass"
   ]
  },
  {
   "cell_type": "code",
   "execution_count": null,
   "metadata": {},
   "outputs": [],
   "source": [
    "a = Test1()\n",
    "b = Test2()\n",
    "c = Test3()"
   ]
  },
  {
   "cell_type": "code",
   "execution_count": null,
   "metadata": {},
   "outputs": [],
   "source": [
    "isinstance(a, Test1)"
   ]
  },
  {
   "cell_type": "code",
   "execution_count": null,
   "metadata": {},
   "outputs": [],
   "source": [
    "isinstance(b, Test1)"
   ]
  },
  {
   "cell_type": "code",
   "execution_count": null,
   "metadata": {},
   "outputs": [],
   "source": [
    "isinstance(c, Test1)"
   ]
  },
  {
   "cell_type": "code",
   "execution_count": null,
   "metadata": {},
   "outputs": [],
   "source": [
    "isinstance(a, Test2)"
   ]
  },
  {
   "cell_type": "code",
   "execution_count": null,
   "metadata": {},
   "outputs": [],
   "source": [
    "isinstance(b, Test3)"
   ]
  },
  {
   "cell_type": "code",
   "execution_count": null,
   "metadata": {},
   "outputs": [],
   "source": [
    "a = ['1', '2', '3', '4']\n",
    "list3 = list(map(eval, a))\n",
    "print(list3)"
   ]
  },
  {
   "cell_type": "code",
   "execution_count": null,
   "metadata": {},
   "outputs": [],
   "source": [
    "round(123.456789, -1)"
   ]
  },
  {
   "cell_type": "code",
   "execution_count": null,
   "metadata": {},
   "outputs": [],
   "source": [
    "round(123.456789)"
   ]
  },
  {
   "cell_type": "code",
   "execution_count": null,
   "metadata": {},
   "outputs": [],
   "source": [
    "round(123.456789, 1)"
   ]
  },
  {
   "cell_type": "code",
   "execution_count": null,
   "metadata": {},
   "outputs": [],
   "source": [
    "round(123.456789, -3)"
   ]
  },
  {
   "cell_type": "code",
   "execution_count": null,
   "metadata": {},
   "outputs": [],
   "source": [
    "round(123.556789, 0)"
   ]
  },
  {
   "cell_type": "code",
   "execution_count": null,
   "metadata": {},
   "outputs": [],
   "source": [
    "int(123.55)"
   ]
  },
  {
   "cell_type": "code",
   "execution_count": null,
   "metadata": {},
   "outputs": [],
   "source": [
    "a = \"adfgdteh\"\n",
    "sorted(a)"
   ]
  },
  {
   "cell_type": "code",
   "execution_count": null,
   "metadata": {},
   "outputs": [],
   "source": [
    "a"
   ]
  },
  {
   "cell_type": "code",
   "execution_count": null,
   "metadata": {},
   "outputs": [],
   "source": [
    "a.sort() # 문자열은 sort()가 불가능하다."
   ]
  },
  {
   "cell_type": "code",
   "execution_count": null,
   "metadata": {},
   "outputs": [],
   "source": [
    "b = [1232, 5767, 7869, 1235]"
   ]
  },
  {
   "cell_type": "code",
   "execution_count": null,
   "metadata": {},
   "outputs": [],
   "source": [
    "b.sort()"
   ]
  },
  {
   "cell_type": "code",
   "execution_count": null,
   "metadata": {},
   "outputs": [],
   "source": [
    "b"
   ]
  },
  {
   "cell_type": "code",
   "execution_count": null,
   "metadata": {},
   "outputs": [],
   "source": [
    "b = [1232, 5767, 7869, 1235]"
   ]
  },
  {
   "cell_type": "code",
   "execution_count": null,
   "metadata": {},
   "outputs": [],
   "source": [
    "sorted(b)"
   ]
  },
  {
   "cell_type": "code",
   "execution_count": null,
   "metadata": {},
   "outputs": [],
   "source": [
    "b"
   ]
  },
  {
   "cell_type": "markdown",
   "metadata": {},
   "source": [
    "### sort()는 자기자신을 변경시키고, sorted(x)는 변하지않는다."
   ]
  },
  {
   "cell_type": "code",
   "execution_count": null,
   "metadata": {},
   "outputs": [],
   "source": [
    "sum(b)"
   ]
  },
  {
   "cell_type": "code",
   "execution_count": null,
   "metadata": {},
   "outputs": [],
   "source": [
    "list(zip([1, 2, 3], [11, 22, 33], [111, 222, 333]))"
   ]
  },
  {
   "cell_type": "code",
   "execution_count": null,
   "metadata": {},
   "outputs": [],
   "source": [
    "list(zip([1, 2], [11, 22, 33]))"
   ]
  },
  {
   "cell_type": "code",
   "execution_count": null,
   "metadata": {},
   "outputs": [],
   "source": [
    "a = list(zip([1, 2, 3], [11, 22]))\n",
    "a"
   ]
  },
  {
   "cell_type": "code",
   "execution_count": null,
   "metadata": {},
   "outputs": [],
   "source": [
    "f1 = open('new1.txt', 'wb')\n",
    "import pickle\n",
    "\n",
    "for i in a:\n",
    "    pickle.dump(i, f1)\n",
    "f1.close()"
   ]
  },
  {
   "cell_type": "code",
   "execution_count": null,
   "metadata": {},
   "outputs": [],
   "source": [
    "f2 = open(\"new1.txt\", \"rb\")\n",
    "import pickle\n",
    "\n",
    "for i in range(2):\n",
    "    b = pickle.load(f2)\n",
    "    print(b, type(b))\n",
    "\n",
    "f2.close()"
   ]
  },
  {
   "cell_type": "code",
   "execution_count": null,
   "metadata": {},
   "outputs": [],
   "source": [
    "import random"
   ]
  },
  {
   "cell_type": "code",
   "execution_count": null,
   "metadata": {},
   "outputs": [],
   "source": [
    "random.random()"
   ]
  },
  {
   "cell_type": "code",
   "execution_count": null,
   "metadata": {},
   "outputs": [],
   "source": [
    "random.randint(1, 10)"
   ]
  },
  {
   "cell_type": "code",
   "execution_count": null,
   "metadata": {},
   "outputs": [],
   "source": [
    "random.choice([1, 2, 3, 4])"
   ]
  },
  {
   "cell_type": "code",
   "execution_count": null,
   "metadata": {},
   "outputs": [],
   "source": [
    "random.choice(range(1,46))"
   ]
  },
  {
   "cell_type": "markdown",
   "metadata": {},
   "source": [
    "## 내장함수 실습"
   ]
  },
  {
   "cell_type": "code",
   "execution_count": 7,
   "metadata": {},
   "outputs": [],
   "source": [
    "list1 = [7, 3, 5, 2, 0, 6, 1, 4]"
   ]
  },
  {
   "cell_type": "markdown",
   "metadata": {},
   "source": [
    "#### 1. filter 함수를 통해 list1의 각 요소를 2로 나누었을 때 나머지의 값이 1이 되는 것만 출력하시오."
   ]
  },
  {
   "cell_type": "code",
   "execution_count": 8,
   "metadata": {},
   "outputs": [
    {
     "name": "stdout",
     "output_type": "stream",
     "text": [
      "7\n",
      "3\n",
      "5\n",
      "1\n"
     ]
    }
   ],
   "source": [
    "def test(num):\n",
    "    return num % 2 == 1\n",
    "\n",
    "list2 = list(filter(test, list1))\n",
    "for i in list2:\n",
    "    print(i)"
   ]
  },
  {
   "cell_type": "markdown",
   "metadata": {},
   "source": [
    "#### 2. map 함수를 이용해서 list1의 요소들을 모두 문자열로 만들어서 list2를 만드시오."
   ]
  },
  {
   "cell_type": "code",
   "execution_count": 9,
   "metadata": {},
   "outputs": [
    {
     "name": "stdout",
     "output_type": "stream",
     "text": [
      "['7', '3', '5', '2', '0', '6', '1', '4']\n"
     ]
    }
   ],
   "source": [
    "list2 = list(map(str, list1))\n",
    "print(list2)"
   ]
  },
  {
   "cell_type": "markdown",
   "metadata": {},
   "source": [
    "#### 3. list2에 대해서 정열하시오."
   ]
  },
  {
   "cell_type": "code",
   "execution_count": 10,
   "metadata": {},
   "outputs": [
    {
     "name": "stdout",
     "output_type": "stream",
     "text": [
      "['0', '1', '2', '3', '4', '5', '6', '7']\n"
     ]
    }
   ],
   "source": [
    "print(sorted(list2))"
   ]
  },
  {
   "cell_type": "markdown",
   "metadata": {},
   "source": [
    "#### 4. enumerate 함수를 이용해서 list2의 각 요소들에 대한 아스키코드 값으로 list3을 만드시오."
   ]
  },
  {
   "cell_type": "code",
   "execution_count": 12,
   "metadata": {},
   "outputs": [
    {
     "name": "stdout",
     "output_type": "stream",
     "text": [
      "[55, 51, 53, 50, 48, 54, 49, 52]\n"
     ]
    }
   ],
   "source": [
    "list3 = list2[:]\n",
    "for i, j in enumerate(list3):\n",
    "    list3[i] = ord(j)\n",
    "\n",
    "print(list3)"
   ]
  },
  {
   "cell_type": "markdown",
   "metadata": {},
   "source": [
    "#### 5. list3의 각 요소들의 총 합과 평균을 구하시오."
   ]
  },
  {
   "cell_type": "code",
   "execution_count": null,
   "metadata": {},
   "outputs": [],
   "source": [
    "print('''sum : {}\n",
    "avg : {}\\n'''.format(sum(list3), sum(list3)/len(list3)))"
   ]
  },
  {
   "cell_type": "markdown",
   "metadata": {},
   "source": [
    "#### 6. list3 의 최대값과 최소값을 구하고 최대값/최소값을 했을 때 나눈 몫과 나머지를 구해보시오."
   ]
  },
  {
   "cell_type": "code",
   "execution_count": null,
   "metadata": {},
   "outputs": [],
   "source": [
    "print(\"최대값 : {}\".format(max(list3)))\n",
    "print(\"최소값 : {}\".format(min(list3)))\n",
    "print(divmod(max(list3), min(list3)))"
   ]
  },
  {
   "cell_type": "markdown",
   "metadata": {},
   "source": [
    "#### 7. list2와 list3를 사용해서 {문자:아스키코드} 형태의 딕셔너리를 만들고 test.txt에 문자열 형태로 저장 후에 출력 되도록 하시오."
   ]
  },
  {
   "cell_type": "code",
   "execution_count": 17,
   "metadata": {},
   "outputs": [
    {
     "name": "stdout",
     "output_type": "stream",
     "text": [
      "{'7': 55, '3': 51, '5': 53, '2': 50, '0': 48, '6': 54, '1': 49, '4': 52}\n"
     ]
    }
   ],
   "source": [
    "with open(\"test.txt\", 'w') as f:\n",
    "    ascii_dict = {}\n",
    "    for i in range(len(list2)):\n",
    "        ascii_dict[list2[i]] = list3[i]\n",
    "    f.write(str(ascii_dict))\n",
    "    print(ascii_dict)\n",
    "\n",
    "f1 = open(\"test.txt\", 'r')\n",
    "eval(f1.readline())\n",
    "f1.close()"
   ]
  },
  {
   "cell_type": "markdown",
   "metadata": {},
   "source": [
    "#### 8.문자열의 함수가 어떤 것이 있는지 알아보시오."
   ]
  },
  {
   "cell_type": "code",
   "execution_count": null,
   "metadata": {},
   "outputs": [],
   "source": [
    "dir(str)"
   ]
  },
  {
   "cell_type": "markdown",
   "metadata": {},
   "source": [
    "#### 9. input을 통해 실수를 입력 받아서 소숫점 3자리이후 부터는 반올림 되도록 하시오. 단 숫자형으로 입력했을 경우에만 입력되고 숫자형이 아닐때는 재 입력 창이 뜨도록 하시오."
   ]
  },
  {
   "cell_type": "code",
   "execution_count": 4,
   "metadata": {},
   "outputs": [
    {
     "name": "stdout",
     "output_type": "stream",
     "text": [
      "실수를 입력하세요 : 4.345346356\n",
      "4.345\n"
     ]
    }
   ],
   "source": [
    "while True:\n",
    "    try:\n",
    "        user = float(input(\"실수를 입력하세요 : \"))\n",
    "        break\n",
    "    except:\n",
    "        print(\"정확히 입력하세요.\")\n",
    "        continue\n",
    "\n",
    "print(round(user, 3))"
   ]
  },
  {
   "cell_type": "markdown",
   "metadata": {},
   "source": [
    "## 외장함수 실습"
   ]
  },
  {
   "cell_type": "code",
   "execution_count": 1,
   "metadata": {},
   "outputs": [],
   "source": [
    "import os"
   ]
  },
  {
   "cell_type": "markdown",
   "metadata": {},
   "source": [
    "#### 1. cmd 창에서 python을 바로 실행시키고 c:\\doit 폴더로 이동해보시오."
   ]
  },
  {
   "cell_type": "code",
   "execution_count": 3,
   "metadata": {},
   "outputs": [],
   "source": [
    "os.mkdir(\"c:/doit\")"
   ]
  },
  {
   "cell_type": "code",
   "execution_count": 4,
   "metadata": {},
   "outputs": [],
   "source": [
    "os.chdir(\"c:/doit\")"
   ]
  },
  {
   "cell_type": "markdown",
   "metadata": {},
   "source": [
    "#### 2. 현재 위치해 있는 폴더를 출력하시오."
   ]
  },
  {
   "cell_type": "code",
   "execution_count": 5,
   "metadata": {},
   "outputs": [
    {
     "data": {
      "text/plain": [
       "'c:\\\\doit'"
      ]
     },
     "execution_count": 5,
     "metadata": {},
     "output_type": "execute_result"
    }
   ],
   "source": [
    "os.getcwd()"
   ]
  },
  {
   "cell_type": "markdown",
   "metadata": {},
   "source": [
    "#### 3. 현재 위치에 test1 폴더를 생성하시오."
   ]
  },
  {
   "cell_type": "code",
   "execution_count": 6,
   "metadata": {},
   "outputs": [],
   "source": [
    "os.mkdir(\"test1\")"
   ]
  },
  {
   "cell_type": "markdown",
   "metadata": {},
   "source": [
    "#### 4. test1폴더 안에 srp.txt를 생성하고 ['가위','바위','보']를 저장하시오."
   ]
  },
  {
   "cell_type": "code",
   "execution_count": 7,
   "metadata": {},
   "outputs": [],
   "source": [
    "import pickle\n",
    "f = open(\"c:/doit/test1/srp.txt\", 'wb')\n",
    "\n",
    "pickle.dump(['가위', '바위', '보'], f)\n",
    "f.close()"
   ]
  },
  {
   "cell_type": "markdown",
   "metadata": {},
   "source": [
    "#### 5. test1폴더 안에 srpuser.txt를 생성하고 input를 통해서 '가위','바위,'보' 중 하나를 10번 입력하고 저장되도록 하시오."
   ]
  },
  {
   "cell_type": "code",
   "execution_count": 8,
   "metadata": {},
   "outputs": [
    {
     "name": "stdout",
     "output_type": "stream",
     "text": [
      "가위, 바위, 보 : 가위\n",
      "가위, 바위, 보 : 가위\n",
      "가위, 바위, 보 : 바위\n",
      "가위, 바위, 보 : 바위\n",
      "가위, 바위, 보 : 보\n",
      "가위, 바위, 보 : 보\n",
      "가위, 바위, 보 : 가\n",
      "가위, 바위, 보 : 가위\n",
      "가위, 바위, 보 : 바위\n",
      "가위, 바위, 보 : 보\n"
     ]
    }
   ],
   "source": [
    "srpusers=[]\n",
    "\n",
    "for i in range(10):\n",
    "    srpusers.append(input(\"가위, 바위, 보 : \"))\n",
    "\n",
    "f = open(\"c:/doit/test1/srpuser.txt\", 'wb')\n",
    "pickle.dump(srpusers, f)\n",
    "f.close()"
   ]
  },
  {
   "cell_type": "markdown",
   "metadata": {},
   "source": [
    "#### 6. srp.txt와 srpuser.txt 를 이용해서 본인이 입력한 가위바위보의 승패를 가려보시오.(hint:random함수)"
   ]
  },
  {
   "cell_type": "code",
   "execution_count": 29,
   "metadata": {},
   "outputs": [
    {
     "name": "stdout",
     "output_type": "stream",
     "text": [
      "3승 5패 2무\n"
     ]
    }
   ],
   "source": [
    "import pickle\n",
    "import random\n",
    "f1 = open(\"c:/doit/test1/srpuser.txt\", 'rb') # 유저가 낸 가위바위보 리스트\n",
    "f2 = open('c:/doit/test1/srp.txt', 'rb') # 가위바위보 정답 리스트\n",
    "\n",
    "srp_user = pickle.load(f1)\n",
    "srp_list = pickle.load(f2)\n",
    "srp_npc = []\n",
    "for _ in range(10):\n",
    "    srp_npc.append(srp_list[random.randint(0,2)])\n",
    "\n",
    "result = {'w': 0, 'l': 0, 'd': 0}\n",
    "for i in range(len(srp_user)):\n",
    "    if srp_user[i] not in srp_list:\n",
    "        result['l'] += 1\n",
    "    elif srp_user[i] == srp_npc[i]:\n",
    "        result['d'] += 1\n",
    "    elif srp_user[i] == '가위':\n",
    "        if srp_npc[i] == '바위':\n",
    "            result['l'] += 1\n",
    "        else:\n",
    "            result['w'] += 1\n",
    "    elif srp_user[i] == '바위':\n",
    "        if srp_npc[i] == '보':\n",
    "            result['l'] += 1\n",
    "        else:\n",
    "            result['w'] += 1\n",
    "    elif srp_user[i] == '보':\n",
    "        if srp_npc[i] == '가위':\n",
    "            result['l'] += 1\n",
    "        else:\n",
    "            result['w'] += 1\n",
    "\n",
    "print(\"{}승 {}패 {}무\".format(result['w'], result['l'], result['d']))"
   ]
  }
 ],
 "metadata": {
  "kernelspec": {
   "display_name": "Python 3",
   "language": "python",
   "name": "python3"
  },
  "language_info": {
   "codemirror_mode": {
    "name": "ipython",
    "version": 3
   },
   "file_extension": ".py",
   "mimetype": "text/x-python",
   "name": "python",
   "nbconvert_exporter": "python",
   "pygments_lexer": "ipython3",
   "version": "3.7.6"
  }
 },
 "nbformat": 4,
 "nbformat_minor": 4
}
