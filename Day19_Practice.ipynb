{
 "cells": [
  {
   "cell_type": "markdown",
   "metadata": {},
   "source": [
    "## 4.5 학습 알고리즘 구현"
   ]
  },
  {
   "cell_type": "markdown",
   "metadata": {},
   "source": [
    "**전제**"
   ]
  },
  {
   "cell_type": "markdown",
   "metadata": {},
   "source": [
    "신경망에는 적응 가능한 가중치(W)와 편향(b)이 있고, 이 가중치와 편향을 훈련 데이터에 적응하도록 조정하는 과정을 '학습'이라고 한다. 신경망 학습은 다음과 같이 4단계로 수행한다."
   ]
  },
  {
   "cell_type": "markdown",
   "metadata": {},
   "source": [
    "**1. 미니배치**\n",
    "- 훈련 데이터 중 일부를 무작위로 가져온다. 이렇게 선별한 데이터를 미니배치라 하며, 그 **미니배치의 손실함수 값을 줄이는 것**이 목표다."
   ]
  },
  {
   "cell_type": "markdown",
   "metadata": {},
   "source": [
    "**2. 기울기 산출**\n",
    "- 미니배치의 손실 함수 값을 줄이기 위해 각 가중치 매개변수의 기울기를 구한다. **기울기는 손실함수의 값을 가장 작게 하는 방향을 제시**한다."
   ]
  },
  {
   "cell_type": "markdown",
   "metadata": {},
   "source": [
    "**3. 매개변수 갱신**\n",
    "- 가중치 매개변수를 기울기 방향으로 아주 조금 갱신한다."
   ]
  },
  {
   "cell_type": "markdown",
   "metadata": {},
   "source": [
    "**4. 반복**\n",
    "- 1 ~ 3단계를 반복한다.\n",
    "    - 데이터를 미니배치로 무작위로 선정하기 때문에 **확률적 경사 하강법(Stochastic Gradient Descent)**이라고 부른다. (확률적으로 골라낸 데이터에서 수행하는 경사하강법)"
   ]
  },
  {
   "cell_type": "markdown",
   "metadata": {},
   "source": [
    "### 4.5.1 2층 신경망 클래스 구현\n",
    "- 2층 신경망을 하나의 클래스로 구현해보자."
   ]
  },
  {
   "cell_type": "markdown",
   "metadata": {},
   "source": [
    "**필요한 것들**\n",
    "1. 매개변수 설정\n",
    "2. 미니배치\n",
    "3. 예측값 출력\n",
    "4. 손실함수 생성\n",
    "5. 손실함수 기울기 산출\n",
    "6. 매개변수 갱신"
   ]
  },
  {
   "cell_type": "markdown",
   "metadata": {},
   "source": [
    "입력값에 대한 shape을 미리 알고 있어야 한다."
   ]
  },
  {
   "cell_type": "code",
   "execution_count": 16,
   "metadata": {},
   "outputs": [],
   "source": [
    "import sys\n",
    "sys.path.append(\"./code/\") # 부모 디렉터리의 파일을 가져올 수 있도록 설정\n",
    "from common.functions import *\n",
    "from common.gradient import numerical_gradient\n",
    "import numpy as np\n",
    "\n",
    "class TwoLayerNet:\n",
    "    def __init__(self, input_size, hidden_size, output_size, weight_init_std=0.01):\n",
    "        # 가중치 초기화, 매개변수 설정\n",
    "        self.params = {}\n",
    "        self.params['W1'] = weight_init_std * np.random.randn(input_size, hidden_size)\n",
    "        self.params['b1'] = np.zeros(hidden_size)\n",
    "        self.params['W2'] = weight_init_std * np.random.randn(hidden_size, output_size)\n",
    "        self.params['b2'] = np.zeros(output_size)\n",
    "    \n",
    "    def predict(self, x): # 예측값 출력\n",
    "        W1, W2 = self.params['W1'], self.params['W2']\n",
    "        b1, b2 = self.params['b1'], self.params['b2']\n",
    "        \n",
    "        a1 = np.dot(x, W1) + b1\n",
    "        z1 = sigmoid(a1)\n",
    "        \n",
    "        a2 = np.dot(z1, W2) + b2\n",
    "        y = softmax(a2)\n",
    "        \n",
    "        return y\n",
    "    \n",
    "    # x : 입력 데이터, t : 정답 레이블\n",
    "    def loss(self, x, t): # 손실함수 생성\n",
    "        y = self.predict(x)\n",
    "        \n",
    "        return cross_entropy_error(y, t)\n",
    "    \n",
    "    def accuracy(self, x, t): # 정확도 계산\n",
    "        y = self.predict(x)\n",
    "        y_arg = np.argmax(y, axis=1)\n",
    "        t_arg = np.argmax(t, axis=1)\n",
    "        \n",
    "        accuracy = np.sum(y_arg == t_arg) / float(x.shape[0])\n",
    "        return accuracy\n",
    "    \n",
    "    # x : 입력 데이터, t : 정답 레이블\n",
    "    def numerical_gradient(self, x, t): # 손실함수의 기울기 산출\n",
    "        loss_W = lambda W: self.loss(x, t)\n",
    "        \n",
    "        grads = {}\n",
    "        grads['W1'] = numerical_gradient(loss_W, self.params['W1'])\n",
    "        grads['b1'] = numerical_gradient(loss_W, self.params['b1'])\n",
    "        grads['W2'] = numerical_gradient(loss_W, self.params['W2'])\n",
    "        grads['b2'] = numerical_gradient(loss_W, self.params['b2'])\n",
    "        \n",
    "        return grads\n",
    "    \n",
    "    def gradient(self, x, t): # 매개변수 갱신\n",
    "        W1, W2 = self.params['W1'], self.params['W2']\n",
    "        b1, b2 = self.params['b1'], self.params['b2']\n",
    "        grads = {}\n",
    "        \n",
    "        batch_num = x.shape[0]\n",
    "        \n",
    "        # forward\n",
    "        a1 = np.dot(x, W1) + b1\n",
    "        z1 = sigmoid(a1)\n",
    "        a2 = np.dot(z1, W2) + b2\n",
    "        y = softmax(a2)\n",
    "        \n",
    "        # backward\n",
    "        dy = (y - t) / batch_num\n",
    "        grads['W2'] = np.dot(z1.T, dy)\n",
    "        grads['b2'] = np.sum(dy, axis=0)\n",
    "        \n",
    "        da1 = np.dot(dy, W2.T)\n",
    "        dz1 = sigmoid_grad(a1) * da1\n",
    "        grads['W1'] = np.dot(x.T, dz1)\n",
    "        grads['b1'] = np.sum(dz1, axis=0)\n",
    "        \n",
    "        return grads"
   ]
  },
  {
   "cell_type": "markdown",
   "metadata": {},
   "source": [
    "*__TwoLayerNet 클래스가 사용하는 변수__*\n",
    "\n",
    "|변수|설명|\n",
    "|:----------|:----------------------------------------------------------:|\n",
    "|params|신경망의 매개변수를 보관하는 딕셔너리 변수(인스턴스 변수)|\n",
    "|-|params[\"W1\"]은 1번째 층의 가중치, params['b1']은 1번째 층의 편향|\n",
    "|grads|기울기 보관하는 딕셔너리 변수(numerical_gradient()매서드의 반환 값|\n",
    "|-|grads['W1']은 1번째 층의 가중치의 기울기, grads['b2']은 1번째 층의 편향의 기울기|"
   ]
  },
  {
   "cell_type": "markdown",
   "metadata": {},
   "source": [
    "*__TwoLayerNet 클래스의 메서드__*\n",
    "\n",
    "|메서드|설명|\n",
    "|:---------|:------------------------:|\n",
    "|init(self,...)|input_size:입력층의 뉴런수, hidden_size:은닉층의 뉴런수, output_size:출력층의 뉴런수|\n",
    "|predict(self,x)|예측(추론)을 수행한다.|\n",
    "|-|x는 이미지 데이터, t는 정답 레이블|\n",
    "|loss(self,x,t)|손실 함수의 값을 구한다.|\n",
    "|accuracy(self, x, t)|정확도를 구한다.|\n",
    "|numerical_gradient(self, x, t)|가중치 매개변수의 기울기를 구한다.|"
   ]
  },
  {
   "cell_type": "markdown",
   "metadata": {},
   "source": [
    "> *__np.random.randn(input_size, hidden_size)__*\n",
    "- 가중치 매개변수를 추출할 때 사용한 함수다. 클래스의 초기화 함수에 존재\n",
    "- 가중치 매개변수의 초깃값을 무엇으로 설정하느냐가 신경망 학습의 성공을 좌우한다.\n",
    "- 당장은 정규분포를 따르는 난수로 편향은 0으로 초기화 한다."
   ]
  },
  {
   "cell_type": "code",
   "execution_count": 4,
   "metadata": {},
   "outputs": [
    {
     "data": {
      "text/plain": [
       "(784, 100)"
      ]
     },
     "execution_count": 4,
     "metadata": {},
     "output_type": "execute_result"
    }
   ],
   "source": [
    "net = TwoLayerNet(784, 100, 10)\n",
    "net.params['W1'].shape"
   ]
  },
  {
   "cell_type": "code",
   "execution_count": 5,
   "metadata": {},
   "outputs": [
    {
     "data": {
      "text/plain": [
       "(100,)"
      ]
     },
     "execution_count": 5,
     "metadata": {},
     "output_type": "execute_result"
    }
   ],
   "source": [
    "net.params['b1'].shape"
   ]
  },
  {
   "cell_type": "code",
   "execution_count": 6,
   "metadata": {},
   "outputs": [
    {
     "data": {
      "text/plain": [
       "(100, 10)"
      ]
     },
     "execution_count": 6,
     "metadata": {},
     "output_type": "execute_result"
    }
   ],
   "source": [
    "net.params['W2'].shape"
   ]
  },
  {
   "cell_type": "markdown",
   "metadata": {},
   "source": [
    "- params 변수에는 이 신경망에 필요한 매개변수가 모두 저장된다.\n",
    "- params 변수에 저장된 가중치 매개변수가 예측처리(순방향 처리)에서 사용된다.\n",
    "    - 참고로 예측 처리는 다음과 같이 실행할 수 있다."
   ]
  },
  {
   "cell_type": "code",
   "execution_count": 7,
   "metadata": {},
   "outputs": [
    {
     "data": {
      "text/plain": [
       "array([[0.7224959 , 0.42969007, 0.19742566, ..., 0.11819217, 0.36319697,\n",
       "        0.81604435],\n",
       "       [0.70733411, 0.40888042, 0.15381285, ..., 0.40532318, 0.88769577,\n",
       "        0.91049957],\n",
       "       [0.46068766, 0.77769479, 0.73357782, ..., 0.81185506, 0.38432881,\n",
       "        0.25967102],\n",
       "       ...,\n",
       "       [0.64398543, 0.07750777, 0.77840857, ..., 0.78190292, 0.48464855,\n",
       "        0.55959195],\n",
       "       [0.3344678 , 0.57688699, 0.3965918 , ..., 0.46397661, 0.43845733,\n",
       "        0.98873051],\n",
       "       [0.40356317, 0.49692307, 0.5265339 , ..., 0.818013  , 0.2386327 ,\n",
       "        0.95404727]])"
      ]
     },
     "execution_count": 7,
     "metadata": {},
     "output_type": "execute_result"
    }
   ],
   "source": [
    "x = np.random.rand(100, 784)\n",
    "x"
   ]
  },
  {
   "cell_type": "code",
   "execution_count": 9,
   "metadata": {},
   "outputs": [
    {
     "data": {
      "text/plain": [
       "array([[0.10073148, 0.10648047, 0.09739916, 0.09829687, 0.1028917 ,\n",
       "        0.09943138, 0.10901998, 0.09997572, 0.09586542, 0.08990784],\n",
       "       [0.10076785, 0.10590015, 0.0975777 , 0.09851404, 0.10293769,\n",
       "        0.09947402, 0.10916328, 0.09996861, 0.09606507, 0.08963159],\n",
       "       [0.10055645, 0.10590541, 0.09756454, 0.09862487, 0.10296259,\n",
       "        0.09932652, 0.10925786, 0.09955765, 0.09614174, 0.09010238],\n",
       "       [0.1006969 , 0.10623185, 0.09739052, 0.09816682, 0.10350758,\n",
       "        0.09940177, 0.10873206, 0.10005991, 0.09600132, 0.08981127],\n",
       "       [0.10029495, 0.10642168, 0.09742401, 0.09843958, 0.10324857,\n",
       "        0.0995966 , 0.10887695, 0.0997152 , 0.09596686, 0.0900156 ],\n",
       "       [0.10090193, 0.10624836, 0.09721796, 0.09826654, 0.10333391,\n",
       "        0.09958103, 0.1091134 , 0.09990392, 0.09566313, 0.08976982],\n",
       "       [0.10083544, 0.10620028, 0.09746398, 0.09830515, 0.10329159,\n",
       "        0.09912397, 0.10876183, 0.09979135, 0.09623508, 0.08999133],\n",
       "       [0.10044487, 0.10633313, 0.09761087, 0.09859366, 0.10325016,\n",
       "        0.09953918, 0.1088782 , 0.09960031, 0.09595891, 0.08979071],\n",
       "       [0.10061419, 0.10651518, 0.09747969, 0.09872311, 0.10326376,\n",
       "        0.0994402 , 0.108939  , 0.09942109, 0.09583233, 0.08977145],\n",
       "       [0.10024657, 0.10633972, 0.09742399, 0.0983717 , 0.10320769,\n",
       "        0.09965115, 0.10929055, 0.09979674, 0.09597544, 0.08969645],\n",
       "       [0.10059238, 0.10603592, 0.09752932, 0.09849339, 0.10303567,\n",
       "        0.09948237, 0.10894936, 0.09957747, 0.09644191, 0.08986222],\n",
       "       [0.10068667, 0.10651669, 0.09721254, 0.09853474, 0.10326249,\n",
       "        0.09973966, 0.10862181, 0.09954171, 0.09587972, 0.09000398],\n",
       "       [0.10054313, 0.10616032, 0.09749242, 0.09867503, 0.10305354,\n",
       "        0.09952577, 0.10919404, 0.09927106, 0.0963361 , 0.08974859],\n",
       "       [0.10088212, 0.10630552, 0.09744395, 0.09851999, 0.10298587,\n",
       "        0.09960165, 0.10881844, 0.10004947, 0.09582549, 0.08956749],\n",
       "       [0.10052398, 0.10648599, 0.0973888 , 0.09832126, 0.10362565,\n",
       "        0.09923263, 0.10902448, 0.09980772, 0.09610078, 0.08948872],\n",
       "       [0.10089033, 0.10619674, 0.09758258, 0.09853724, 0.10324364,\n",
       "        0.09955233, 0.1084794 , 0.09994523, 0.09583277, 0.08973973],\n",
       "       [0.10053656, 0.10655488, 0.0974068 , 0.09844339, 0.10303063,\n",
       "        0.09933452, 0.10928391, 0.09930138, 0.0962363 , 0.08987164],\n",
       "       [0.10073758, 0.10634755, 0.09763262, 0.09831529, 0.10292269,\n",
       "        0.09968605, 0.10901938, 0.09929938, 0.09614075, 0.08989872],\n",
       "       [0.10050427, 0.10638728, 0.09764332, 0.09832531, 0.10324037,\n",
       "        0.09994417, 0.10856666, 0.09976467, 0.09588295, 0.08974101],\n",
       "       [0.10064091, 0.10631093, 0.09741228, 0.09842817, 0.10308086,\n",
       "        0.09950842, 0.1093535 , 0.09979352, 0.09593884, 0.08953256],\n",
       "       [0.10090757, 0.10615513, 0.09746798, 0.09835786, 0.10338469,\n",
       "        0.09950085, 0.10878895, 0.09953377, 0.09603011, 0.08987309],\n",
       "       [0.10061051, 0.10651056, 0.09703711, 0.09826282, 0.10287101,\n",
       "        0.09991496, 0.10868404, 0.10006876, 0.0960593 , 0.08998095],\n",
       "       [0.10070907, 0.10619952, 0.09742763, 0.09840061, 0.10316258,\n",
       "        0.09978102, 0.10899755, 0.09940241, 0.09595204, 0.08996756],\n",
       "       [0.10075267, 0.10658721, 0.09748789, 0.09870469, 0.10316108,\n",
       "        0.09916664, 0.10898437, 0.09947055, 0.09611883, 0.08956608],\n",
       "       [0.10047077, 0.10627974, 0.09755237, 0.09863283, 0.10332996,\n",
       "        0.09945533, 0.10925879, 0.09960812, 0.09574986, 0.08966223],\n",
       "       [0.10060227, 0.10643158, 0.09739552, 0.09855674, 0.10328218,\n",
       "        0.0995831 , 0.10908517, 0.09943536, 0.09590768, 0.0897204 ],\n",
       "       [0.10083064, 0.10639386, 0.09746827, 0.09811505, 0.10317855,\n",
       "        0.09958396, 0.1086958 , 0.09968335, 0.09600238, 0.09004813],\n",
       "       [0.1008376 , 0.10601222, 0.09757353, 0.09841612, 0.10320787,\n",
       "        0.09966713, 0.10876261, 0.099563  , 0.09611878, 0.08984114],\n",
       "       [0.10046275, 0.10620356, 0.0977018 , 0.09826277, 0.10298102,\n",
       "        0.09947677, 0.10895498, 0.09979377, 0.09606527, 0.09009732],\n",
       "       [0.10067297, 0.10612304, 0.09761486, 0.09849774, 0.10319198,\n",
       "        0.09953705, 0.10885826, 0.09958655, 0.0958305 , 0.09008704],\n",
       "       [0.1005795 , 0.1060875 , 0.0973787 , 0.09862937, 0.10325948,\n",
       "        0.09959606, 0.10866768, 0.09990726, 0.09612955, 0.08976489],\n",
       "       [0.1006434 , 0.10617373, 0.09761898, 0.09831716, 0.10305672,\n",
       "        0.09969172, 0.10926723, 0.09998358, 0.09550834, 0.08973915],\n",
       "       [0.10069259, 0.10620211, 0.09765163, 0.09839443, 0.10301347,\n",
       "        0.09963919, 0.10889143, 0.09981098, 0.09587637, 0.0898278 ],\n",
       "       [0.10083141, 0.10607281, 0.09765449, 0.09811002, 0.10333478,\n",
       "        0.09963026, 0.10907464, 0.09974843, 0.09590168, 0.08964147],\n",
       "       [0.10055085, 0.10628763, 0.09786587, 0.09831669, 0.10334065,\n",
       "        0.09956177, 0.10873865, 0.09971028, 0.09588626, 0.08974134],\n",
       "       [0.10056058, 0.10627628, 0.09736212, 0.09848374, 0.10310489,\n",
       "        0.09972572, 0.10900622, 0.0998188 , 0.09576148, 0.08990016],\n",
       "       [0.10050464, 0.10672202, 0.09751256, 0.09836012, 0.10343998,\n",
       "        0.09958085, 0.10885386, 0.09944109, 0.09602472, 0.08956016],\n",
       "       [0.10067008, 0.10637734, 0.09720181, 0.09813056, 0.10325587,\n",
       "        0.0993741 , 0.1089984 , 0.09981638, 0.09611597, 0.09005948],\n",
       "       [0.10059158, 0.10627089, 0.09751688, 0.09842073, 0.10333945,\n",
       "        0.09983556, 0.10885713, 0.09946327, 0.0957804 , 0.08992412],\n",
       "       [0.10094457, 0.1061129 , 0.09795269, 0.09845493, 0.10335237,\n",
       "        0.09918834, 0.10906925, 0.09970004, 0.09555402, 0.08967089],\n",
       "       [0.100612  , 0.10666456, 0.09751873, 0.09809596, 0.10303375,\n",
       "        0.09936992, 0.10900181, 0.10001987, 0.09577637, 0.08990703],\n",
       "       [0.10057686, 0.10637364, 0.09772793, 0.09834614, 0.10304912,\n",
       "        0.09946193, 0.10843444, 0.10013231, 0.09581467, 0.09008295],\n",
       "       [0.10074645, 0.10636011, 0.09740548, 0.0984901 , 0.10285504,\n",
       "        0.09925467, 0.10922178, 0.09994221, 0.09600233, 0.08972184],\n",
       "       [0.1004222 , 0.10658985, 0.09749835, 0.09859707, 0.10345291,\n",
       "        0.09977538, 0.10899041, 0.09936605, 0.09555722, 0.08975056],\n",
       "       [0.10045192, 0.10669867, 0.0971342 , 0.09844069, 0.10338536,\n",
       "        0.09949962, 0.10878651, 0.09974269, 0.0959808 , 0.08987955],\n",
       "       [0.10081169, 0.10631451, 0.0975125 , 0.09814327, 0.1031566 ,\n",
       "        0.09948354, 0.10870454, 0.10018194, 0.09575252, 0.08993889],\n",
       "       [0.10056614, 0.10645785, 0.09768227, 0.09828991, 0.102807  ,\n",
       "        0.09964642, 0.10907609, 0.10002622, 0.09556681, 0.0898813 ],\n",
       "       [0.10075893, 0.10633541, 0.0974364 , 0.09853061, 0.102894  ,\n",
       "        0.09981169, 0.10903785, 0.09949824, 0.09608685, 0.08961001],\n",
       "       [0.10071038, 0.10648993, 0.09742884, 0.09844579, 0.10313247,\n",
       "        0.09940272, 0.10907974, 0.09954676, 0.09603143, 0.08973194],\n",
       "       [0.10071055, 0.10655047, 0.09776943, 0.0984459 , 0.10302802,\n",
       "        0.09960465, 0.10895834, 0.09949086, 0.09585831, 0.08958348],\n",
       "       [0.10064947, 0.10621504, 0.09726515, 0.0982152 , 0.10351867,\n",
       "        0.0991873 , 0.10928129, 0.09988162, 0.09610962, 0.08967665],\n",
       "       [0.10079946, 0.10630339, 0.09750651, 0.09846073, 0.10317492,\n",
       "        0.09959038, 0.10890145, 0.09913011, 0.09600243, 0.09013063],\n",
       "       [0.10040034, 0.10611295, 0.09727477, 0.09833607, 0.10334052,\n",
       "        0.09966835, 0.1087462 , 0.0996314 , 0.09625352, 0.09023588],\n",
       "       [0.1005186 , 0.10657078, 0.09754643, 0.09843679, 0.10347664,\n",
       "        0.09968207, 0.1086071 , 0.09932443, 0.09581557, 0.0900216 ],\n",
       "       [0.10049175, 0.10652994, 0.0973065 , 0.09843534, 0.10306631,\n",
       "        0.09946158, 0.10902129, 0.09993314, 0.09602161, 0.08973255],\n",
       "       [0.10083102, 0.10629862, 0.09741808, 0.098446  , 0.10310008,\n",
       "        0.09937866, 0.10890425, 0.09950308, 0.09619146, 0.08992874],\n",
       "       [0.10058816, 0.10618397, 0.09795112, 0.09841182, 0.10299006,\n",
       "        0.09945881, 0.10884795, 0.09987165, 0.09586613, 0.08983032],\n",
       "       [0.10098429, 0.10641663, 0.09718642, 0.09824162, 0.10324702,\n",
       "        0.0995088 , 0.10891968, 0.09987824, 0.09588722, 0.08973008],\n",
       "       [0.10052815, 0.10637674, 0.09768795, 0.0985525 , 0.10347344,\n",
       "        0.09961432, 0.10882447, 0.09911681, 0.09594934, 0.08987627],\n",
       "       [0.10071254, 0.10652297, 0.09758632, 0.09832706, 0.10278982,\n",
       "        0.09974873, 0.10911198, 0.09954973, 0.09579402, 0.08985684],\n",
       "       [0.10072181, 0.10649365, 0.09747851, 0.09851236, 0.10317776,\n",
       "        0.0992091 , 0.10915111, 0.09970119, 0.09565362, 0.08990088],\n",
       "       [0.10065278, 0.10609965, 0.0978385 , 0.09844277, 0.10310022,\n",
       "        0.09967906, 0.10869071, 0.09979558, 0.09596082, 0.08973993],\n",
       "       [0.10047783, 0.1061479 , 0.09772896, 0.09827626, 0.10304757,\n",
       "        0.09988098, 0.10907374, 0.09969077, 0.09582194, 0.08985405],\n",
       "       [0.10049664, 0.10672198, 0.09713039, 0.09849166, 0.10309094,\n",
       "        0.09932887, 0.10900557, 0.09982046, 0.09595826, 0.08995523],\n",
       "       [0.10060231, 0.10608872, 0.0974948 , 0.0983884 , 0.10306199,\n",
       "        0.09952153, 0.10918922, 0.09965047, 0.09593439, 0.09006816],\n",
       "       [0.10066568, 0.10624752, 0.09707917, 0.09820762, 0.10366095,\n",
       "        0.09951046, 0.10880697, 0.09992893, 0.0957198 , 0.09017289],\n",
       "       [0.10070651, 0.10625303, 0.09775993, 0.0983782 , 0.10313488,\n",
       "        0.09964377, 0.10862289, 0.09955901, 0.09608302, 0.08985875],\n",
       "       [0.10060158, 0.10622305, 0.09782596, 0.09848604, 0.10315071,\n",
       "        0.09956929, 0.10861495, 0.09976768, 0.09586312, 0.08989762],\n",
       "       [0.10080978, 0.10595383, 0.09736848, 0.09857646, 0.10290303,\n",
       "        0.09968614, 0.10887967, 0.09979412, 0.09636173, 0.08966677],\n",
       "       [0.10060263, 0.10605813, 0.0974424 , 0.09861733, 0.10339622,\n",
       "        0.0997951 , 0.10883918, 0.09992023, 0.09580368, 0.0895251 ],\n",
       "       [0.10069965, 0.10638586, 0.09771713, 0.0982378 , 0.10302682,\n",
       "        0.09957339, 0.10875456, 0.0998416 , 0.09600251, 0.08976068],\n",
       "       [0.10072215, 0.10626383, 0.09740805, 0.09837534, 0.10327163,\n",
       "        0.09951914, 0.10895006, 0.09969747, 0.096094  , 0.08969834],\n",
       "       [0.10071976, 0.10588178, 0.09749015, 0.09827734, 0.10334868,\n",
       "        0.09982414, 0.10887964, 0.10005777, 0.09549157, 0.09002916],\n",
       "       [0.10062736, 0.1064867 , 0.09751948, 0.09835341, 0.10335529,\n",
       "        0.09948418, 0.10874905, 0.09989383, 0.09597055, 0.08956015],\n",
       "       [0.10059731, 0.10643379, 0.09752692, 0.09861733, 0.10311622,\n",
       "        0.09963151, 0.10869778, 0.09945736, 0.09626914, 0.08965262],\n",
       "       [0.10091919, 0.10631912, 0.09721047, 0.09841   , 0.1033779 ,\n",
       "        0.09960428, 0.10869929, 0.10010799, 0.09589899, 0.08945276],\n",
       "       [0.10051205, 0.10626849, 0.09757298, 0.0984927 , 0.10298132,\n",
       "        0.09965223, 0.10887839, 0.09990065, 0.09602467, 0.08971652],\n",
       "       [0.10066725, 0.10641073, 0.09766511, 0.09850585, 0.1031073 ,\n",
       "        0.0996024 , 0.10867941, 0.09966335, 0.09596388, 0.08973471],\n",
       "       [0.1007821 , 0.10615086, 0.09772419, 0.09845936, 0.10322054,\n",
       "        0.09946346, 0.10852866, 0.10029531, 0.09580021, 0.0895753 ],\n",
       "       [0.1005832 , 0.10621731, 0.09781045, 0.09834337, 0.10335058,\n",
       "        0.09936074, 0.10892259, 0.10020151, 0.0956191 , 0.08959114],\n",
       "       [0.10008301, 0.10632685, 0.09749127, 0.0986078 , 0.1031563 ,\n",
       "        0.09945024, 0.10899594, 0.10002511, 0.09602312, 0.08984037],\n",
       "       [0.10069866, 0.10662387, 0.09742583, 0.09834667, 0.10320628,\n",
       "        0.09929469, 0.10895128, 0.09984262, 0.09583433, 0.08977576],\n",
       "       [0.10073148, 0.1063502 , 0.09758345, 0.09809621, 0.10324574,\n",
       "        0.09930238, 0.10909607, 0.09959598, 0.09586869, 0.0901298 ],\n",
       "       [0.10052222, 0.10639755, 0.09745558, 0.098645  , 0.10354525,\n",
       "        0.0993405 , 0.10885239, 0.09971643, 0.09580103, 0.08972404],\n",
       "       [0.10051409, 0.10635556, 0.09749402, 0.09842667, 0.103336  ,\n",
       "        0.09951541, 0.10885288, 0.10004908, 0.09589291, 0.08956338],\n",
       "       [0.10081158, 0.10629911, 0.09749168, 0.0983205 , 0.10322354,\n",
       "        0.09991816, 0.10865025, 0.09954531, 0.09607419, 0.0896657 ],\n",
       "       [0.10070656, 0.10628164, 0.0977365 , 0.0985033 , 0.10308975,\n",
       "        0.09958798, 0.10881892, 0.09939238, 0.09623686, 0.08964611],\n",
       "       [0.10067436, 0.10671879, 0.09760657, 0.09843688, 0.1027792 ,\n",
       "        0.09993756, 0.10849755, 0.09971734, 0.09567954, 0.08995221],\n",
       "       [0.10072268, 0.10621109, 0.09754464, 0.09828342, 0.10319506,\n",
       "        0.09948574, 0.10870785, 0.10001653, 0.09591121, 0.08992177],\n",
       "       [0.10087945, 0.10646012, 0.09707853, 0.09825918, 0.10293818,\n",
       "        0.09962824, 0.10907107, 0.09961949, 0.09639371, 0.08967204],\n",
       "       [0.10077372, 0.10628967, 0.09732966, 0.09834588, 0.10318004,\n",
       "        0.09947867, 0.10892664, 0.09994483, 0.09581121, 0.08991967],\n",
       "       [0.1006563 , 0.10631541, 0.09733099, 0.09846668, 0.10300103,\n",
       "        0.09992788, 0.1090368 , 0.09963945, 0.09608705, 0.0895384 ],\n",
       "       [0.10039081, 0.10629715, 0.0976602 , 0.09833967, 0.10344948,\n",
       "        0.09961371, 0.10872604, 0.0996044 , 0.09592416, 0.08999438],\n",
       "       [0.10067945, 0.10614354, 0.09710482, 0.09847492, 0.10344899,\n",
       "        0.09976448, 0.10858828, 0.09971837, 0.09627065, 0.08980648],\n",
       "       [0.10060813, 0.10636181, 0.09735947, 0.09855167, 0.10342653,\n",
       "        0.09955332, 0.1088645 , 0.09941266, 0.09603251, 0.08982941],\n",
       "       [0.10091323, 0.10635462, 0.09701944, 0.09833878, 0.10306677,\n",
       "        0.09964082, 0.10890854, 0.09972363, 0.09611725, 0.08991692],\n",
       "       [0.10053256, 0.10603796, 0.0976124 , 0.09844974, 0.1033566 ,\n",
       "        0.09938713, 0.10898199, 0.0998203 , 0.09575798, 0.09006333],\n",
       "       [0.10051611, 0.10646701, 0.09728775, 0.09869257, 0.10318466,\n",
       "        0.09942517, 0.10866333, 0.0997189 , 0.09625944, 0.08978506],\n",
       "       [0.100756  , 0.10654292, 0.09736932, 0.09821566, 0.10323958,\n",
       "        0.09955681, 0.10885973, 0.09998229, 0.09568523, 0.08979246],\n",
       "       [0.1007448 , 0.1066237 , 0.09710792, 0.09829445, 0.10345487,\n",
       "        0.09953396, 0.10848528, 0.10003013, 0.09579958, 0.08992532]])"
      ]
     },
     "execution_count": 9,
     "metadata": {},
     "output_type": "execute_result"
    }
   ],
   "source": [
    "y = net.predict(x)\n",
    "y"
   ]
  },
  {
   "cell_type": "markdown",
   "metadata": {},
   "source": [
    "### 4.5.2 미니배치 학습 구현\n",
    "- 미니배치 학습이란 훈련 데이터 중 일부를 무작위로 꺼내고(미니배치)\n",
    "- 미니배치에 대해서 경사법으로 매개변수를 갱신한다.\n",
    "- TwoLayerNet 클래스와 MNIST 데이터셋을 사용하여 학습을 수행해보자."
   ]
  },
  {
   "cell_type": "code",
   "execution_count": 25,
   "metadata": {},
   "outputs": [
    {
     "name": "stdout",
     "output_type": "stream",
     "text": [
      "train acc, test acc | 0.10218333333333333, 0.101\n",
      "train acc, test acc | 0.88105, 0.8861\n",
      "train acc, test acc | 0.9087166666666666, 0.9129\n",
      "train acc, test acc | 0.9193, 0.9208\n",
      "train acc, test acc | 0.92885, 0.9289\n",
      "train acc, test acc | 0.9351333333333334, 0.9365\n",
      "train acc, test acc | 0.9399, 0.9393\n",
      "train acc, test acc | 0.9447666666666666, 0.9453\n",
      "train acc, test acc | 0.9478, 0.9475\n",
      "train acc, test acc | 0.9504333333333334, 0.9473\n",
      "train acc, test acc | 0.95325, 0.9503\n",
      "train acc, test acc | 0.9551666666666667, 0.9521\n",
      "train acc, test acc | 0.9580166666666666, 0.9542\n",
      "train acc, test acc | 0.9592666666666667, 0.9555\n",
      "train acc, test acc | 0.9618333333333333, 0.9563\n",
      "train acc, test acc | 0.96295, 0.9574\n",
      "train acc, test acc | 0.9645166666666667, 0.9587\n",
      "train acc, test acc | 0.9660166666666666, 0.9603\n",
      "train acc, test acc | 0.9669333333333333, 0.9603\n",
      "train acc, test acc | 0.9681333333333333, 0.9615\n",
      "train acc, test acc | 0.9694666666666667, 0.9626\n",
      "train acc, test acc | 0.9701833333333333, 0.9624\n",
      "train acc, test acc | 0.9712833333333334, 0.9647\n",
      "train acc, test acc | 0.9719833333333333, 0.9648\n",
      "train acc, test acc | 0.9723166666666667, 0.9634\n",
      "train acc, test acc | 0.9736333333333334, 0.9655\n",
      "train acc, test acc | 0.9736166666666667, 0.9651\n",
      "train acc, test acc | 0.9749166666666667, 0.9656\n",
      "train acc, test acc | 0.9758166666666667, 0.9667\n",
      "train acc, test acc | 0.9762333333333333, 0.9669\n",
      "train acc, test acc | 0.9768, 0.9666\n",
      "train acc, test acc | 0.9773833333333334, 0.9671\n",
      "train acc, test acc | 0.9784, 0.9674\n",
      "train acc, test acc | 0.9792166666666666, 0.9679\n",
      "train acc, test acc | 0.9790333333333333, 0.9689\n",
      "train acc, test acc | 0.97975, 0.9689\n",
      "train acc, test acc | 0.98035, 0.9691\n",
      "train acc, test acc | 0.9809833333333333, 0.9694\n",
      "train acc, test acc | 0.9814333333333334, 0.9699\n",
      "train acc, test acc | 0.9818, 0.9694\n",
      "train acc, test acc | 0.9822166666666666, 0.9703\n",
      "train acc, test acc | 0.9828166666666667, 0.9702\n"
     ]
    },
    {
     "data": {
      "image/png": "[encoded data removed]",
      "text/plain": [
       "<Figure size 432x288 with 1 Axes>"
      ]
     },
     "metadata": {
      "needs_background": "light"
     },
     "output_type": "display_data"
    }
   ],
   "source": [
    "import matplotlib.pyplot as plt\n",
    "from dataset.mnist import load_mnist\n",
    "\n",
    "# 데이터 읽기\n",
    "(x_train, t_train), (x_test, t_test) = load_mnist(normalize=True, one_hot_label=True)\n",
    "\n",
    "network = TwoLayerNet(input_size=784, hidden_size=50, output_size=10)\n",
    "\n",
    "# 하이퍼파라미터\n",
    "iters_num = 25000 # 반복 횟수를 적절히 설정한다.\n",
    "train_size = x_train.shape[0]\n",
    "batch_size = 100\n",
    "learning_rate = 0.22\n",
    "\n",
    "train_loss_list = []\n",
    "train_acc_list = []\n",
    "test_acc_list = []\n",
    "\n",
    "# 1 에폭당 반복 수\n",
    "iter_per_epoch = max(train_size / batch_size, 1)\n",
    "\n",
    "for i in range(iters_num):\n",
    "    # 미니배치 획득\n",
    "    batch_mask = np.random.choice(train_size, batch_size)\n",
    "    x_batch = x_train[batch_mask]\n",
    "    t_batch = t_train[batch_mask]\n",
    "    \n",
    "    # 기울기 계산\n",
    "    # grad = network.numerical_gradient(x_batch, t_batch)\n",
    "    grad = network.gradient(x_batch, t_batch)\n",
    "    \n",
    "    # 매개변수 갱신\n",
    "    for key in (\"W1\", \"b1\", \"W2\", \"b2\"):\n",
    "        network.params[key] -= learning_rate * grad[key]\n",
    "    \n",
    "    # 학습 경과 기록\n",
    "    loss = network.loss(x_batch, t_batch)\n",
    "    train_loss_list.append(loss)\n",
    "    \n",
    "    # 1 에폭당 정확도 계산\n",
    "    if i % iter_per_epoch == 0:\n",
    "        train_acc = network.accuracy(x_train, t_train)\n",
    "        test_acc = network.accuracy(x_test, t_test)\n",
    "        train_acc_list.append(train_acc)\n",
    "        test_acc_list.append(test_acc)\n",
    "        print(\"train acc, test acc | \" + str(train_acc) + \", \" + str(test_acc))\n",
    "    \n",
    "\n",
    "# 그래프 그리기\n",
    "markers = {'train': 'o', 'test': 's'}\n",
    "x = np.arange(len(train_acc_list))\n",
    "plt.plot(x, train_acc_list, label='train acc')\n",
    "plt.plot(x, test_acc_list, label='test acc', linestyle='--')\n",
    "plt.xlabel(\"epochs\")\n",
    "plt.ylabel(\"accuracy\")\n",
    "plt.ylim(0, 1.0)\n",
    "plt.legend(loc='lower right')\n",
    "plt.show()"
   ]
  },
  {
   "cell_type": "markdown",
   "metadata": {},
   "source": [
    "- train_loss_list의 값을 이용해 손실함수 값의 추이를 알 수 있다.\n",
    "    - 학습 횟수가 늘어가면서 손실 함수의 값이 줄어든다.\n",
    "    - 매개변수가 서서히 데이터에 적응하고 있음을 의미한다."
   ]
  },
  {
   "cell_type": "code",
   "execution_count": 26,
   "metadata": {},
   "outputs": [
    {
     "data": {
      "image/png": "[encoded data removed]",
      "text/plain": [
       "<Figure size 432x288 with 1 Axes>"
      ]
     },
     "metadata": {
      "needs_background": "light"
     },
     "output_type": "display_data"
    }
   ],
   "source": [
    "markers = {'train': 'o', 'test': 's'}\n",
    "x = np.arange(len(train_loss_list))\n",
    "plt.plot(x, train_loss_list, label='train loss')\n",
    "plt.xlabel('internation')\n",
    "plt.ylabel('loss')\n",
    "plt.ylim(0, 9.0)\n",
    "plt.legend(loc='lower right')\n",
    "plt.show()"
   ]
  },
  {
   "cell_type": "markdown",
   "metadata": {},
   "source": [
    "### 4.5.3 시험 데이터로 평가하기\n",
    "- 손실함수의 값이란, 정확히는 **훈련 데이터의 미니배치에 대한 손실 함수**를 의미한다.\n",
    "- 신경망 학습에서는 **훈련 데이터 이외의 데이터**를 올바르게 인식하는 지 확인해야 한다. (`오버피팅 문제`가 발생하는 지 확인해야 한다.)"
   ]
  },
  {
   "cell_type": "markdown",
   "metadata": {},
   "source": [
    "> **에폭(epoch)**\n",
    "- 하나의 단위로 1에폭은 학습에서 훈련 데이터를 모두 소진했을 때의 횟수에 해당한다.\n",
    "- 예를 들어, 10,000개를 100개의 미니배치로 학습할 경우, 확률적 경사 하강법을 100회 반복하면 모든 훈련 데이터를 '소진'하게 된다.\n",
    "- 이 경우 100회가 1에폭이 된다."
   ]
  }
 ],
 "metadata": {
  "kernelspec": {
   "display_name": "Python 3",
   "language": "python",
   "name": "python3"
  },
  "language_info": {
   "codemirror_mode": {
    "name": "ipython",
    "version": 3
   },
   "file_extension": ".py",
   "mimetype": "text/x-python",
   "name": "python",
   "nbconvert_exporter": "python",
   "pygments_lexer": "ipython3",
   "version": "3.7.9"
  }
 },
 "nbformat": 4,
 "nbformat_minor": 4
}
